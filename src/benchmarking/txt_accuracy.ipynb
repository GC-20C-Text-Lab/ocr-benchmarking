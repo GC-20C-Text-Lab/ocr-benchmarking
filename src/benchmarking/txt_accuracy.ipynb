{
 "cells": [
  {
   "cell_type": "code",
   "execution_count": 1,
   "id": "8f247fdb",
   "metadata": {},
   "outputs": [],
   "source": [
    "import os\n",
    "import re\n",
    "from rapidfuzz import distance\n",
    "import pytesseract\n",
    "from txt_accuracy import *\n",
    "from pathlib import Path\n",
    "\n",
    "root_dir = Path.cwd().parent.parent"
   ]
  },
  {
   "cell_type": "markdown",
   "id": "2dabd7b7",
   "metadata": {},
   "source": [
    "# Example: perform OCR using pytesseract"
   ]
  },
  {
   "cell_type": "code",
   "execution_count": null,
   "id": "fdc3bcf6",
   "metadata": {},
   "outputs": [],
   "source": [
    "ground_truth = open(root_dir / 'data' / 'ground-truth' / 'txt' / 'gt_kbaa-p100.txt')\n",
    "ground_truth_text = ground_truth.read()\n",
    "ground_truth_text_clean = clean_text_normalized(ground_truth_text, index_numbers=False)\n",
    "\n",
    "ocr_text = pytesseract.image_to_string('../../data/tiffs/kbaa-p100.tif').format('tiff')\n",
    "ocr_text_clean = clean_text_normalized(ocr_text, index_numbers=False)"
   ]
  },
  {
   "cell_type": "code",
   "execution_count": 13,
   "id": "1d4d51df",
   "metadata": {},
   "outputs": [
    {
     "name": "stdout",
     "output_type": "stream",
     "text": [
      "ENTRIES 1920-1938 100\n",
      "\n",
      "Field, Joseph E. Three years in [1920]\n",
      "Texas...Boston: Abel Tompkins,\n",
      "1836. 47 p. Auto., p. 41-47. DLC.\n",
      "\n",
      "His experiences in the War with\n",
      "Mexico,\n",
      "\n",
      "Field, Richard, b. 1843. Richard [1921]\n",
      "Field, Lexington, Mo.: 1930. 38 p.\n",
      "MoK. Missouri lawyer and judge\n",
      "tells also of his youth on a farm.\n",
      "\n",
      "Field, Stephen Johnson, 1816—1899,[1922 ]\n",
      "Personal reminiscences of early\n",
      "days in California, with other\n",
      "sketches. San Francisco? 1880.\n",
      "\n",
      "248 p. WHi. By a judge and mem-\n",
      "ber of the state legislature.\n",
      "\n",
      "Fifer, Joseph Wilson, b. 1840.\n",
      "“Private Joe” Fifer. Memories\n",
      "of war & peace. Bloomington, I11,:\n",
      "Pantagraph pr. co., 1936. 104 p.\n",
      "\n",
      "WHi. Civil War soldier and\n",
      "governor of Illinois.\n",
      "\n",
      "Finch, Edwin Ward, b. 1831. The [1924]\n",
      "frontier, army and professional\n",
      "life of Edwin W. Finch...N.Y.:\n",
      "Press of Simmonds, Manning &\n",
      "Dawson, 1909. 119 p. Auto., p. 1-64.\n",
      "DLC. A New York physician tells\n",
      "of his boyhood on a Michigan\n",
      "homestead and of his service\n",
      "with the Union forces as a surgeon.\n",
      "\n",
      "Finck, Henry Theophilos,1854-— [1925]\n",
      "1926. My adventures in the golden\n",
      "age of music. N.Y.: Funk & Wag-\n",
      "nalls, 1926. 462 p. WU. Music\n",
      "critic,\n",
      "\n",
      "Finerty, John Frederick, 1846-\n",
      "1908. War-path and bivouac...\n",
      "the Big Horn and Yellowstone\n",
      "expedition. Chicago: 1890. 460 p.\n",
      "DLC. Newspaper correspondent\n",
      "with Crook, 1866-67, in the\n",
      "campaigns against the Indians\n",
      "in the West.\n",
      "\n",
      "Finley, James Bradley, 1781-1856.[1927]\n",
      "Autobiography of Rev. James B.\n",
      "Finley; or, pioneer life in the\n",
      "West. Cinc.: pr. at the Methodist\n",
      "book concern, for the author,\n",
      "\n",
      "1853. 455 p. WHi. Methodist in\n",
      "the old Northwest,\n",
      "\n",
      "Finley, James Bradley, 1781-1856.[1928]\n",
      "Life among the Indians. ..Cinc.:\n",
      "Hitchcock & Walden, 1868. 507 p.\n",
      "WHi. An enlarged version of the\n",
      "preceding item,\n",
      "\n",
      "Finn, Francis James, 1859-1928.\n",
      "Father Finn, S.J.; the story of\n",
      "his life told by himself for his\n",
      "friends young and old. N.Y.:\n",
      "Benziger bros., 1929. 236 p. NN.\n",
      "\n",
      "[1923]\n",
      "\n",
      "[1926]\n",
      "\n",
      "[1929]\n",
      "\n",
      "Teacher in St. Louis and Cincinnati,\n",
      "A pioneer promoter of juvenile lit-\n",
      "erature for Catholics.\n",
      "\n",
      "Finney, Charles Grandison, 1792- nog\n",
      "1875. Charles G. Finney. An auto-\n",
      "biography. Popular ed. London,\n",
      "N.Y.: The Slavation army book de-\n",
      "partment, 1903. 401 p. WHi. Pres-\n",
      "\n",
      "byterian, later Congregational, cler- —\n",
      "\n",
      "gyman in the middle western states,\n",
      "\n",
      "Finney, Charles Grandison, 418751931]\n",
      "The inner and outer life. ..Lon-\n",
      "don: S. W. Partridge, 1882. 32 p.\n",
      "WHi. The author left the Presby-\n",
      "terian church to become a member\n",
      "of the Salvation Church in New\n",
      "York City.\n",
      "\n",
      "Finney, John Miller Turpin,\n",
      "\n",
      "b. 1863. A surgeon’s life. N.Y.:\n",
      "Putnam, 1940. 400 p. WU. In\n",
      "Massachusetts and Maryland.\n",
      "\n",
      "Firestone, Harvey S. Men and [1933]\n",
      "rubber...Garden City: Doubleday,\n",
      "Page, 1926. 279 p. WU. Manufac-\n",
      "turer of rubber products.\n",
      "\n",
      "Fischer, Augusta Catherine, [1934]\n",
      "b, 1891. Searchlight; an autobio-\n",
      "graphy. Seattle 1937. 233 p. NN.\n",
      "\n",
      "The story of the causes leading\n",
      "\n",
      "to the author’s mental breakdown\n",
      "and her experiences in insane\n",
      "hospitals in the state of Washington.\n",
      "\n",
      "Fisher, Clara. See Maeder, Mrs.\n",
      "Clara (Fisher),\n",
      "\n",
      "Fisher, Daniel Webster, 1838-1913[1935]\n",
      "A human life...N.Y.: Revell, 1909.\n",
      "325 p. PU. Presbyterian clergy-\n",
      "man who was also president of\n",
      "Hanover College in Indiana.\n",
      "\n",
      "Fisher, Elizabeth (Munro), b.1759.[1936]\n",
      "Memoirs, of Mrs. Elizabeth Fisher,\n",
      "of the city of New York,...giving\n",
      "a particular account of a variety\n",
      "of domestic misfortunes, and also\n",
      "of her trial, and cruel condemna-\n",
      "tion to the state’s prison for six\n",
      "years, at the instance of her bro-\n",
      "ther Peter Jay Munro...N.Y.: 1810,\n",
      "48 p. DLC. By an American Tory.\n",
      "\n",
      "Fisher, George Adams, b. 1835.\n",
      "The Yankee conscript, or eighteen\n",
      "months in Dixie. Phila.: J. W.\n",
      "Daughaday, 1864. 251 p. WU. By\n",
      "a Union soldier.\n",
      "\n",
      "Fisher, Hugh Dunn, b. 1824. The [1938]\n",
      "gun and the gospel...4th ed. Kansas\n",
      "city: Hudson-Kimberly, 1902. 347 p.\n",
      "WHi. Methodist clergyman in\n",
      "Kansas, Nebraska, Utah, Idaho and\n",
      "Montana. Chaplain in the Union army.\n",
      "\n",
      "Z,\n",
      "\n",
      "Field, Joseph—Fisher, Hugh\n",
      "\n",
      "[1932] |\n",
      "\n",
      "[1937]\n",
      "\n",
      "\n"
     ]
    }
   ],
   "source": [
    "print(ocr_text)"
   ]
  },
  {
   "cell_type": "markdown",
   "id": "e1743a2d",
   "metadata": {},
   "source": [
    "# Example: Compare ground-truth and LLM cleaned text"
   ]
  },
  {
   "cell_type": "code",
   "execution_count": null,
   "id": "d02c2550",
   "metadata": {},
   "outputs": [],
   "source": [
    "ground_truth = open(root_dir / 'data' / 'ground-truth' / 'txt' / 'gt_kbaa-p101.txt')\n",
    "ground_truth_text = ground_truth.read()\n",
    "ground_truth_text_clean = clean_text_normalized(ground_truth_text)\n",
    "ground_truth_text_clean_nonorm = clean_text_nonorm(ground_truth_text)\n",
    "\n",
    "llm = open(root_dir / 'results' / 'llm-img2txt' / 'gemini-2.5-flash-no-thinking' / 'gemini-2.5-flash-no-thinking_img_kbaa-p101.txt')\n",
    "llm_text = llm.read()\n",
    "llm_text_clean = clean_text_normalized(llm_text)\n",
    "llm_text_clean_nonorm = clean_text_nonorm(llm_text)"
   ]
  },
  {
   "cell_type": "code",
   "execution_count": 3,
   "id": "ead04d21",
   "metadata": {},
   "outputs": [
    {
     "name": "stdout",
     "output_type": "stream",
     "text": [
      "========== Ground truth original ==========\n",
      "Adams, John Quincy-Akeley 5 ENTRIES 39-57\n",
      "\n",
      "1850-56. 10 vols. Auto., vol. 2, p. 503-517; vol. 3, p. 3-88. WHi. This account closes with 1776, and stresses his accomplishments in the Congress.\n",
      "Adams, John Quincy, b. 1845. Narrative...Harrisburg: Sieg, printer, 1872. 64 p. MH. Slave in Virginia; free laborer in Pa. [39]\n",
      "Adams, John Quincy, 1849-1940. An old boy remembers. Boston: Ruth Hill, 1935. 125 p. NN. The writer, a Presbyterian minister, devotes the greater portion of his book to his early life in western New York state and to his schooling including his years at the University of Rochester and the Auburn Theological Seminary. [40]\n",
      "Adams, Juliette (Graves), b. 1858. Chapters from a musical life. A short autobiographical narrative, by Mrs. Crosby Adams. Chicago: C. Adams 1903. 138 p. DLC. Music teacher in New York and Chicago. [41]\n",
      "Adams, Mary Still, b. 1839. Autobiography...Los Angeles: Buckingham bros., printers, 1893. 288 p. CLSU. Kansas school-teacher marries clergyman and devotes self to work with fallen women. [42]\n",
      "Adams, Nelson, b. 1831. The Elijah Adams family of Hubbardston, Mass., and a retrospect of activities in seven cities and seven decades; an autobiography. Springfield, Mass.: Published by the author, 1910. 236 p. NN. The writer was active in the livestock byproducts industry for many years in New England and New York. [43]\n",
      "Addams, Jane, 1860-1935. Twenty years at Hull House. N.Y.: Macmillan, 1910. 462 p. WU. Social reformer in Chicago. See also the next entry. [44]\n",
      "Addams, Jane, 1860-1935. The second twenty years at Hull House. N.Y.: Macmillan, 1930. 413 p. WU. [45]\n",
      "Adger, John Bailey, 1810-1899. My life and times, 1810-1899. Richmond, Va.: The Presbyterian Committee of publications, 1899. 681 p. NN. Presbyterian minister. Early life, missionary labors in Armenia and among Negroes of Charleston, S.C., active in Southern Presbyterian Church in theological and scientific controversies. [46]\n",
      "Adkins, Ettie Aurelia. One Texas old maid. Dallas: W. T. Tardy, 1938. 285 p. TxH. Dietitian. [47]\n",
      "Adler, Cyrus, b. 1863. I have considered the days. Phila.: Jewish publication society of America, 1941. 429 p. WHi. Archeologist at Smithsonian. President of Dropsie College (theology) in Phila. [48]\n",
      "Adler, Felix, 1851-1933. An ethical philosophy of life...N.Y.: D. Appleton, 1913. 380 p. WU. A spiritual autobiography by a Jew who deserted Judaism. [49]\n",
      "Adolph, Paul Ernest, b. 1901. Surgery speaks to China. Philadelphia: China inland mission, 1945. 195 p. DLC. A missionary surgeon in China during the thirties and forties. [50]\n",
      "Agle, William C., b. 1859. In the footsteps of Pizarro...Seattle: Homer M. Hill Co., 1903. 365 p. DLC. The adventures of a mining engineer in the gold mines of South America. [51]\n",
      "Agnew, (Mrs.) Anna. From under the cloud. Cinc.: 1886. 196 p. DLC. Experiences in a hospital for the mentally ill. [52]\n",
      "Ainslie, Peter. Some experiments in living. N.Y.: Association press, 1933. 190 p. MoCanD. By a clergyman of the Disciples of Christ. [53]\n",
      "Ainslie, Peter. Working with God...St. Louis: Christian board of education, 1917. 383 p. MoCanD. In Baltimore, by a clergyman of the Disciples of Christ. [54]\n",
      "Ainsworth, Danforth Hurlbut, 1828-1904. Recollections of a civil engineer; experiences in New York, Iowa, Nebraska, Dakota, Illinois, Missouri, Minnesota and Colorado. Newton, Iowa: 1893. 177 p. NN. Railroad construction work. [55]\n",
      "Ajax. See Cox, W.D.\n",
      "Ake, Jeff, b. 1845. They die but once...by James B. O'Neil. N.Y.: Knight, 1935. 228 p. DLC. Texas cowboy and rancher; sheriff in New Mexico and Arizona. An account based on conversations with the biographee. [56]\n",
      "Akeley, Carl Ethan, 1864-1926. In brightest Africa. Garden City, N.Y.: Doubleday, Page, 1923. 267 p. [57]\n",
      "========== LLM original ==========\n",
      "ADAMS, JOHN QUINCY-AKELEY 5 ENTRIES 39-57\n",
      "Adams, John Quincy-Akeley\n",
      "1850-56. 10 vols. Auto., vol. 2, p. 503-517; vol. 3, p. 3-88. WHI. This account closes with 1776, and stresses his accomplishments in the Congress.\n",
      "Adams, John Quincy, b. 1845. Nar- [39] rative...Harrisburg: Sieg, printer, 1872. 64 p. MH. Slave in Virginia; free laborer in Pa.\n",
      "Adams, John Quincy, 1849-1940. [40] An old boy remembers. Boston: Ruth Hill, 1935. 125 p. NN. The writer, a Presbyterian minister, devotes the greater portion of his book to his early life in western New York state and to his school- ing including his years at the University of Rochester and the Auburn Theological Seminary.\n",
      "Adams, Juliette (Graves), b. 1858. [41] Chapters from a musical life. A short autobiographical narra- tive, by Mrs. Crosby Adams. Chi- cago: C. Adams 1903. 138 p. DLC. Music teacher in New York and Chicago.\n",
      "Adams, Mary Still, b. 1839. Auto- [42] biography...Los Angeles: Buckingham bros., printers, 1893. 288 p. CLSU. Kansas school- teacher marries clergyman and devotes self to work with fallen women.\n",
      "Adams, Nelson, b. 1831. The [43] Elijah Adams family of Hubbards- ton, Mass., and a retrospect of activities in seven cities and seven decades; an autobiography. Springfield, Mass.: Published by the author, 1910. 236 p. NN. The writer was active in the livestock byproducts industry for many years in New England and New York.\n",
      "Addams, Jane, 1860-1935. [44] Twenty years at Hull House. N.Y.: Macmillan, 1910. 462 p. WU. Social reformer in Chicago. See also the next entry.\n",
      "Addams, Jane, 1860-1935. The [45] second twenty years at Hull House. N.Y.: Macmillan, 1930. 413 p. WU.\n",
      "Adger, John Bailey, 1810-1899. [46] My life and times, 1810-1899. Richmond, Va.: The Presbyterian Committee of publications, 1899. 681 p. NN. Presbyterian minister. Early life, missionary labors in Armenia and among Negroes of\n",
      "Charleston, S.C., active in Southern Presbyterian Church in theological and scientific controversies.\n",
      "Adkins Ettie Aurelia. One Texas [47] old maid. Dallas: W. T. Tardy, 1938. 285 p. TxH. Dietitian.\n",
      "Adler, Cyrus, b. 1863. I have con- [48] sidered the days. Phila.: Jewish publication society of America, 1941. 429 p. WHI. Archeologist at Smithsonian. President of Dropsie College (theology) in Phila.\n",
      "Adler, Felix, 1851-1933. An ethical [49] philosophy of life...N.Y.: D. Appleton, 1913. 380 p. WU. A spiritual autobiography by a Jew who deserted Judaism.\n",
      "Adolph, Paul Ernest, b. 1901. Sur- [50] gery speaks to China. Philadel- phia: China inland mission, 1945. 195 p. DLC. A missionary surgeon in China during the thirties and forties.\n",
      "Agle, William C., b. 1859. In the [51] footsteps of Pizarro...Seattle: Homer M. Hill Co., 1903. 365 p. DLC. The adventures of a mining engineer in the gold mines of South America.\n",
      "Agnew, (Mrs.) Anna. From under [52] the cloud. Cinc.: 1886. 196 p. DLC. Experiences in a hospital for the mentally ill.\n",
      "Ainslie, Peter. Some experiments [53] in living. N.Y.: Association press, 1933. 190 p. MoCanD. By a clergy- man of the Disciples of Christ.\n",
      "Ainslie, Peter. Working with God [54] ...St. Louis: Christian board of education, 1917. 383 p. MoCanD. In Baltimore, by a clergyman of the Disciples of Christ.\n",
      "Ainsworth, Danforth Hurlbut, 1828- [55] 1904. Recollections of a civil engineer; experiences in New York, Iowa, Nebraska, Dakota, Illinois, Missouri, Minnesota and Colorado. Newton, Iowa: 1893. 177 p. NN. Railroad construction work.\n",
      "Ajax. See Cox, W.D.\n",
      "Ake, Jeff, b. 1845. They die but [56] once...by James B. O'Neil. N.Y.: Knight, 1935. 228 p. DLC. Texas cowboy and rancher; sheriff in New Mexico and Arizona. An account based on conversations with the biographee.\n",
      "Akeley, Carl Ethan, 1864-1926. [57] In brightest Africa. Garden City, N.Y.: Doubleday, Page, 1923. 267 p.\n",
      "========== Ground truth cleaned ==========\n",
      "adams john quincyakeley 5 entries 3957 185056 10 vols auto vol 2 p 503517 vol 3 p 388 whi this account closes with 1776 and stresses his accomplishments in the congress adams john quincy b 1845 narrative harrisburg sieg printer 1872 64 p mh slave in virginia free laborer in pa 39 adams john quincy 18491940 an old boy remembers boston ruth hill 1935 125 p nn the writer a presbyterian minister devotes the greater portion of his book to his early life in western new york state and to his schooling including his years at the university of rochester and the auburn theological seminary 40 adams juliette graves b 1858 chapters from a musical life a short autobiographical narrative by mrs crosby adams chicago c adams 1903 138 p dlc music teacher in new york and chicago 41 adams mary still b 1839 autobiography los angeles buckingham bros printers 1893 288 p clsu kansas schoolteacher marries clergyman and devotes self to work with fallen women 42 adams nelson b 1831 the elijah adams family of hubbardston mass and a retrospect of activities in seven cities and seven decades an autobiography springfield mass published by the author 1910 236 p nn the writer was active in the livestock byproducts industry for many years in new england and new york 43 addams jane 18601935 twenty years at hull house n y macmillan 1910 462 p wu social reformer in chicago see also the next entry 44 addams jane 18601935 the second twenty years at hull house n y macmillan 1930 413 p wu 45 adger john bailey 18101899 my life and times 18101899 richmond va the presbyterian committee of publications 1899 681 p nn presbyterian minister early life missionary labors in armenia and among negroes of charleston s c active in southern presbyterian church in theological and scientific controversies 46 adkins ettie aurelia one texas old maid dallas w t tardy 1938 285 p txh dietitian 47 adler cyrus b 1863 i have considered the days phila jewish publication society of america 1941 429 p whi archeologist at smithsonian president of dropsie college theology in phila 48 adler felix 18511933 an ethical philosophy of life n y d appleton 1913 380 p wu a spiritual autobiography by a jew who deserted judaism 49 adolph paul ernest b 1901 surgery speaks to china philadelphia china inland mission 1945 195 p dlc a missionary surgeon in china during the thirties and forties 50 agle william c b 1859 in the footsteps of pizarro seattle homer m hill co 1903 365 p dlc the adventures of a mining engineer in the gold mines of south america 51 agnew mrs anna from under the cloud cinc 1886 196 p dlc experiences in a hospital for the mentally ill 52 ainslie peter some experiments in living n y association press 1933 190 p mocand by a clergyman of the disciples of christ 53 ainslie peter working with god st louis christian board of education 1917 383 p mocand in baltimore by a clergyman of the disciples of christ 54 ainsworth danforth hurlbut 18281904 recollections of a civil engineer experiences in new york iowa nebraska dakota illinois missouri minnesota and colorado newton iowa 1893 177 p nn railroad construction work 55 ajax see cox w d ake jeff b 1845 they die but once by james b oneil n y knight 1935 228 p dlc texas cowboy and rancher sheriff in new mexico and arizona an account based on conversations with the biographee 56 akeley carl ethan 18641926 in brightest africa garden city n y doubleday page 1923 267 p 57\n",
      "========== LLM cleaned ==========\n",
      "adams john quincyakeley 5 entries 3957 adams john quincyakeley 185056 10 vols auto vol 2 p 503517 vol 3 p 388 whi this account closes with 1776 and stresses his accomplishments in the congress adams john quincy b 1845 nar 39 rative harrisburg sieg printer 1872 64 p mh slave in virginia free laborer in pa adams john quincy 18491940 40 an old boy remembers boston ruth hill 1935 125 p nn the writer a presbyterian minister devotes the greater portion of his book to his early life in western new york state and to his schooling including his years at the university of rochester and the auburn theological seminary adams juliette graves b 1858 41 chapters from a musical life a short autobiographical narrative by mrs crosby adams chicago c adams 1903 138 p dlc music teacher in new york and chicago adams mary still b 1839 auto 42 biography los angeles buckingham bros printers 1893 288 p clsu kansas schoolteacher marries clergyman and devotes self to work with fallen women adams nelson b 1831 the 43 elijah adams family of hubbardston mass and a retrospect of activities in seven cities and seven decades an autobiography springfield mass published by the author 1910 236 p nn the writer was active in the livestock byproducts industry for many years in new england and new york addams jane 18601935 44 twenty years at hull house n y macmillan 1910 462 p wu social reformer in chicago see also the next entry addams jane 18601935 the 45 second twenty years at hull house n y macmillan 1930 413 p wu adger john bailey 18101899 46 my life and times 18101899 richmond va the presbyterian committee of publications 1899 681 p nn presbyterian minister early life missionary labors in armenia and among negroes of charleston s c active in southern presbyterian church in theological and scientific controversies adkins ettie aurelia one texas 47 old maid dallas w t tardy 1938 285 p txh dietitian adler cyrus b 1863 i have con 48 sidered the days phila jewish publication society of america 1941 429 p whi archeologist at smithsonian president of dropsie college theology in phila adler felix 18511933 an ethical 49 philosophy of life n y d appleton 1913 380 p wu a spiritual autobiography by a jew who deserted judaism adolph paul ernest b 1901 sur 50 gery speaks to china philadelphia china inland mission 1945 195 p dlc a missionary surgeon in china during the thirties and forties agle william c b 1859 in the 51 footsteps of pizarro seattle homer m hill co 1903 365 p dlc the adventures of a mining engineer in the gold mines of south america agnew mrs anna from under 52 the cloud cinc 1886 196 p dlc experiences in a hospital for the mentally ill ainslie peter some experiments 53 in living n y association press 1933 190 p mocand by a clergyman of the disciples of christ ainslie peter working with god 54 st louis christian board of education 1917 383 p mocand in baltimore by a clergyman of the disciples of christ ainsworth danforth hurlbut 1828 55 1904 recollections of a civil engineer experiences in new york iowa nebraska dakota illinois missouri minnesota and colorado newton iowa 1893 177 p nn railroad construction work ajax see cox w d ake jeff b 1845 they die but 56 once by james b oneil n y knight 1935 228 p dlc texas cowboy and rancher sheriff in new mexico and arizona an account based on conversations with the biographee akeley carl ethan 18641926 57 in brightest africa garden city n y doubleday page 1923 267 p\n"
     ]
    }
   ],
   "source": [
    "print('========== Ground truth original ==========')\n",
    "print(ground_truth_text)\n",
    "print('========== LLM original ==========')\n",
    "print(llm_text)\n",
    "print('========== Ground truth cleaned ==========')\n",
    "print(ground_truth_text_clean)\n",
    "print('========== LLM cleaned ==========')\n",
    "print(llm_text_clean)"
   ]
  },
  {
   "cell_type": "code",
   "execution_count": 8,
   "id": "044b4766",
   "metadata": {},
   "outputs": [
    {
     "data": {
      "text/plain": [
       "3304"
      ]
     },
     "execution_count": 8,
     "metadata": {},
     "output_type": "execute_result"
    }
   ],
   "source": [
    "len(ground_truth_text_clean)"
   ]
  },
  {
   "cell_type": "markdown",
   "id": "cc844434",
   "metadata": {},
   "source": [
    "# Example: compute metrics"
   ]
  },
  {
   "cell_type": "code",
   "execution_count": 13,
   "id": "ae7af3e9",
   "metadata": {},
   "outputs": [
    {
     "data": {
      "text/plain": [
       "{'dist_char': 27,\n",
       " 'cer': 0.007696693272519955,\n",
       " 'dist_word': 27,\n",
       " 'wer': 0.0430622009569378,\n",
       " 'token_sort_ratio': 99.50135346915515}"
      ]
     },
     "execution_count": 13,
     "metadata": {},
     "output_type": "execute_result"
    }
   ],
   "source": [
    "compute_metrics(ground_truth_text, llm_text, doc_format='txt', normalized=True, index_numbers=True)"
   ]
  },
  {
   "cell_type": "markdown",
   "id": "74e6c3a5",
   "metadata": {},
   "source": [
    "# Example: build a dataframe of results (using synthetic data)"
   ]
  },
  {
   "cell_type": "code",
   "execution_count": 12,
   "id": "1a9336bb",
   "metadata": {},
   "outputs": [
    {
     "data": {
      "text/html": [
       "<div>\n",
       "<style scoped>\n",
       "    .dataframe tbody tr th:only-of-type {\n",
       "        vertical-align: middle;\n",
       "    }\n",
       "\n",
       "    .dataframe tbody tr th {\n",
       "        vertical-align: top;\n",
       "    }\n",
       "\n",
       "    .dataframe thead th {\n",
       "        text-align: right;\n",
       "    }\n",
       "</style>\n",
       "<table border=\"1\" class=\"dataframe\">\n",
       "  <thead>\n",
       "    <tr style=\"text-align: right;\">\n",
       "      <th></th>\n",
       "      <th>a:dist_char</th>\n",
       "      <th>a:doc_len</th>\n",
       "      <th>a:cer_pct</th>\n",
       "      <th>a:wer_pct</th>\n",
       "      <th>b:dist_char</th>\n",
       "      <th>b:doc_len</th>\n",
       "      <th>b:cer_pct</th>\n",
       "      <th>b:wer_pct</th>\n",
       "      <th>__ALL__:dist_char</th>\n",
       "      <th>__ALL__:doc_len</th>\n",
       "      <th>__ALL__:cer_pct</th>\n",
       "      <th>__ALL__:wer_pct</th>\n",
       "    </tr>\n",
       "  </thead>\n",
       "  <tbody>\n",
       "    <tr>\n",
       "      <th>pytesseract</th>\n",
       "      <td>1</td>\n",
       "      <td>100</td>\n",
       "      <td>1.0</td>\n",
       "      <td>10.0</td>\n",
       "      <td>1</td>\n",
       "      <td>100</td>\n",
       "      <td>1.0</td>\n",
       "      <td>10.0</td>\n",
       "      <td>1</td>\n",
       "      <td>200</td>\n",
       "      <td>1.0</td>\n",
       "      <td>10.0</td>\n",
       "    </tr>\n",
       "  </tbody>\n",
       "</table>\n",
       "</div>"
      ],
      "text/plain": [
       "            a:dist_char a:doc_len a:cer_pct a:wer_pct b:dist_char b:doc_len  \\\n",
       "pytesseract           1       100       1.0      10.0           1       100   \n",
       "\n",
       "            b:cer_pct b:wer_pct __ALL__:dist_char __ALL__:doc_len  \\\n",
       "pytesseract       1.0      10.0                 1             200   \n",
       "\n",
       "            __ALL__:cer_pct __ALL__:wer_pct  \n",
       "pytesseract             1.0            10.0  "
      ]
     },
     "execution_count": 12,
     "metadata": {},
     "output_type": "execute_result"
    }
   ],
   "source": [
    "doc_names = ['a', 'b']\n",
    "results_data = {\n",
    "    'pytesseract': {\n",
    "        'a': {\n",
    "            'dist_char': 1,\n",
    "            'cer': 0.01,\n",
    "            'wer': 0.1,\n",
    "        },\n",
    "        'b': {\n",
    "            'dist_char': 1,\n",
    "            'cer': 0.01,\n",
    "            'wer': 0.1,\n",
    "        },\n",
    "        '__ALL__': {\n",
    "            'dist_char': 1,\n",
    "            'cer': 0.01,\n",
    "            'wer': 0.1,\n",
    "        },\n",
    "    },\n",
    "}\n",
    "doc_lengths = {'a': 100, 'b': 100}\n",
    "total_doc_len = 200\n",
    "build_dataframe('title', doc_names, results_data, doc_lengths, total_doc_len)"
   ]
  },
  {
   "cell_type": "markdown",
   "id": "0d25f788",
   "metadata": {},
   "source": [
    "# Example: run txt_accuracy's main function"
   ]
  },
  {
   "cell_type": "code",
   "execution_count": 15,
   "id": "712f2883",
   "metadata": {},
   "outputs": [
    {
     "name": "stderr",
     "output_type": "stream",
     "text": [
      "2025-06-11 17:22:27 [INFO] Script directory: /Users/timyu/projects/GC-20C-Text-Lab/ocr-benchmarking/src/benchmarking\n",
      "2025-06-11 17:22:27 [INFO] Project root: /Users/timyu/projects/GC-20C-Text-Lab/ocr-benchmarking\n",
      "2025-06-11 17:22:27 [INFO] Found ground-truth txt files: ['/Users/timyu/projects/GC-20C-Text-Lab/ocr-benchmarking/data/ground-truth/txt/kbaa-p#100.txt']\n",
      "2025-06-11 17:22:27 [INFO] Found file names: ['kbaa-p#100']\n",
      "2025-06-11 17:22:27 [INFO] Models found: [('ocr_img2txt', 'pytesseract')]\n",
      "2025-06-11 17:22:27 [INFO] Collecting results for model: pytesseract\n",
      "2025-06-11 17:22:27 [INFO] Collected results for model: ['kbaa-p#100', '__ALL__']\n",
      "2025-06-11 17:22:27 [INFO] Computing metrics for model: pytesseract\n",
      "2025-06-11 17:22:27 [INFO] Computing metrics for document: kbaa-p#100\n"
     ]
    }
   ],
   "source": [
    "main()"
   ]
  }
 ],
 "metadata": {
  "kernelspec": {
   "display_name": "base",
   "language": "python",
   "name": "python3"
  },
  "language_info": {
   "codemirror_mode": {
    "name": "ipython",
    "version": 3
   },
   "file_extension": ".py",
   "mimetype": "text/x-python",
   "name": "python",
   "nbconvert_exporter": "python",
   "pygments_lexer": "ipython3",
   "version": "3.12.2"
  }
 },
 "nbformat": 4,
 "nbformat_minor": 5
}
