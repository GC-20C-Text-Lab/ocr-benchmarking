{
 "cells": [
  {
   "cell_type": "code",
   "execution_count": 67,
   "id": "8f247fdb",
   "metadata": {},
   "outputs": [],
   "source": [
    "import os\n",
    "import re\n",
    "from rapidfuzz import distance\n",
    "import pytesseract"
   ]
  },
  {
   "cell_type": "code",
   "execution_count": null,
   "id": "63bbe224",
   "metadata": {},
   "outputs": [],
   "source": [
    "# Helper functions\n",
    "# Based on code from https://github.com/niclasgriesshaber/llm_historical_dataset_benchmarking/blob/main/src/benchmarking/txt_accuracy.py\n",
    "\n",
    "def clean_text_nonorm(text, index_numbers=True):\n",
    "    \"\"\"\n",
    "    Minimal cleaning:\n",
    "      - Remove index numbers (if specified)\n",
    "      - Remove linebreaks/tabs (replace with space)\n",
    "      - Remove all instances of \\\"- \\\" (dash space; word separated by line break)\n",
    "      - Collapse multiple spaces\n",
    "      - Strip leading/trailing\n",
    "      - Preserve punctuation, casing, accented letters\n",
    "    \"\"\"\n",
    "    text = re.sub(r\" *\\[ *[0-9]+ *\\] *\", \" \", text) if not index_numbers else text\n",
    "    text = text.replace('\\n', ' ').replace('\\r', ' ').replace('\\t', ' ').replace('- ', '')\n",
    "    text = re.sub(r\"\\s+\", \" \", text)\n",
    "    return text.strip()\n",
    "\n",
    "\n",
    "def clean_text_normalized(text, index_numbers):\n",
    "    \"\"\"\n",
    "    Fully normalized:\n",
    "      - Remove linebreaks/tabs\n",
    "      - Remove all instances of \\\"- \\\" (dash space; word separated by line break)\n",
    "      - Remove all non-ASCII (accented letters are dropped)\n",
    "      - Convert to lowercase\n",
    "      - Remove punctuation => keep only [a-z0-9] plus spaces\n",
    "      - Collapse multiple spaces\n",
    "      - Strip leading/trailing\n",
    "    \"\"\"\n",
    "    # Remove linebreaks/tabs\n",
    "    text = clean_text_nonorm(text, index_numbers)\n",
    "\n",
    "    # Remove all non-ASCII\n",
    "    text = text.encode(\"ascii\", errors=\"ignore\").decode(\"ascii\")\n",
    "\n",
    "    # Lowercase\n",
    "    text = text.lower()\n",
    "\n",
    "    # Keep only [a-z0-9] + space\n",
    "    text = re.sub(r\"[^a-z0-9 ]+\", \"\", text)\n",
    "\n",
    "    # Collapse multiple spaces again\n",
    "    text = re.sub(r\"\\s+\", \" \", text)\n",
    "    return text.strip()\n",
    "\n",
    "\n",
    "def compute_metrics(ref_text, hyp_text, normalized=False, index_numbers=True):\n",
    "    \"\"\"\n",
    "    Compute Levenshtein distance, CER, WER.\n",
    "    If normalized=True => use clean_text_normalized,\n",
    "    else => use clean_text_nonorm.\n",
    "    If index_numbers=True => keep index numbers\n",
    "    else => remove index numbers\n",
    "    \"\"\"\n",
    "    if normalized:\n",
    "        ref_clean = clean_text_normalized(ref_text, index_numbers)\n",
    "        hyp_clean = clean_text_normalized(hyp_text, index_numbers)\n",
    "    else:\n",
    "        ref_clean = clean_text_nonorm(ref_text, index_numbers)\n",
    "        hyp_clean = clean_text_nonorm(hyp_text, index_numbers)\n",
    "\n",
    "    dist_char = distance.Levenshtein.distance(ref_clean, hyp_clean)\n",
    "    ref_len = len(ref_clean)\n",
    "\n",
    "    cer = dist_char / ref_len if ref_len > 0 else 0.0\n",
    "\n",
    "    # For WER, split by whitespace\n",
    "    ref_words = ref_clean.split()\n",
    "    hyp_words = hyp_clean.split()\n",
    "    dist_word = distance.Levenshtein.distance(\"\\n\".join(ref_words), \"\\n\".join(hyp_words))\n",
    "    wer = dist_word / len(ref_words) if len(ref_words) > 0 else 0.0\n",
    "\n",
    "    return dist_char, cer, wer"
   ]
  },
  {
   "cell_type": "code",
   "execution_count": 69,
   "id": "fdc3bcf6",
   "metadata": {},
   "outputs": [],
   "source": [
    "ground_truth = open('../../data/ground-truth/txt/kbaa-p#100.txt')\n",
    "ground_truth_text = ground_truth.read()\n",
    "ground_truth_text_clean = clean_text_normalized(ground_truth_text, index_numbers=False)\n",
    "\n",
    "ocr_text = pytesseract.image_to_string('../../data/tiffs/kbaa-p#100.tif')\n",
    "ocr_text_clean = clean_text_normalized(ocr_text, index_numbers=False)"
   ]
  },
  {
   "cell_type": "code",
   "execution_count": 70,
   "id": "1d4d51df",
   "metadata": {},
   "outputs": [
    {
     "name": "stdout",
     "output_type": "stream",
     "text": [
      "entries 19201938 100 field josephfisher hugh field joseph e three years in texasboston abel tompkins 1836 47 p auto p 4147 dlc his experiences in the war with mexico field richard b 1843 richard field lexington mo 1930 38 p mok missouri lawyer and judge tells also of his youth on a farm field stephen johnson 18161899 personal reminiscences of early days in california with other sketches san francisco 1880 248 p whi by a judge and member of the state legislature fifer joseph wilson b 1840 private joe fifer memories of war peace bloomington ill pantagraph pr co 1936 104 p whi civil war soldier and governor of illinois finch edwin ward b 1831 the frontier army and professional life of edwin w finchny press of simmonds manning dawson 1909 119 p auto p 164 dlc a new york physician tells of his boyhood on a michigan homestead and of his service with the union forces as a surgeon finck henry theophilos 18541926 my adventures in the golden age of music ny funk wagnalls 1926 462 p wu music critic finerty john frederick 18461908 warpath and bivouac the big horn and yellowstone expedition chicago 1890 460 p dlc newspaper correspondent with crook 186667 in the campaigns against the indians in the west finley james bradley 17811856 autobiography of rev james b finley or pioneer life in the west cinc pr at the methodist book concern for the author 1853 455 p whi methodist in the old northwest finley james bradley 17811856 life among the indianscinc hitchcock walden 1868 507 p whi an enlarged version of the previous item finn francis james 18591928 father finn sj the story of his life told by himself for his friends young and old ny benziger bros 1929 236 p nn teacher in st louis and cincinnati a pioneer promoter of juvenile literature for catholics finney charles grandison 17921875 charles g finney an autobiography popular ed london ny the slavation army book department 1903 401 p whi presbyterian later congregational clergyman in the middle western states finney charles grandison d1875 the inner and outer lifelondon s w partridge 1882 32 p whi the author left the presbyterian church to become a member of the salvation church in new york city finney john miller turpin b 1863 a surgeons life ny putnam 1940 400 p wu in massachusetts and maryland firestone harvey s men and rubbergarden city doubleday page 1926 279 p wu manufacturer of rubber products fischer augusta catherine b 1891 searchlight an autobiography seattle 1937 233 p nn the story of the causes leading to the authors mental breakdown and her experiences in insane hospitals in the state of washington fisher clara see maeder mrs clara fisher fisher daniel webster 18381913 a human lifeny revell 1909 325 p pu presbyterian clergyman who was also president of hanover college in indiana fisher elizabeth munro b 1759 memoirs of mrs elizabeth fisher of the city of new yorkgiving a particular account of a variety of domestic misfortunes and also of her trial and cruel condemnation to the states prison for six years at the instance of her brother peter jay munrony 1810 48 p dlc by and american tory fisher george adams b 1835 the yankee conscript or eighteen months in dixie phila j w daughaday 1864 251 p wu by a union soldier fisher hugh dunn b 1824 the gun and the gospel4th ed kansas city hudsonkimberly 1902 347 p whi methodist clergyman in kansas nebraska utah idaho and montana chaplain in the union army\n",
      "entries 19201938 100 field joseph e three years in texasboston abel tompkins 1836 47 p auto p 4147 dlc his experiences in the war with mexico field richard b 1843 richard field lexington mo 1930 38 p mok missouri lawyer and judge tells also of his youth on a farm field stephen johnson 18161899 personal reminiscences of early days in california with other sketches san francisco 1880 248 p whi by a judge and member of the state legislature fifer joseph wilson b 1840 private joe fifer memories of war peace bloomington i11 pantagraph pr co 1936 104 p whi civil war soldier and governor of illinois finch edwin ward b 1831 the frontier army and professional life of edwin w finchny press of simmonds manning dawson 1909 119 p auto p 164 dlc a new york physician tells of his boyhood on a michigan homestead and of his service with the union forces as a surgeon finck henry theophilos1854 1926 my adventures in the golden age of music ny funk wagnalls 1926 462 p wu music critic finerty john frederick 18461908 warpath and bivouac the big horn and yellowstone expedition chicago 1890 460 p dlc newspaper correspondent with crook 186667 in the campaigns against the indians in the west finley james bradley 17811856 autobiography of rev james b finley or pioneer life in the west cinc pr at the methodist book concern for the author 1853 455 p whi methodist in the old northwest finley james bradley 17811856 life among the indians cinc hitchcock walden 1868 507 p whi an enlarged version of the preceding item finn francis james 18591928 father finn sj the story of his life told by himself for his friends young and old ny benziger bros 1929 236 p nn teacher in st louis and cincinnati a pioneer promoter of juvenile literature for catholics finney charles grandison 1792nog 1875 charles g finney an autobiography popular ed london ny the slavation army book department 1903 401 p whi pres byterian later congregational cler gyman in the middle western states finney charles grandison 418751931 the inner and outer life london s w partridge 1882 32 p whi the author left the presbyterian church to become a member of the salvation church in new york city finney john miller turpin b 1863 a surgeons life ny putnam 1940 400 p wu in massachusetts and maryland firestone harvey s men and rubbergarden city doubleday page 1926 279 p wu manufacturer of rubber products fischer augusta catherine b 1891 searchlight an autobiography seattle 1937 233 p nn the story of the causes leading to the authors mental breakdown and her experiences in insane hospitals in the state of washington fisher clara see maeder mrs clara fisher fisher daniel webster 18381913 a human lifeny revell 1909 325 p pu presbyterian clergyman who was also president of hanover college in indiana fisher elizabeth munro b1759 memoirs of mrs elizabeth fisher of the city of new yorkgiving a particular account of a variety of domestic misfortunes and also of her trial and cruel condemnation to the states prison for six years at the instance of her brother peter jay munrony 1810 48 p dlc by an american tory fisher george adams b 1835 the yankee conscript or eighteen months in dixie phila j w daughaday 1864 251 p wu by a union soldier fisher hugh dunn b 1824 the gun and the gospel4th ed kansas city hudsonkimberly 1902 347 p whi methodist clergyman in kansas nebraska utah idaho and montana chaplain in the union army z field josephfisher hugh\n"
     ]
    }
   ],
   "source": [
    "print(ground_truth_text_clean)\n",
    "print(ocr_text_clean)"
   ]
  },
  {
   "cell_type": "code",
   "execution_count": 71,
   "id": "ae7af3e9",
   "metadata": {},
   "outputs": [
    {
     "data": {
      "text/plain": [
       "(110, 0.029522275899087493, 0.18487394957983194)"
      ]
     },
     "execution_count": 71,
     "metadata": {},
     "output_type": "execute_result"
    }
   ],
   "source": [
    "compute_metrics(ground_truth_text, ocr_text, normalized=False, index_numbers=False)"
   ]
  }
 ],
 "metadata": {
  "kernelspec": {
   "display_name": "base",
   "language": "python",
   "name": "python3"
  },
  "language_info": {
   "codemirror_mode": {
    "name": "ipython",
    "version": 3
   },
   "file_extension": ".py",
   "mimetype": "text/x-python",
   "name": "python",
   "nbconvert_exporter": "python",
   "pygments_lexer": "ipython3",
   "version": "3.12.7"
  }
 },
 "nbformat": 4,
 "nbformat_minor": 5
}
