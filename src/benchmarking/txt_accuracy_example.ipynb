{
 "cells": [
  {
   "cell_type": "code",
   "execution_count": 1,
   "id": "8f247fdb",
   "metadata": {},
   "outputs": [],
   "source": [
    "import os\n",
    "import re\n",
    "from rapidfuzz import distance\n",
    "import pytesseract\n",
    "from txt_accuracy import *\n",
    "from pathlib import Path\n",
    "\n",
    "root_dir = Path.cwd().parent.parent"
   ]
  },
  {
   "cell_type": "markdown",
   "id": "2dabd7b7",
   "metadata": {},
   "source": [
    "# Example: perform OCR using pytesseract"
   ]
  },
  {
   "cell_type": "code",
   "execution_count": null,
   "id": "fdc3bcf6",
   "metadata": {},
   "outputs": [],
   "source": [
    "ground_truth = open(root_dir / 'data' / 'ground-truth' / 'txt' / 'gt_kbaa-p100.txt')\n",
    "ground_truth_text = ground_truth.read()\n",
    "ground_truth_text_clean = clean_text_normalized(ground_truth_text, index_numbers=False)\n",
    "\n",
    "ocr_text = pytesseract.image_to_string('../../data/tiffs/kbaa-p100.tif').format('tiff')\n",
    "ocr_text_clean = clean_text_normalized(ocr_text, index_numbers=False)"
   ]
  },
  {
   "cell_type": "code",
   "execution_count": 13,
   "id": "1d4d51df",
   "metadata": {},
   "outputs": [
    {
     "name": "stdout",
     "output_type": "stream",
     "text": [
      "ENTRIES 1920-1938 100\n",
      "\n",
      "Field, Joseph E. Three years in [1920]\n",
      "Texas...Boston: Abel Tompkins,\n",
      "1836. 47 p. Auto., p. 41-47. DLC.\n",
      "\n",
      "His experiences in the War with\n",
      "Mexico,\n",
      "\n",
      "Field, Richard, b. 1843. Richard [1921]\n",
      "Field, Lexington, Mo.: 1930. 38 p.\n",
      "MoK. Missouri lawyer and judge\n",
      "tells also of his youth on a farm.\n",
      "\n",
      "Field, Stephen Johnson, 1816—1899,[1922 ]\n",
      "Personal reminiscences of early\n",
      "days in California, with other\n",
      "sketches. San Francisco? 1880.\n",
      "\n",
      "248 p. WHi. By a judge and mem-\n",
      "ber of the state legislature.\n",
      "\n",
      "Fifer, Joseph Wilson, b. 1840.\n",
      "“Private Joe” Fifer. Memories\n",
      "of war & peace. Bloomington, I11,:\n",
      "Pantagraph pr. co., 1936. 104 p.\n",
      "\n",
      "WHi. Civil War soldier and\n",
      "governor of Illinois.\n",
      "\n",
      "Finch, Edwin Ward, b. 1831. The [1924]\n",
      "frontier, army and professional\n",
      "life of Edwin W. Finch...N.Y.:\n",
      "Press of Simmonds, Manning &\n",
      "Dawson, 1909. 119 p. Auto., p. 1-64.\n",
      "DLC. A New York physician tells\n",
      "of his boyhood on a Michigan\n",
      "homestead and of his service\n",
      "with the Union forces as a surgeon.\n",
      "\n",
      "Finck, Henry Theophilos,1854-— [1925]\n",
      "1926. My adventures in the golden\n",
      "age of music. N.Y.: Funk & Wag-\n",
      "nalls, 1926. 462 p. WU. Music\n",
      "critic,\n",
      "\n",
      "Finerty, John Frederick, 1846-\n",
      "1908. War-path and bivouac...\n",
      "the Big Horn and Yellowstone\n",
      "expedition. Chicago: 1890. 460 p.\n",
      "DLC. Newspaper correspondent\n",
      "with Crook, 1866-67, in the\n",
      "campaigns against the Indians\n",
      "in the West.\n",
      "\n",
      "Finley, James Bradley, 1781-1856.[1927]\n",
      "Autobiography of Rev. James B.\n",
      "Finley; or, pioneer life in the\n",
      "West. Cinc.: pr. at the Methodist\n",
      "book concern, for the author,\n",
      "\n",
      "1853. 455 p. WHi. Methodist in\n",
      "the old Northwest,\n",
      "\n",
      "Finley, James Bradley, 1781-1856.[1928]\n",
      "Life among the Indians. ..Cinc.:\n",
      "Hitchcock & Walden, 1868. 507 p.\n",
      "WHi. An enlarged version of the\n",
      "preceding item,\n",
      "\n",
      "Finn, Francis James, 1859-1928.\n",
      "Father Finn, S.J.; the story of\n",
      "his life told by himself for his\n",
      "friends young and old. N.Y.:\n",
      "Benziger bros., 1929. 236 p. NN.\n",
      "\n",
      "[1923]\n",
      "\n",
      "[1926]\n",
      "\n",
      "[1929]\n",
      "\n",
      "Teacher in St. Louis and Cincinnati,\n",
      "A pioneer promoter of juvenile lit-\n",
      "erature for Catholics.\n",
      "\n",
      "Finney, Charles Grandison, 1792- nog\n",
      "1875. Charles G. Finney. An auto-\n",
      "biography. Popular ed. London,\n",
      "N.Y.: The Slavation army book de-\n",
      "partment, 1903. 401 p. WHi. Pres-\n",
      "\n",
      "byterian, later Congregational, cler- —\n",
      "\n",
      "gyman in the middle western states,\n",
      "\n",
      "Finney, Charles Grandison, 418751931]\n",
      "The inner and outer life. ..Lon-\n",
      "don: S. W. Partridge, 1882. 32 p.\n",
      "WHi. The author left the Presby-\n",
      "terian church to become a member\n",
      "of the Salvation Church in New\n",
      "York City.\n",
      "\n",
      "Finney, John Miller Turpin,\n",
      "\n",
      "b. 1863. A surgeon’s life. N.Y.:\n",
      "Putnam, 1940. 400 p. WU. In\n",
      "Massachusetts and Maryland.\n",
      "\n",
      "Firestone, Harvey S. Men and [1933]\n",
      "rubber...Garden City: Doubleday,\n",
      "Page, 1926. 279 p. WU. Manufac-\n",
      "turer of rubber products.\n",
      "\n",
      "Fischer, Augusta Catherine, [1934]\n",
      "b, 1891. Searchlight; an autobio-\n",
      "graphy. Seattle 1937. 233 p. NN.\n",
      "\n",
      "The story of the causes leading\n",
      "\n",
      "to the author’s mental breakdown\n",
      "and her experiences in insane\n",
      "hospitals in the state of Washington.\n",
      "\n",
      "Fisher, Clara. See Maeder, Mrs.\n",
      "Clara (Fisher),\n",
      "\n",
      "Fisher, Daniel Webster, 1838-1913[1935]\n",
      "A human life...N.Y.: Revell, 1909.\n",
      "325 p. PU. Presbyterian clergy-\n",
      "man who was also president of\n",
      "Hanover College in Indiana.\n",
      "\n",
      "Fisher, Elizabeth (Munro), b.1759.[1936]\n",
      "Memoirs, of Mrs. Elizabeth Fisher,\n",
      "of the city of New York,...giving\n",
      "a particular account of a variety\n",
      "of domestic misfortunes, and also\n",
      "of her trial, and cruel condemna-\n",
      "tion to the state’s prison for six\n",
      "years, at the instance of her bro-\n",
      "ther Peter Jay Munro...N.Y.: 1810,\n",
      "48 p. DLC. By an American Tory.\n",
      "\n",
      "Fisher, George Adams, b. 1835.\n",
      "The Yankee conscript, or eighteen\n",
      "months in Dixie. Phila.: J. W.\n",
      "Daughaday, 1864. 251 p. WU. By\n",
      "a Union soldier.\n",
      "\n",
      "Fisher, Hugh Dunn, b. 1824. The [1938]\n",
      "gun and the gospel...4th ed. Kansas\n",
      "city: Hudson-Kimberly, 1902. 347 p.\n",
      "WHi. Methodist clergyman in\n",
      "Kansas, Nebraska, Utah, Idaho and\n",
      "Montana. Chaplain in the Union army.\n",
      "\n",
      "Z,\n",
      "\n",
      "Field, Joseph—Fisher, Hugh\n",
      "\n",
      "[1932] |\n",
      "\n",
      "[1937]\n",
      "\n",
      "\n"
     ]
    }
   ],
   "source": [
    "print(ocr_text)"
   ]
  },
  {
   "cell_type": "markdown",
   "id": "e1743a2d",
   "metadata": {},
   "source": [
    "# Example: Compare ground-truth and LLM cleaned text"
   ]
  },
  {
   "cell_type": "code",
   "execution_count": null,
   "id": "d02c2550",
   "metadata": {},
   "outputs": [],
   "source": [
    "ground_truth = open(root_dir / 'data' / 'ground-truth' / 'txt' / 'gt_kbaa-p005.txt')\n",
    "ground_truth_text = ground_truth.read()\n",
    "ground_truth_text_clean = clean_text_normalized(ground_truth_text)\n",
    "ground_truth_text_clean_nonorm = clean_text_nonorm(ground_truth_text)\n",
    "\n",
    "llm = open(root_dir / 'results' / 'llm-img2txt' / 'gemini-2.5-flash-no-thinking' / 'gemini-2.5-flash-no-thinking_img_kbaa-p005.txt')\n",
    "llm_text = llm.read()\n",
    "llm_text_clean = clean_text_normalized(llm_text)\n",
    "llm_text_clean_nonorm = clean_text_nonorm(llm_text)"
   ]
  },
  {
   "cell_type": "code",
   "execution_count": 2,
   "id": "a013f7ae",
   "metadata": {},
   "outputs": [
    {
     "data": {
      "text/plain": [
       "0.6"
      ]
     },
     "execution_count": 2,
     "metadata": {},
     "output_type": "execute_result"
    }
   ],
   "source": [
    "import jiwer\n",
    "jiwer.process_words(\"Hello world my dear qwertyuiop\", \"Hello world\")"
   ]
  },
  {
   "cell_type": "code",
   "execution_count": 3,
   "id": "ead04d21",
   "metadata": {},
   "outputs": [
    {
     "name": "stdout",
     "output_type": "stream",
     "text": [
      "========== Ground truth original ==========\n",
      "Fisher, Mary-Flickinger 101 ENTRIES 1939-1959\n",
      "\n",
      "Fisher, Mary Frances Kennedy, b. 1908. The gastronomical me. N.Y.: Duell, Sloan & Pierce, 1943. 295 p. DLC. Cook book writer. [1939]\n",
      "Fisher, Milton Metcalf. Autobiography...Concord: Rumford press, 1902. 85 p. WHi. Abolitionist, banker and dealer in real estate in Massachusetts. [1940]\n",
      "Fisher, Orion Paul, b. 1867. Autobiography of Orion Paul Fisher, banker and financier...San Francisco: San Francisco pub. co., 1921. 347 p. DLC. In Ohio, New York, Massachusetts, and on the west coast. [1941]\n",
      "Fisk, J.H. Two years before the mast, and ten behind it...Portland, Oreg.: Madden & Crawford, printers, 1892. 48 p. WaU. Conn. sailor (19th century) in the Pacific on a whaler. [1942]\n",
      "Fiske, Bradley Allen, b. 1854. From midshipman to rear-admiral. N.Y.: Century, 1919. 688 p. WHi. U. S. Naval officer. [1943]\n",
      "Fitz, Frances Ella. Lady sourdough. N.Y.: Macmillan, 1941. 319 p. WHi. Gold miner in Alaska. [1944]\n",
      "Fitzgerald, Oscar Penn, 1829-1911. Sunset views...Nashville & Dallas: Pub. house of the M.E. Church, South, 1901. 343 p. Auto., p. 3-145. DLC. Methodist clergyman. [1945]\n",
      "Fitz-James, Zilla, b. 1827. Zilla Fitz James, the female bandit of the Southwest...An autobiographical narrative, ed. by Rev. A. Richards...Little Rock: A. R. Orton, 1852. 31 p. CtY. As described by the title. [1946]\n",
      "Fitzsimmons, Fred. His career of crime and his nemesis. Pittsburgh: Mooar & Hill, 1892. 64 p. PSew. In Pennsylvania. [1947]\n",
      "Five years in the west, by a Texas preacher. See Allen, William M.\n",
      "Flake, Jacob. Christian miscellany...Phila.: 1844. 106 p. Auto., p. 7-14. MH. Clergyman in Pa., belonging to a Baptist sect founded by John Winebrenner, known as the Church of God in America. [1948]\n",
      "Flake, William H. From crime to Christ. Binghampton, N.Y.: Business-art-press, 1915. 62 p. DLC. He turns to religion after a life of crime and prison in New York and Michigan. [1949]\n",
      "Fleming, E. B. Three years in a mad house...Chicago: Donohue, Henneberry & co., 1893. 234 p. DLC. A once successful Texas merchant tells of his life in an asylum, 1886-89, from which he escaped. [1950]\n",
      "Fleming, George Thronton, 1855-1928. ...My high school days, including a brief history of the Pittsburgh Central High School from 1855 to 1871 and addenda. Pittsburgh, Pa.: 1904. 257 p. NN. As described by the title. [1951]\n",
      "Fletcher, Daniel Cooledge. Reminiscences of California and the Civil war. Ayer, Mass.: Press of H.S. Turner, 1894. 196 p. WHi. Union soldier who from 1852 to 1860 had been a miner in California. [1952]\n",
      "Fletcher, Ebenezer, 1761-1831. The narrative of Ebenezer Fletcher, a soldier of the Revolution, written by himself. N.Y.: priv. pr., 1866. 86 p. NN. As described by the title. [1953]\n",
      "Fletcher, John Gould, b. 1886. Life is my song; the autobiography of John Gould Fletcher. N.Y.: Toronto, Farrar & Rinehart, 1937. 406 p. WU. Literary figure. [1954]\n",
      "Fletcher, Philip Cone, b. 1871. The story of my heart. San Antonio: Alamo pr. co., 1929. 344 p. TxDaM. Methodist clergyman in Arkansas, Missouri and Texas. [1955]\n",
      "Fletcher, William Andrew,b.1839. Rebel private front and rear... Beaumont: Press of Greer print, 1908. 193 p. DLC. With a Texas outfit. [1956]\n",
      "Flexner, Abraham, b. 1866.I remember...N.Y.: Simon & Schuster, 1940. 414 p. WU. A Jewish physician who served for many years on the General Educational Board, his most notable achievement perhaps being the organization of the Institute for Advanced Study at Princeton. [1957]\n",
      "Flexner, Mrs. Helen (Thomas). A Quaker childhood. New Haven: Yale univ. press, 1940. 335 p. WHi. In Baltimore. [1958]\n",
      "Flickinger, Daniel Kumler, 1824-1911. Fifty-five years of active ministerial life...Dayton: United Brethren pub. house, 1907. 261 p. DLC. Missionary of the United Brethren Church in West Africa. [1959]\n",
      "========== LLM original ==========\n",
      "Fisher, Mary-Flickinger 101 ENTRIES 1939-1959\n",
      "Fisher, Mary Frances Kennedy, b. 1908. The gastronomical me. N.Y.: Duell, Sloan & Pearce, 1943. 295 p. DLC. Cook book writer. [1939]\n",
      "Fisher, Milton Metcalf. Autobio- graphy...Concord: Rumford press, 1902. 85 p. WHI. Abolitionist, banker and dealer in real estate in Massachusetts. [1940]\n",
      "Fisher, Orion Paul, b. 1867. Auto- biography of Orion Paul Fisher, banker and financier...San Fran- cisco: San Francisco pub. co., 1921. 347 p. DLC. In Ohio, New York, Massachusetts, and on the west coast. [1941]\n",
      "Fisk, J.H. Two years before the mast, and ten behind it...Port- land, Oreg.: Madden & Crawford, printers, 1892. 48 p. WaU. Conn. sailor (19th century) in the Pacific on a whaler. [1942]\n",
      "Fiske, Bradley Allen, b. 1854. From midshipman to rear- admiral. N.Y.: Century, 1919. 688 p. WHI. U. S. Naval officer. [1943]\n",
      "Fitz, Frances Ella. Lady sour- dough. N.Y.: Macmillan, 1941. 319 p. WHI. Gold miner in Alaska. [1944]\n",
      "Fitzgerald, Oscar Penn, 1829- 1911. Sunset views...Nashville & Dallas: Pub. house of the M.E. Church, South, 1901. 343 p. Auto., p. 3-145. DLC. Methodist cler- gyman. [1945]\n",
      "Fitz-James, Zilla, b. 1827. Zilla Fitz James, the female bandit of the Southwest...An autobiograph- ical narrative, ed. by Rev. A. Richards...Little Rock: A. R. Orton, 1852. 31 p. CtY. As des- cribed by the title. [1946]\n",
      "Fitzsimmons, Fred. His career of crime and his nemesis. Pitts- burgh: Mooar & Hill, 1892. 64 p. PSeW. In Pennsylvania. [1947]\n",
      "Five years in the west, by a Texas preacher. See Allen, William M.\n",
      "Flake, Jacob. Christian miscel- lany...Phila.: 1844. 106 p. Auto., p. 7-14. MH. Clergyman in Pa., belonging to a Baptist sect founded by John Winebrenner, known as the Church of God in America. [1948]\n",
      "Flake, William H. From crime to Christ. Binghampton, N.Y.: Business-art-press, 1915. 62 p. DLC. He turns to religion after a life of crime and prison in New York and Michigan. [1949]\n",
      "Fleming, E. B. Three years in a mad house...Chicago: Donohue, Henneberry & co., 1893. 234 p. DLC. A once successful Texas merchant tells of his life in an asylum, 1886-89, from which he escaped. [1950]\n",
      "Fleming, George Thornton, 1855- 1928. My high school days, including a brief history of the Pittsburgh Central and addenda from 1855 to 1871 and addenda. Pittsburgh, Pa.: 1904. 257 p. NN. As described by the title. [1951]\n",
      "Fletcher, Daniel Cooledge. Rem- iniscences of California and the Civil war. Ayer, Mass.: Press of H.S. Turner, 1894. 196 p. WHI. Union soldier who from 1852 to 1860 had been a miner in California. [1952]\n",
      "Fletcher, Ebenezer, 1761-1831. The narrative of Ebenezer Flet- cher, a soldier of the Revolution, written by himself. N.Y.: priv. pr., 1866. 86 p. NN. As described by the title. [1953]\n",
      "Fletcher, John Gould, b. 1886. Life is my song; the autobiogra- phy of John Gould Fletcher. N.Y.: Toronto, Farrar & Rinehart, 1937. 406 p. WU. Literary figure. [1954]\n",
      "Fletcher, Philip Cone, b. 1871. The story of my heart. San An- tonio: Alamo pr. co., 1929. 344 p. TxDaM. Methodist clergyman in Arkansas, Missouri and Texas. [1955]\n",
      "Fletcher, William Andrew, b. 1839. Rebel private front and rear... Beaumont: Press of Greer print, 1908. 193 p. DLC. With a Texas outfit. [1956]\n",
      "Flexner, Abraham, b. 1866. I re- member...N.Y.: Simon & Schuster, 1940. 414 p. WU. Jewish phy- sician who served for many years on the General Educational Board, his most notable achievement per- haps being the organization of the Institute for Advanced Study at Princeton. [1957]\n",
      "Flexner, Mrs. Helen (Thomas). A Quaker childhood. New Haven: Yale univ. press, 1940. 335 p. WHI. In Baltimore. [1958]\n",
      "Flickinger, Daniel Kumler, 1824- 1911. Fifty-five years of active ministerial life...Dayton: United Brethren pub. house, 1907. 261 p. DLC. Missionary of the United Brethren Church in West Africa. [1959]\n",
      "========== Ground truth cleaned ==========\n",
      "fisher maryflickinger 101 entries 19391959 fisher mary frances kennedy b 1908 the gastronomical me n y duell sloan pierce 1943 295 p dlc cook book writer 1939 fisher milton metcalf autobiography concord rumford press 1902 85 p whi abolitionist banker and dealer in real estate in massachusetts 1940 fisher orion paul b 1867 autobiography of orion paul fisher banker and financier san francisco san francisco pub co 1921 347 p dlc in ohio new york massachusetts and on the west coast 1941 fisk j h two years before the mast and ten behind it portland oreg madden crawford printers 1892 48 p wau conn sailor 19th century in the pacific on a whaler 1942 fiske bradley allen b 1854 from midshipman to rearadmiral n y century 1919 688 p whi u s naval officer 1943 fitz frances ella lady sourdough n y macmillan 1941 319 p whi gold miner in alaska 1944 fitzgerald oscar penn 18291911 sunset views nashville dallas pub house of the m e church south 1901 343 p auto p 3145 dlc methodist clergyman 1945 fitzjames zilla b 1827 zilla fitz james the female bandit of the southwest an autobiographical narrative ed by rev a richards little rock a r orton 1852 31 p cty as described by the title 1946 fitzsimmons fred his career of crime and his nemesis pittsburgh mooar hill 1892 64 p psew in pennsylvania 1947 five years in the west by a texas preacher see allen william m flake jacob christian miscellany phila 1844 106 p auto p 714 mh clergyman in pa belonging to a baptist sect founded by john winebrenner known as the church of god in america 1948 flake william h from crime to christ binghampton n y businessartpress 1915 62 p dlc he turns to religion after a life of crime and prison in new york and michigan 1949 fleming e b three years in a mad house chicago donohue henneberry co 1893 234 p dlc a once successful texas merchant tells of his life in an asylum 188689 from which he escaped 1950 fleming george thronton 18551928 my high school days including a brief history of the pittsburgh central high school from 1855 to 1871 and addenda pittsburgh pa 1904 257 p nn as described by the title 1951 fletcher daniel cooledge reminiscences of california and the civil war ayer mass press of h s turner 1894 196 p whi union soldier who from 1852 to 1860 had been a miner in california 1952 fletcher ebenezer 17611831 the narrative of ebenezer fletcher a soldier of the revolution written by himself n y priv pr 1866 86 p nn as described by the title 1953 fletcher john gould b 1886 life is my song the autobiography of john gould fletcher n y toronto farrar rinehart 1937 406 p wu literary figure 1954 fletcher philip cone b 1871 the story of my heart san antonio alamo pr co 1929 344 p txdam methodist clergyman in arkansas missouri and texas 1955 fletcher william andrewb 1839 rebel private front and rear beaumont press of greer print 1908 193 p dlc with a texas outfit 1956 flexner abraham b 1866 i remember n y simon schuster 1940 414 p wu a jewish physician who served for many years on the general educational board his most notable achievement perhaps being the organization of the institute for advanced study at princeton 1957 flexner mrs helen thomas a quaker childhood new haven yale univ press 1940 335 p whi in baltimore 1958 flickinger daniel kumler 18241911 fiftyfive years of active ministerial life dayton united brethren pub house 1907 261 p dlc missionary of the united brethren church in west africa 1959\n",
      "========== LLM cleaned ==========\n",
      "fisher maryflickinger 101 entries 19391959 fisher mary frances kennedy b 1908 the gastronomical me n y duell sloan pearce 1943 295 p dlc cook book writer 1939 fisher milton metcalf autobiography concord rumford press 1902 85 p whi abolitionist banker and dealer in real estate in massachusetts 1940 fisher orion paul b 1867 autobiography of orion paul fisher banker and financier san francisco san francisco pub co 1921 347 p dlc in ohio new york massachusetts and on the west coast 1941 fisk j h two years before the mast and ten behind it portland oreg madden crawford printers 1892 48 p wau conn sailor 19th century in the pacific on a whaler 1942 fiske bradley allen b 1854 from midshipman to rearadmiral n y century 1919 688 p whi u s naval officer 1943 fitz frances ella lady sourdough n y macmillan 1941 319 p whi gold miner in alaska 1944 fitzgerald oscar penn 18291911 sunset views nashville dallas pub house of the m e church south 1901 343 p auto p 3145 dlc methodist clergyman 1945 fitzjames zilla b 1827 zilla fitz james the female bandit of the southwest an autobiographical narrative ed by rev a richards little rock a r orton 1852 31 p cty as described by the title 1946 fitzsimmons fred his career of crime and his nemesis pittsburgh mooar hill 1892 64 p psew in pennsylvania 1947 five years in the west by a texas preacher see allen william m flake jacob christian miscellany phila 1844 106 p auto p 714 mh clergyman in pa belonging to a baptist sect founded by john winebrenner known as the church of god in america 1948 flake william h from crime to christ binghampton n y businessartpress 1915 62 p dlc he turns to religion after a life of crime and prison in new york and michigan 1949 fleming e b three years in a mad house chicago donohue henneberry co 1893 234 p dlc a once successful texas merchant tells of his life in an asylum 188689 from which he escaped 1950 fleming george thornton 18551928 my high school days including a brief history of the pittsburgh central and addenda from 1855 to 1871 and addenda pittsburgh pa 1904 257 p nn as described by the title 1951 fletcher daniel cooledge reminiscences of california and the civil war ayer mass press of h s turner 1894 196 p whi union soldier who from 1852 to 1860 had been a miner in california 1952 fletcher ebenezer 17611831 the narrative of ebenezer fletcher a soldier of the revolution written by himself n y priv pr 1866 86 p nn as described by the title 1953 fletcher john gould b 1886 life is my song the autobiography of john gould fletcher n y toronto farrar rinehart 1937 406 p wu literary figure 1954 fletcher philip cone b 1871 the story of my heart san antonio alamo pr co 1929 344 p txdam methodist clergyman in arkansas missouri and texas 1955 fletcher william andrew b 1839 rebel private front and rear beaumont press of greer print 1908 193 p dlc with a texas outfit 1956 flexner abraham b 1866 i remember n y simon schuster 1940 414 p wu jewish physician who served for many years on the general educational board his most notable achievement perhaps being the organization of the institute for advanced study at princeton 1957 flexner mrs helen thomas a quaker childhood new haven yale univ press 1940 335 p whi in baltimore 1958 flickinger daniel kumler 18241911 fiftyfive years of active ministerial life dayton united brethren pub house 1907 261 p dlc missionary of the united brethren church in west africa 1959\n"
     ]
    }
   ],
   "source": [
    "print('========== Ground truth original ==========')\n",
    "print(ground_truth_text)\n",
    "print('========== LLM original ==========')\n",
    "print(llm_text)\n",
    "print('========== Ground truth cleaned ==========')\n",
    "print(ground_truth_text_clean)\n",
    "print('========== LLM cleaned ==========')\n",
    "print(llm_text_clean)"
   ]
  },
  {
   "cell_type": "code",
   "execution_count": 12,
   "id": "1a9336bb",
   "metadata": {},
   "outputs": [
    {
     "data": {
      "text/plain": [
       "3419"
      ]
     },
     "execution_count": 9,
     "metadata": {},
     "output_type": "execute_result"
    }
   ],
   "source": [
    "len(ground_truth_text_clean)"
   ]
  },
  {
   "cell_type": "markdown",
   "id": "cc844434",
   "metadata": {},
   "source": [
    "# Example: compute metrics"
   ]
  },
  {
   "cell_type": "code",
   "execution_count": 12,
   "id": "ae7af3e9",
   "metadata": {},
   "outputs": [
    {
     "data": {
      "text/plain": [
       "{'dist_char': 18,\n",
       " 'cer': 0.005264697279906405,\n",
       " 'dist_word': 7,\n",
       " 'wer': 0.011363636363636364,\n",
       " 'token_sort_ratio': 99.16630100921456}"
      ]
     },
     "execution_count": 12,
     "metadata": {},
     "output_type": "execute_result"
    }
   ],
   "source": [
    "compute_metrics(ground_truth_text, llm_text, doc_format='txt', normalized=True, index_numbers=True)"
   ]
  },
  {
   "cell_type": "markdown",
   "id": "74e6c3a5",
   "metadata": {},
   "source": [
    "# Example: build a dataframe of results (using synthetic data)"
   ]
  },
  {
   "cell_type": "code",
   "execution_count": 12,
   "id": "1a9336bb",
   "metadata": {},
   "outputs": [
    {
     "data": {
      "text/html": [
       "<div>\n",
       "<style scoped>\n",
       "    .dataframe tbody tr th:only-of-type {\n",
       "        vertical-align: middle;\n",
       "    }\n",
       "\n",
       "    .dataframe tbody tr th {\n",
       "        vertical-align: top;\n",
       "    }\n",
       "\n",
       "    .dataframe thead th {\n",
       "        text-align: right;\n",
       "    }\n",
       "</style>\n",
       "<table border=\"1\" class=\"dataframe\">\n",
       "  <thead>\n",
       "    <tr style=\"text-align: right;\">\n",
       "      <th></th>\n",
       "      <th>a:dist_char</th>\n",
       "      <th>a:doc_len</th>\n",
       "      <th>a:cer_pct</th>\n",
       "      <th>a:wer_pct</th>\n",
       "      <th>b:dist_char</th>\n",
       "      <th>b:doc_len</th>\n",
       "      <th>b:cer_pct</th>\n",
       "      <th>b:wer_pct</th>\n",
       "      <th>__ALL__:dist_char</th>\n",
       "      <th>__ALL__:doc_len</th>\n",
       "      <th>__ALL__:cer_pct</th>\n",
       "      <th>__ALL__:wer_pct</th>\n",
       "    </tr>\n",
       "  </thead>\n",
       "  <tbody>\n",
       "    <tr>\n",
       "      <th>pytesseract</th>\n",
       "      <td>1</td>\n",
       "      <td>100</td>\n",
       "      <td>1.0</td>\n",
       "      <td>10.0</td>\n",
       "      <td>1</td>\n",
       "      <td>100</td>\n",
       "      <td>1.0</td>\n",
       "      <td>10.0</td>\n",
       "      <td>1</td>\n",
       "      <td>200</td>\n",
       "      <td>1.0</td>\n",
       "      <td>10.0</td>\n",
       "    </tr>\n",
       "  </tbody>\n",
       "</table>\n",
       "</div>"
      ],
      "text/plain": [
       "            a:dist_char a:doc_len a:cer_pct a:wer_pct b:dist_char b:doc_len  \\\n",
       "pytesseract           1       100       1.0      10.0           1       100   \n",
       "\n",
       "            b:cer_pct b:wer_pct __ALL__:dist_char __ALL__:doc_len  \\\n",
       "pytesseract       1.0      10.0                 1             200   \n",
       "\n",
       "            __ALL__:cer_pct __ALL__:wer_pct  \n",
       "pytesseract             1.0            10.0  "
      ]
     },
     "execution_count": 12,
     "metadata": {},
     "output_type": "execute_result"
    }
   ],
   "source": [
    "doc_names = ['a', 'b']\n",
    "results_data = {\n",
    "    'pytesseract': {\n",
    "        'a': {\n",
    "            'dist_char': 1,\n",
    "            'cer': 0.01,\n",
    "            'wer': 0.1,\n",
    "        },\n",
    "        'b': {\n",
    "            'dist_char': 1,\n",
    "            'cer': 0.01,\n",
    "            'wer': 0.1,\n",
    "        },\n",
    "        '__ALL__': {\n",
    "            'dist_char': 1,\n",
    "            'cer': 0.01,\n",
    "            'wer': 0.1,\n",
    "        },\n",
    "    },\n",
    "}\n",
    "doc_lengths = {'a': 100, 'b': 100}\n",
    "total_doc_len = 200\n",
    "build_dataframe('title', doc_names, results_data, doc_lengths, total_doc_len)"
   ]
  },
  {
   "cell_type": "markdown",
   "id": "0d25f788",
   "metadata": {},
   "source": [
    "# Example: run txt_accuracy's main function"
   ]
  },
  {
   "cell_type": "code",
   "execution_count": 15,
   "id": "712f2883",
   "metadata": {},
   "outputs": [
    {
     "name": "stderr",
     "output_type": "stream",
     "text": [
      "2025-06-11 17:22:27 [INFO] Script directory: /Users/timyu/projects/GC-20C-Text-Lab/ocr-benchmarking/src/benchmarking\n",
      "2025-06-11 17:22:27 [INFO] Project root: /Users/timyu/projects/GC-20C-Text-Lab/ocr-benchmarking\n",
      "2025-06-11 17:22:27 [INFO] Found ground-truth txt files: ['/Users/timyu/projects/GC-20C-Text-Lab/ocr-benchmarking/data/ground-truth/txt/kbaa-p#100.txt']\n",
      "2025-06-11 17:22:27 [INFO] Found file names: ['kbaa-p#100']\n",
      "2025-06-11 17:22:27 [INFO] Models found: [('ocr_img2txt', 'pytesseract')]\n",
      "2025-06-11 17:22:27 [INFO] Collecting results for model: pytesseract\n",
      "2025-06-11 17:22:27 [INFO] Collected results for model: ['kbaa-p#100', '__ALL__']\n",
      "2025-06-11 17:22:27 [INFO] Computing metrics for model: pytesseract\n",
      "2025-06-11 17:22:27 [INFO] Computing metrics for document: kbaa-p#100\n"
     ]
    }
   ],
   "source": [
    "main()"
   ]
  }
 ],
 "metadata": {
  "kernelspec": {
   "display_name": "base",
   "language": "python",
   "name": "python3"
  },
  "language_info": {
   "codemirror_mode": {
    "name": "ipython",
    "version": 3
   },
   "file_extension": ".py",
   "mimetype": "text/x-python",
   "name": "python",
   "nbconvert_exporter": "python",
   "pygments_lexer": "ipython3",
   "version": "3.12.2"
  }
 },
 "nbformat": 4,
 "nbformat_minor": 5
}
