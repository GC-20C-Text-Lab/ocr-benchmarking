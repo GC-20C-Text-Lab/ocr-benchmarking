{
 "cells": [
  {
   "cell_type": "markdown",
   "id": "1de4b45f",
   "metadata": {},
   "source": [
    "# Demonstrations for structured data"
   ]
  },
  {
   "cell_type": "code",
   "execution_count": null,
   "id": "016faba2",
   "metadata": {},
   "outputs": [],
   "source": [
    "from pathlib import Path\n",
    "import os\n",
    "from dotenv import load_dotenv\n",
    "import json\n",
    "\n",
    "load_dotenv()\n",
    "\n",
    "# Get the root directory of the project\n",
    "root_dir = Path.cwd().parent.parent"
   ]
  },
  {
   "cell_type": "markdown",
   "id": "597192c2",
   "metadata": {},
   "source": [
    "## Open JSON files and create Pandas dataframe (WIP)"
   ]
  },
  {
   "cell_type": "code",
   "execution_count": null,
   "id": "368a550d",
   "metadata": {},
   "outputs": [],
   "source": [
    "import pandas as pd\n",
    "import numpy as np\n",
    "\n",
    "with open(root_dir / 'data' / 'ground-truth' / 'json' / 'gt_kbaa-p121.json', 'r') as file:\n",
    "    file_json = json.loads(file.read())\n",
    "    entries = file_json['entries']\n",
    "    df = pd.DataFrame(entries)\n",
    "\n",
    "df.head()"
   ]
  },
  {
   "cell_type": "markdown",
   "id": "8c753f93",
   "metadata": {},
   "source": [
    "## Search Wikipedia for authors (WIP)\n",
    "\n",
    "I am following [this page](https://api.wikimedia.org/wiki/Searching_for_Wikipedia_articles_using_Python) to search on Wikipedia"
   ]
  },
  {
   "cell_type": "code",
   "execution_count": null,
   "id": "58dfb1bd",
   "metadata": {},
   "outputs": [],
   "source": [
    "import requests\n",
    "\n",
    "# wikimedia_api_key = os.getenv('WIKIMEDIA_API_KEY')\n",
    "def search_wikipedia(search_query, number_of_results=1):\n",
    "    language_code = 'en'\n",
    "    headers = {\n",
    "    #   'Authorization': f'Bearer {wikimedia_api_key}',\n",
    "        'User-Agent': 'Tim-KBAA yuyu.tim@gmail.com'\n",
    "    }\n",
    "\n",
    "    base_url = 'https://api.wikimedia.org/core/v1/wikipedia/'\n",
    "    endpoint = '/search/page'\n",
    "    url = base_url + language_code + endpoint\n",
    "    parameters = {'q': search_query, 'limit': number_of_results}\n",
    "    response = requests.get(url, headers=headers, params=parameters)\n",
    "\n",
    "    return response\n",
    "\n",
    "def formatted_names(lastname, firstname):\n",
    "    \"\"\"\n",
    "    Create an array of potential names a person might be listed as. Assume last name is present.\n",
    "    \"\"\"\n",
    "\n",
    "    # Replace empty names with None\n",
    "    cleaned_lastname = lastname if lastname and not np.isnan(lastname) else None\n",
    "    cleaned_firstname = firstname if firstname and not np.isnan(firstname) else None\n",
    "\n",
    "    # WIP: handle suffixes? Only one ground truth JSON file has it.\n",
    "\n",
    "    # Split given names (return empty list if no first name)\n",
    "    split_names = str.split(cleaned_firstname, ' ') if cleaned_firstname else []\n",
    "\n",
    "    # Create a list of a person's names in order (first name, middle name(s), last name)\n",
    "    ordered_names = split_names.append(cleaned_lastname)\n",
    "    initials = list(map(lambda name: name[0].upper(), ordered_names))\n",
    "    initials_with_periods = list(map(lambda initial: initial + '.', initials))\n",
    "\n",
    "    # Provide possible combinations of names (for searching purposes) and return\n",
    "    if len(ordered_names) == 1:\n",
    "        return [ordered_names[0]]\n",
    "    if len(ordered_names) == 2:\n",
    "        return [f'{ordered_names[0]} {ordered_names[1]}']\n",
    "    else:\n",
    "        name_combinations = [\n",
    "            f'{ordered_names[0]} {ordered_names[-1]}',\n",
    "            ' '.join(ordered_names),\n",
    "            f'{ordered_names[0]} {' '.join(initials_with_periods[1:-1])} {ordered_names[-1]}',\n",
    "            f'{' '.join(initials_with_periods[:-1])} {ordered_names[-1]}'\n",
    "        ]\n",
    "        return name_combinations"
   ]
  },
  {
   "cell_type": "code",
   "execution_count": null,
   "id": "354b76f9",
   "metadata": {},
   "outputs": [],
   "source": [
    "for row in df.itertuples():\n",
    "    formatted_name = f'{row.firstname} {row.lastname}'\n",
    "    print(f'Searching Wikipedia for author {formatted_name}...')\n",
    "    response = search_wikipedia(formatted_name)\n",
    "    print(response.json())"
   ]
  }
 ],
 "metadata": {
  "kernelspec": {
   "display_name": "base",
   "language": "python",
   "name": "python3"
  },
  "language_info": {
   "codemirror_mode": {
    "name": "ipython",
    "version": 3
   },
   "file_extension": ".py",
   "mimetype": "text/x-python",
   "name": "python",
   "nbconvert_exporter": "python",
   "pygments_lexer": "ipython3",
   "version": "3.12.2"
  }
 },
 "nbformat": 4,
 "nbformat_minor": 5
}
