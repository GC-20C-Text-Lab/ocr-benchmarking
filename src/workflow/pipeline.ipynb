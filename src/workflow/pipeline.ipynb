{
 "cells": [
  {
   "cell_type": "markdown",
   "id": "4432e892",
   "metadata": {},
   "source": [
    "# OCR-mLLM Pipeline"
   ]
  },
  {
   "cell_type": "markdown",
   "id": "5702eec5-e52d-4b51-8907-f593204a1b76",
   "metadata": {
    "vscode": {
     "languageId": "plaintext"
    }
   },
   "source": [
    "## 1. Run pytesseract"
   ]
  },
  {
   "cell_type": "code",
   "execution_count": 45,
   "id": "5839f516-258f-49aa-8b0f-aa4a6966d780",
   "metadata": {},
   "outputs": [],
   "source": [
    "import os\n",
    "from pathlib import Path\n",
    "import pytesseract\n",
    "from PIL import Image\n",
    "\n",
    "# Get the user's path for the images folder assuming all images are stored here in .png format\n",
    "source_dir = Path.cwd().parent.parent / \"images\"\n",
    "\n",
    "# Get the user's path for the output folder, create one if it doesn't exist\n",
    "target_dir.mkdir(parents=True, exist_ok=True)\n",
    "target_dir = Path.cwd().parent.parent / \"output\"\n",
    "\n",
    "# Add all filenames in images directory into the `filenames` array with the ENTIRE filepath\n",
    "img_filepaths = []\n",
    "for path in source_dir.iterdir():\n",
    "  if path.is_file():\n",
    "    img_filepaths.append(path)\n",
    "\n",
    "# txt_filenames = []\n",
    "# for filename in os.listdir(str(target_dir)):\n",
    "#   if os.path.isfile(os.path.join(target_dir, filename)) :\n",
    "#     txt_filenames.append(os.path.join(target_dir, filename))"
   ]
  },
  {
   "cell_type": "code",
   "execution_count": 46,
   "id": "95e34ea1-f6ae-4de7-9887-764da7178f39",
   "metadata": {},
   "outputs": [],
   "source": [
    "for path in img_filepaths:\n",
    "    file_name = target_dir / path.stem\n",
    "    # file_name.touch()\n",
    "    file_name = str(file_name) + \".txt\"\n",
    "    \n",
    "    with open(file_name, 'w') as file:\n",
    "        file.write(pytesseract.image_to_string(Image.open(str(path)))) # TODO: Change config as needed"
   ]
  }
 ],
 "metadata": {
  "kernelspec": {
   "display_name": "Python 3 (ipykernel)",
   "language": "python",
   "name": "python3"
  },
  "language_info": {
   "codemirror_mode": {
    "name": "ipython",
    "version": 3
   },
   "file_extension": ".py",
   "mimetype": "text/x-python",
   "name": "python",
   "nbconvert_exporter": "python",
   "pygments_lexer": "ipython3",
   "version": "3.12.4"
  }
 },
 "nbformat": 4,
 "nbformat_minor": 5
}
