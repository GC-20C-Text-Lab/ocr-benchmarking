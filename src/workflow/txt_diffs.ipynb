{
 "cells": [
  {
   "cell_type": "code",
   "execution_count": null,
   "id": "4b42cba3",
   "metadata": {},
   "outputs": [],
   "source": [
    "from rapidfuzz.distance import Levenshtein, Opcode, Opcodes\n",
    "from IPython.display import HTML, display\n",
    "\n",
    "def opcode_to_html(opcode: Opcode, src: str, dest: str) -> str:\n",
    "    if opcode.tag == \"replace\":\n",
    "        return f\"<strike>{src[opcode.src_start:opcode.src_end]}</strike><u>{dest[opcode.dest_start:opcode.dest_end]}</u>\"\n",
    "    elif opcode.tag == \"delete\":\n",
    "        return f\"<strike>{src[opcode.src_start:opcode.src_end]}</strike>\"\n",
    "    elif opcode.tag == \"insert\":\n",
    "        return f\"<u>{dest[opcode.dest_start:opcode.dest_end]}</u>\"\n",
    "    elif opcode.tag == \"equal\":\n",
    "        return f\"{src[opcode.src_start:opcode.src_end]}\"\n",
    "    else:\n",
    "        raise ValueError(\"invalid opcode tag\")\n",
    "    \n",
    "\n",
    "def opcodes_to_html(opcodes: Opcodes, src: str, dest: str) -> str:\n",
    "    html = \"<p style=\\\"font-size: 18px\\\">\"\n",
    "    for opcode in opcodes:\n",
    "        html += opcode_to_html(opcode, src, dest)\n",
    "    html += \"</p>\"\n",
    "    html = html.replace(\"\\n\", \"<br />\")\n",
    "    return html"
   ]
  },
  {
   "cell_type": "code",
   "execution_count": null,
   "id": "0e279c13",
   "metadata": {},
   "outputs": [],
   "source": [
    "src = \"\"\"\n",
    "Test string\n",
    "Hello World from myself!\n",
    "\"\"\"\n",
    "\n",
    "dest = \"\"\"\n",
    "Test\n",
    "Goodbye World from myself!\n",
    "Lorem ipsum dolor sit amet.\n",
    "\"\"\"\n",
    "\n",
    "display(HTML(opcodes_to_html(Levenshtein.opcodes(src, dest), src, dest)))"
   ]
  }
 ],
 "metadata": {
  "kernelspec": {
   "display_name": "ocr-benchmarking",
   "language": "python",
   "name": "python3"
  },
  "language_info": {
   "codemirror_mode": {
    "name": "ipython",
    "version": 3
   },
   "file_extension": ".py",
   "mimetype": "text/x-python",
   "name": "python",
   "nbconvert_exporter": "python",
   "pygments_lexer": "ipython3",
   "version": "3.13.5"
  }
 },
 "nbformat": 4,
 "nbformat_minor": 5
}
