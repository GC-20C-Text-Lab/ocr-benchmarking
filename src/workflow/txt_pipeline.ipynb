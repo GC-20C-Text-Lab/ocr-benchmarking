{
 "cells": [
  {
   "cell_type": "markdown",
   "id": "4432e892",
   "metadata": {},
   "source": [
    "# OCR-mLLM Pipeline"
   ]
  },
  {
   "cell_type": "markdown",
   "id": "dd231b04",
   "metadata": {},
   "source": [
    "Before running this code you will need to set up your OpenAI & Gemini API keys. Here's how I did it:\n",
    "\n",
    "1. Create a new file in your root directory called `.env` (no prefix)\n",
    "2. Store your API keys with the following names: OPENAI_API_KEY, ANTHROPIC_API_KEY, and GOOGLE_API_KEY\n",
    "3. Create a virtual environment by typing the following commands into your terminal:\n",
    "    - ```python3 -m venv .venv```\n",
    "    - ```source .venv/bin/activate```\n",
    "    - ```pip install -r requirements.txt```\n",
    "4. After running the pipeline, type ```deactivate``` in your terminal to make everything go back to normal"
   ]
  },
  {
   "cell_type": "markdown",
   "id": "cadd7cf4",
   "metadata": {},
   "source": [
    "## 1. Setup"
   ]
  },
  {
   "cell_type": "markdown",
   "id": "002663b1",
   "metadata": {},
   "source": [
    "### a. Run this cell to ensure you have all the necessary directories"
   ]
  },
  {
   "cell_type": "markdown",
   "id": "8cd3540d",
   "metadata": {},
   "source": [
    "Before running the cell make sure you have an images folder in your root directory to feed the images into the pipeline"
   ]
  },
  {
   "cell_type": "code",
   "execution_count": null,
   "id": "549ec682",
   "metadata": {},
   "outputs": [],
   "source": [
    "from pathlib import Path\n",
    "import os\n",
    "import pytesseract\n",
    "from PIL import Image\n",
    "\n",
    "# Get the root directory of the project\n",
    "root_dir = Path.cwd().parent.parent\n",
    "\n",
    "doc_format = \"txt\"\n",
    "\n",
    "# Get the user's path for the images folder assuming all images are stored here in .png format\n",
    "source_dir = root_dir / \"data\" / \"pngs\"\n",
    "\n",
    "# Get the user's path for the output folder, create one if it doesn't exist\n",
    "output_dir = root_dir / \"results\" / doc_format\n",
    "output_dir.mkdir(parents=True, exist_ok=True)\n",
    "\n",
    "bm_output_dir = root_dir / \"benchmarking-results\"/ f\"{doc_format}-accuracy\"\n",
    "bm_output_dir.mkdir(parents=True, exist_ok=True)\n",
    "\n",
    "# llm_array = [\"gpt-4o\", \"gemini-2.5-flash\", \"claude-4-sonnet\"]\n",
    "llm_array = [\"gpt-4o\", \"gemini-2.0-flash\"]\n",
    "\n",
    "def make_llm_dirs(llm_array, target_dir, doc_format):\n",
    "    for llm in llm_array:\n",
    "        dir = target_dir / f\"ocr-img2txt\"\n",
    "        dir.mkdir(parents=True, exist_ok=True)\n",
    "        dir = target_dir / f\"llm-img2{doc_format}\" / llm\n",
    "        dir.mkdir(parents=True, exist_ok=True)\n",
    "        dir = target_dir / f\"ocr-llm-img2{doc_format}\" / llm\n",
    "        dir.mkdir(parents=True, exist_ok=True)\n",
    "\n",
    "make_llm_dirs(llm_array, output_dir, doc_format)"
   ]
  },
  {
   "cell_type": "markdown",
   "id": "7859c660",
   "metadata": {},
   "source": [
    "### b. Setup API keys & image encoding function"
   ]
  },
  {
   "cell_type": "code",
   "execution_count": 11,
   "id": "a7ae833e",
   "metadata": {},
   "outputs": [],
   "source": [
    "from openai import OpenAI\n",
    "from anthropic import Anthropic\n",
    "from google import genai\n",
    "import base64\n",
    "from dotenv import load_dotenv\n",
    "\n",
    "load_dotenv()\n",
    "\n",
    "openai_api_key = os.getenv(\"OPENAI_API_KEY\")\n",
    "anthropic_api_key = os.getenv(\"ANTHROPIC_API_KEY\")\n",
    "\n",
    "# Function to encode the image\n",
    "def encode_image(image_path):\n",
    "    with open(image_path, \"rb\") as image_file:\n",
    "        return base64.b64encode(image_file.read()).decode('utf-8')\n",
    "\n",
    "\n",
    "gpt_client = OpenAI(api_key=openai_api_key)\n",
    "gemini_client = genai.Client(api_key=os.getenv(\"GOOGLE_API_KEY\"))\n",
    "claude_client = Anthropic(api_key=anthropic_api_key)\n"
   ]
  },
  {
   "cell_type": "markdown",
   "id": "0f3a5773",
   "metadata": {},
   "source": [
    "### c. Get image file paths"
   ]
  },
  {
   "cell_type": "code",
   "execution_count": 2,
   "id": "fed71bb2",
   "metadata": {},
   "outputs": [],
   "source": [
    "# Add all filenames in images directory into the `filenames` array with the ENTIRE filepath\n",
    "img_filepaths = []\n",
    "count = 0\n",
    "for path in source_dir.iterdir():\n",
    "  if count < 10:\n",
    "    if path.suffix.lower() == \".png\" and path.is_file():\n",
    "      img_filepaths.append(path)\n",
    "      count += 1"
   ]
  },
  {
   "cell_type": "markdown",
   "id": "5702eec5-e52d-4b51-8907-f593204a1b76",
   "metadata": {
    "vscode": {
     "languageId": "plaintext"
    }
   },
   "source": [
    "## 2. Run pytesseract"
   ]
  },
  {
   "cell_type": "code",
   "execution_count": 3,
   "id": "95e34ea1-f6ae-4de7-9887-764da7178f39",
   "metadata": {},
   "outputs": [],
   "source": [
    "# Read the files from ocr-benchmarking/images folder & write to results folder\n",
    "for path in img_filepaths:\n",
    "    file_name = output_dir / \"ocr-img2txt\" / path.stem\n",
    "    file_name = str(file_name) + \".txt\"\n",
    "    \n",
    "    with open(file_name, 'w') as file:\n",
    "        file.write(pytesseract.image_to_string(Image.open(str(path)))) # TODO: Change config as needed"
   ]
  },
  {
   "cell_type": "markdown",
   "id": "6df39757",
   "metadata": {},
   "source": [
    "## 3. Prepare the prompt"
   ]
  },
  {
   "cell_type": "code",
   "execution_count": 13,
   "id": "045337cd",
   "metadata": {},
   "outputs": [],
   "source": [
    "prompt_template_ocr_llm = \"\"\"\n",
    "You are a text correction assistant. Your task is to clean up and correct errors from raw OCR output.\n",
    "The text may contain misrecognized characters, broken words, or incorrect formatting.\n",
    "Carefully read the provided OCR output and produce a corrected version that is grammatically accurate \n",
    "and as faithful to the original content as possible. Because this is a historical document, try to \n",
    "preserve archaic spelling or formatting where clearly intended. Only correct obvious OCR errors.\n",
    "Put the dates associated with each entry at the end of the line.\n",
    "\n",
    "Input (Raw OCR Text):\n",
    "{input}\n",
    "\"\"\"\n",
    "\n",
    "prompt_llm = \"\"\"\n",
    "You are an expert historian. Your task is to transcribe the provided image into text. The image\n",
    "is a 20th century bibliographic entry. Because this is a historical document, try to preserve \n",
    "archaic spelling or formatting where clearly intended. Put the dates associated with each entry at the end of the line.\n",
    "Return the text only, nothing else.\n",
    "\"\"\"\n",
    "\n",
    "prompt_llm = \"\"\"\n",
    "From the provided image, give me the first word and nothing else\n",
    "\"\"\""
   ]
  },
  {
   "cell_type": "markdown",
   "id": "0d58cb0c-aeb8-47cc-9528-26bc3a802984",
   "metadata": {},
   "source": [
    "## 4. Send to OpenAI"
   ]
  },
  {
   "cell_type": "markdown",
   "id": "06535758",
   "metadata": {},
   "source": [
    "### a. OCR-LLM call"
   ]
  },
  {
   "cell_type": "code",
   "execution_count": null,
   "id": "163080e4-5134-407c-9cdd-7a89141e1632",
   "metadata": {},
   "outputs": [],
   "source": [
    "for path in img_filepaths:\n",
    "    input = \"\"\n",
    "    base64_image = encode_image(path)\n",
    "    ocr_text_path = str(output_dir / \"ocr-img2txt\" / path.stem) + \".txt\" # THIS REMAINS THE SAME b/c we're reading the OCR output\n",
    "    with open(ocr_text_path, 'r') as file:\n",
    "        input += file.read()\n",
    "    prompt_ocr_llm = prompt_template_ocr_llm.format(input=input).strip()\n",
    "\n",
    "    response = gpt_client.chat.completions.create(\n",
    "        model='gpt-4o',\n",
    "        messages=[\n",
    "            {\n",
    "                \"role\": \"user\", \n",
    "                \"content\": [\n",
    "                    {\n",
    "                        \"type\": \"text\",\n",
    "                        \"text\": prompt_ocr_llm\n",
    "                    },\n",
    "                    {\n",
    "                        \"type\": \"image_url\",\n",
    "                        \"image_url\": {\n",
    "                            \"url\": f\"data:image/png;base64,{base64_image}\"\n",
    "                        }\n",
    "                    }\n",
    "                ]\n",
    "            }\n",
    "            ]\n",
    "    )\n",
    "\n",
    "    with open(output_dir / f\"ocr-llm-img2{doc_format}\" / \"gpt-4o\" / Path(path.stem + f\".{doc_format}\"), 'w') as file:\n",
    "        file.write(response.choices[0].message.content)"
   ]
  },
  {
   "cell_type": "markdown",
   "id": "e0cafe77",
   "metadata": {},
   "source": [
    "### b. LLM call (without OCR)"
   ]
  },
  {
   "cell_type": "code",
   "execution_count": 16,
   "id": "18c2eedc",
   "metadata": {},
   "outputs": [
    {
     "name": "stderr",
     "output_type": "stream",
     "text": [
      "[file retrieval] 2025-06-30 15:56:55 [INFO] HTTP Request: POST https://api.openai.com/v1/chat/completions \"HTTP/1.1 200 OK\"\n"
     ]
    }
   ],
   "source": [
    "for path in img_filepaths:\n",
    "    base64_image = encode_image(path)\n",
    "\n",
    "    response = gpt_client.chat.completions.create(\n",
    "        model='gpt-4o',\n",
    "        messages=[\n",
    "            {\n",
    "                \"role\": \"user\", \n",
    "                \"content\": [\n",
    "                    {\n",
    "                        \"type\": \"text\",\n",
    "                        \"text\": prompt_llm\n",
    "                    },\n",
    "                    {\n",
    "                        \"type\": \"image_url\",\n",
    "                        \"image_url\": {\n",
    "                            \"url\": f\"data:image/png;base64,{base64_image}\"\n",
    "                        }\n",
    "                    }\n",
    "                ]\n",
    "            }\n",
    "            ]\n",
    "    )\n",
    "\n",
    "    with open(output_dir / f\"llm-img2{doc_format}\" / \"gpt-4o\" / Path(path.stem + f\".{doc_format}\"), 'w') as file:\n",
    "        file.write(response.choices[0].message.content)"
   ]
  },
  {
   "cell_type": "markdown",
   "id": "d25ecae5",
   "metadata": {},
   "source": [
    "## 5. Send to Gemini\n"
   ]
  },
  {
   "cell_type": "markdown",
   "id": "3f10c212",
   "metadata": {},
   "source": [
    "### a. OCR-LLM call"
   ]
  },
  {
   "cell_type": "code",
   "execution_count": null,
   "id": "b9e5d357",
   "metadata": {},
   "outputs": [
    {
     "name": "stderr",
     "output_type": "stream",
     "text": [
      "[file retrieval] 2025-06-23 18:05:08 [INFO] HTTP Request: POST https://generativelanguage.googleapis.com/upload/v1beta/files \"HTTP/1.1 200 OK\"\n",
      "[file retrieval] 2025-06-23 18:05:08 [INFO] HTTP Request: POST https://generativelanguage.googleapis.com/upload/v1beta/files?upload_id=ABgVH89bHeN0-vA-xzs2K_EGUYmGBXEGUqZ-TzID8lIRuuIZ5uv_yAciVJ4QlyDuV6hzZ8cjQZLSwSf8qPnMUXfMtLoxSxcspz6tzUhrZBAqjyo&upload_protocol=resumable \"HTTP/1.1 200 OK\"\n",
      "[file retrieval] 2025-06-23 18:05:12 [INFO] HTTP Request: POST https://generativelanguage.googleapis.com/upload/v1beta/files?upload_id=ABgVH89bHeN0-vA-xzs2K_EGUYmGBXEGUqZ-TzID8lIRuuIZ5uv_yAciVJ4QlyDuV6hzZ8cjQZLSwSf8qPnMUXfMtLoxSxcspz6tzUhrZBAqjyo&upload_protocol=resumable \"HTTP/1.1 200 OK\"\n",
      "[file retrieval] 2025-06-23 18:05:12 [INFO] AFC is enabled with max remote calls: 10.\n",
      "[file retrieval] 2025-06-23 18:05:22 [INFO] HTTP Request: POST https://generativelanguage.googleapis.com/v1beta/models/gemini-2.0-flash:generateContent \"HTTP/1.1 200 OK\"\n",
      "[file retrieval] 2025-06-23 18:05:22 [INFO] AFC remote call 1 is done.\n"
     ]
    }
   ],
   "source": [
    "for path in img_filepaths:\n",
    "    my_file = gemini_client.files.upload(file=path)\n",
    "    input = \"\"\n",
    "    ocr_text_path = str(output_dir / \"ocr-img2txt\" / path.stem) + \".txt\" # THIS REMAINS THE SAME b/c we're reading the OCR output\n",
    "    with open(ocr_text_path, 'r') as file:\n",
    "        input += file.read()\n",
    "    prompt_ocr_llm = prompt_template_ocr_llm.format(input=input).strip()\n",
    "\n",
    "    response = gemini_client.models.generate_content(\n",
    "        model='gemini-2.0-flash',\n",
    "        contents=[\n",
    "            prompt_ocr_llm,\n",
    "            my_file\n",
    "        ]\n",
    "    )\n",
    "\n",
    "    with open(output_dir / f\"ocr-llm-img2{doc_format}\" / \"gemini-2.0-flash\" / Path(path.stem + f\".{doc_format}\"), 'w') as file:\n",
    "        file.write(response.text)"
   ]
  },
  {
   "cell_type": "markdown",
   "id": "172d3100",
   "metadata": {},
   "source": [
    "### b. LLM call (without OCR)"
   ]
  },
  {
   "cell_type": "code",
   "execution_count": 17,
   "id": "d5d3d2d4",
   "metadata": {},
   "outputs": [
    {
     "name": "stderr",
     "output_type": "stream",
     "text": [
      "[file retrieval] 2025-06-30 15:57:11 [INFO] HTTP Request: POST https://generativelanguage.googleapis.com/upload/v1beta/files \"HTTP/1.1 200 OK\"\n",
      "[file retrieval] 2025-06-30 15:57:11 [INFO] HTTP Request: POST https://generativelanguage.googleapis.com/upload/v1beta/files?upload_id=ABgVH8-acDCIOvz27fq2eb2vZioJCF8BN-044zRuKKM1P7IZM9f8JT8PaT8jpwpouYDaJ1Mn8kXyGt_zkX_1P0JMEH1MWeAdikdPHQ1A_MEGnfk&upload_protocol=resumable \"HTTP/1.1 200 OK\"\n",
      "[file retrieval] 2025-06-30 15:57:14 [INFO] HTTP Request: POST https://generativelanguage.googleapis.com/upload/v1beta/files?upload_id=ABgVH8-acDCIOvz27fq2eb2vZioJCF8BN-044zRuKKM1P7IZM9f8JT8PaT8jpwpouYDaJ1Mn8kXyGt_zkX_1P0JMEH1MWeAdikdPHQ1A_MEGnfk&upload_protocol=resumable \"HTTP/1.1 200 OK\"\n",
      "[file retrieval] 2025-06-30 15:57:14 [INFO] AFC is enabled with max remote calls: 10.\n",
      "[file retrieval] 2025-06-30 15:57:18 [INFO] HTTP Request: POST https://generativelanguage.googleapis.com/v1beta/models/gemini-2.0-flash:generateContent \"HTTP/1.1 200 OK\"\n",
      "[file retrieval] 2025-06-30 15:57:18 [INFO] AFC remote call 1 is done.\n"
     ]
    }
   ],
   "source": [
    "for path in img_filepaths:\n",
    "    my_file = gemini_client.files.upload(file=path)\n",
    "\n",
    "    response = gemini_client.models.generate_content(\n",
    "        model='gemini-2.0-flash',\n",
    "        contents=[\n",
    "            prompt_llm,\n",
    "            my_file\n",
    "        ]\n",
    "    )\n",
    "\n",
    "    with open(output_dir / f\"llm-img2{doc_format}\" / \"gemini-2.0-flash\" / Path(path.stem + f\".{doc_format}\"), 'w') as file:\n",
    "        file.write(response.text)"
   ]
  },
  {
   "cell_type": "markdown",
   "id": "38d06c34",
   "metadata": {},
   "source": [
    "## 6. Send to Claude"
   ]
  },
  {
   "cell_type": "markdown",
   "id": "e0869c81",
   "metadata": {},
   "source": [
    "### a. OCR-LLM call"
   ]
  },
  {
   "cell_type": "code",
   "execution_count": null,
   "id": "8651e17c",
   "metadata": {},
   "outputs": [],
   "source": [
    "# for path in img_filepaths:\n",
    "#     base64_image = encode_image(path)\n",
    "\n",
    "#     response = claude_client.messages.create(\n",
    "#         model='claude-opus-4-20250514',\n",
    "#         temperature=0,\n",
    "#         max_tokens=10,\n",
    "#         messages=[\n",
    "#             {\n",
    "#                 \"role\": \"user\", \n",
    "#                 \"content\": [\n",
    "#                     {\n",
    "#                         \"type\": \"text\",\n",
    "#                         \"text\": prompt_ocr_llm\n",
    "#                     },\n",
    "#                     {\n",
    "#                         \"type\": \"image\",\n",
    "#                         \"source\": {\n",
    "#                             \"type\": \"base64\",\n",
    "#                             \"media_type\": \"image/png\",\n",
    "#                             \"data\": base64_image\n",
    "#                         }\n",
    "#                     }\n",
    "#                 ]\n",
    "#             }\n",
    "#             ]\n",
    "#     )\n",
    "#     print(response)\n",
    "\n",
    "#     with open(txt_output_dir / \"ocr-llm-img2txt\" / \"claude-4-sonnet\" / Path(path.stem + \".txt\"), 'w') as file:\n",
    "#         file.write(response.choices[0].message.content)"
   ]
  },
  {
   "cell_type": "markdown",
   "id": "b610ccd9",
   "metadata": {},
   "source": [
    "### b. LLM call (without OCR)"
   ]
  },
  {
   "cell_type": "code",
   "execution_count": null,
   "id": "d497c3d2",
   "metadata": {},
   "outputs": [],
   "source": [
    "# for path in img_filepaths:\n",
    "#     base64_image = encode_image(path)\n",
    "\n",
    "#     response = claude_client.messages.create(\n",
    "#         model='claude-opus-4-20250514',\n",
    "#         temperature=0,\n",
    "#         messages=[\n",
    "#             {\n",
    "#                 \"role\": \"user\", \n",
    "#                 \"content\": [\n",
    "#                     {\n",
    "#                         \"type\": \"text\",\n",
    "#                         \"text\": prompt_llm\n",
    "#                     },\n",
    "#                     {\n",
    "#                         \"type\": \"image\",\n",
    "#                         \"source\": {\n",
    "#                             \"type\": \"base64\",\n",
    "#                             \"media_type\": \"image/png\",\n",
    "#                             \"data\": base64_image\n",
    "#                         }\n",
    "#                     }\n",
    "#                 ]\n",
    "#             }\n",
    "#             ]\n",
    "#     )\n",
    "\n",
    "#     with open(txt_output_dir / \"llm-img2txt\" / \"claude-4-sonnet\" / Path(path.stem + \".txt\"), 'w') as file:\n",
    "#         file.write(response.choices[0].message.content)"
   ]
  },
  {
   "cell_type": "markdown",
   "id": "32e20262",
   "metadata": {},
   "source": [
    "## 7. Benchmark results"
   ]
  },
  {
   "cell_type": "code",
   "execution_count": null,
   "id": "77c21953",
   "metadata": {},
   "outputs": [
    {
     "name": "stderr",
     "output_type": "stream",
     "text": [
      "[file retrieval] 2025-07-05 18:53:45 [INFO] Script directory: /Users/muhammadkhalid/Desktop/map2025/ocr-benchmarking/src/workflow\n",
      "[file retrieval] 2025-07-05 18:53:45 [INFO] Project root: /Users/muhammadkhalid/Desktop/map2025/ocr-benchmarking\n",
      "[file retrieval] 2025-07-05 18:53:45 [INFO] Found ground-truth txt files: ['/Users/muhammadkhalid/Desktop/map2025/ocr-benchmarking/data/ground-truth/json/gt_kbaa-p003.json']\n",
      "[file retrieval] 2025-07-05 18:53:45 [INFO] Found file names: ['gt_kbaa-p003']\n",
      "[file retrieval] 2025-07-05 18:53:45 [INFO] Models found: [('llm-img2json', 'gemini-2.0-flash'), ('ocr-llm-img2json', 'gemini-2.0-flash'), ('llm-img2json', 'gpt-4o'), ('ocr-llm-img2json', 'gpt-4o')]\n",
      "[file retrieval] 2025-07-05 18:53:45 [INFO] Collecting results for model: gemini-2.0-flash\n",
      "[file retrieval] 2025-07-05 18:53:45 [INFO] Collected results for model_type: llm-img2json, model: gemini-2.0-flash\n",
      "[file retrieval] 2025-07-05 18:53:45 [INFO] Collecting results for model: gemini-2.0-flash\n",
      "[file retrieval] 2025-07-05 18:53:45 [INFO] Collected results for model_type: ocr-llm-img2json, model: gemini-2.0-flash\n",
      "[file retrieval] 2025-07-05 18:53:45 [INFO] Collecting results for model: gpt-4o\n",
      "[file retrieval] 2025-07-05 18:53:45 [INFO] Collected results for model_type: llm-img2json, model: gpt-4o\n",
      "[file retrieval] 2025-07-05 18:53:45 [INFO] Collecting results for model: gpt-4o\n",
      "[file retrieval] 2025-07-05 18:53:45 [INFO] Collected results for model_type: ocr-llm-img2json, model: gpt-4o\n",
      "[file retrieval] 2025-07-05 18:53:45 [INFO] Computing metrics for model_type: llm-img2json, model: gemini-2.0-flash\n",
      "[file retrieval] 2025-07-05 18:53:45 [INFO] Computing metrics for document: kbaa-p003\n",
      "[file retrieval] 2025-07-05 18:53:45 [INFO] Computing metrics for model_type: ocr-llm-img2json, model: gemini-2.0-flash\n",
      "[file retrieval] 2025-07-05 18:53:45 [INFO] Computing metrics for document: kbaa-p003\n",
      "[file retrieval] 2025-07-05 18:53:45 [INFO] Computing metrics for model_type: llm-img2json, model: gpt-4o\n",
      "[file retrieval] 2025-07-05 18:53:45 [INFO] Computing metrics for document: kbaa-p003\n",
      "[file retrieval] 2025-07-05 18:53:45 [INFO] Computing metrics for model_type: ocr-llm-img2json, model: gpt-4o\n",
      "[file retrieval] 2025-07-05 18:53:45 [INFO] Computing metrics for document: kbaa-p003\n"
     ]
    },
    {
     "name": "stdout",
     "output_type": "stream",
     "text": [
      "{'entries': [{'city': 'Boston', 'description': 'Written by the patient after her recovery.', 'index': 1, 'first-name': 'B.C.', 'last-name': 'A.', 'library': 'DLC', 'page-count': 47, 'publish-year': 1909, 'publisher': 'R. G. Badger', 'title': 'My life as a dissociated personality...with an introduction by Morton Prince, M.D.'}, {'birth-year': 1854, 'city': 'Kristiansand', 'description': 'Minnesota violinist.', 'first-name': 'Eivind P.', 'index': 2, 'last-name': 'Aakus', 'library': 'MnHi', 'page-count': 112, 'publish-year': 1932, 'publisher': 'Johanssen & Tangens', 'title': 'Minne...'}, {'birth-year': 1863, 'city': 'Boston', 'death-year': 1934, 'description': 'Reporter in Chicago and N.Y.', 'first-name': 'Willis John', 'index': 3, 'last-name': 'Abbot', 'library': 'WU', 'page-count': 358, 'publish-year': 1934, 'publisher': 'Little, Brown', 'title': 'Watching the world go by.'}, {'description': 'Story of youth in California about 1850.', 'first-name': 'Augustus', 'index': 4, 'last-name': 'Abbott', 'library': 'C', 'page-count': 128, 'title': 'A boy pioneer...'}, {'birth-year': 1828, 'city': 'N.Y.', 'description': 'Railroad promoter, politician, California \"forty-niner\".', 'first-name': 'Carlisle Stewart', 'index': 5, 'last-name': 'Abbott', 'library': 'WHi', 'page-count': 235, 'publish-year': 1917, 'publisher': 'Neale', 'title': 'Recollections of a California pioneer.'}, {'birth-year': 1860, 'city': 'N.Y.', 'description': 'Montana.', 'first-name': 'Edward Charles', 'index': 6, 'last-name': 'Abbott', 'library': 'WHi', 'page-count': 270, 'publish-year': 1939, 'publisher': 'Farrar & Rinehart', 'title': 'We pointed them north; recollections of a cow-puncher.'}, {'birth-year': 1872, 'city': 'N.Y.', 'description': 'In the days of Lowell.', 'first-name': 'Eleanor Hallowell', 'index': 7, 'last-name': 'Abbott', 'library': 'WU', 'page-count': 280, 'publish-year': 1936, 'publisher': 'D. Appleton-Century', 'title': 'Being little in Cambridge...'}, {'city': 'Boston', 'description': 'Bookseller and teacher.', 'first-name': 'Eloise Mills', 'index': 8, 'last-name': 'Abbott', 'library': 'WHi', 'page-count': 359, 'publish-year': 1861, 'publisher': 'Abel Tompkins', 'title': 'Personal sketches and recollections.'}, {'birth-year': 1850, 'city': 'Minneapolis', 'description': 'Chicago born opera singer. A significant portion of this book is autobiographical.', 'first-name': 'Emma', 'index': 9, 'last-name': 'Abbott', 'library': 'MWA', 'page-count': 192, 'publish-year': 1891, 'publisher': 'L. Kimball printing co.', 'title': 'The life and professional career of Emma Abbott. By Sadie E. Martin.'}, {'birth-year': 1813, 'city': 'N.Y.', 'description': 'Matrimonial troubles in New York.', 'first-name': 'L.A.', 'index': 10, 'last-name': 'Abbott', 'library': 'DLC', 'page-count': 205, 'publish-year': 1870, 'publisher': 'Pub. for author', 'title': 'Seven wives and seven prisons.'}, {'birth-year': 1835, 'city': 'Boston & N.Y.', 'death-year': 1922, 'description': 'Congregational clergyman and writer on religious subjects (New York City). Editor of Outlook.', 'first-name': 'Lyman', 'index': 11, 'last-name': 'Abbott', 'library': 'WHi', 'page-count': 509, 'publish-year': 1915, 'publisher': 'Houghton Mifflin', 'title': 'Reminiscences...'}, {'birth-year': 1842, 'city': 'Lincoln', 'description': 'Lawyer, lt. gov. Nebraska. Union army soldier.', 'first-name': 'Othman A.', 'index': 12, 'last-name': 'Abbott', 'library': 'NbO', 'page-count': 176, 'publish-year': 1929, 'publisher': 'Nebraska state historical society', 'title': 'Recollections of a pioneer lawyer.'}, {'birth-year': 1881, 'city': 'N.Y.', 'death-year': 1945, 'description': 'Crimean born novelist who spent a number of years in this country.', 'first-name': 'Achmed', 'index': 13, 'last-name': 'Abdullah', 'library': 'NN', 'page-count': 312, 'publish-year': 1933, 'publisher': 'Farrar & Rinehart', 'title': 'The cat had nine lives...'}, {'birth-year': 1876, 'city': 'N.Y.', 'description': 'A reissue, with variations, of his, In camp with Theodore Roosevelt, 1933. Cowboy in Texas and Oklahoma. Wolf hunter, U.S. marshal in Oklahoma, and oil operator.', 'first-name': 'John R.', 'index': 14, 'last-name': 'Abernathy', 'library': 'NN', 'page-count': 224, 'publish-year': 1936, 'publisher': 'Association press', 'title': '\"Catch \\'em alive Jack;\" the life and adventures of an American pioneer.'}, {'birth-year': 1876, 'city': 'Croton-on-Hudson', 'description': 'In Texas and Oklahoma.', 'first-name': 'John R.', 'index': 15, 'last-name': 'Abernathy', 'library': 'NN', 'page-count': 57, 'publish-year': 1935, 'publisher': 'News press', 'title': 'A son of the frontier.'}, {'birth-year': 1841, 'city': 'Corunna, Mich.', 'description': 'A lumberman in Michigan discusses his experiences during 1861-1901.', 'first-name': 'Daniel', 'index': 16, 'last-name': 'Abrey', 'library': 'NN', 'page-count': 195, 'publish-year': 1903, 'publisher': 'Sheardy', 'title': 'Reminiscences...'}, {'birth-year': 1867, 'city': 'N.Y.', 'description': 'In Chicago.', 'first-name': 'Isaac Arthur', 'index': 17, 'last-name': 'Abt', 'library': 'DLC', 'page-count': 310, 'publish-year': 1944, 'publisher': 'McGraw-Hill', 'title': 'Baby doctor.'}, {'birth-year': 1856, 'death-year': 1931, 'first-name': 'Edward Goodrich', 'index': 18, 'last-name': 'Acheson', 'title': 'A pathfinder: discovery, invention and industry; how the world came to have aquadag and oildag;'}]}\n",
      "Doc Names: ['kbaa-p003']\n",
      "kbaa-p003\n",
      "kbaa-p003\n",
      "kbaa-p003\n",
      "kbaa-p003\n",
      "kbaa-p003\n",
      "Hello {'entries': [{'city': 'Boston', 'description': 'Written by the patient after her recovery.', 'index': 1, 'first-name': 'B.C.', 'last-name': 'A.', 'library': 'DLC', 'page-count': 47, 'publish-year': 1909, 'publisher': 'R. G. Badger', 'title': 'My life as a dissociated personality...with an introduction by Morton Prince, M.D.'}, {'birth-year': 1854, 'city': 'Kristiansand', 'description': 'Minnesota violinist.', 'first-name': 'Eivind P.', 'index': 2, 'last-name': 'Aakus', 'library': 'MnHi', 'page-count': 112, 'publish-year': 1932, 'publisher': 'Johanssen & Tangens', 'title': 'Minne...'}, {'birth-year': 1863, 'city': 'Boston', 'death-year': 1934, 'description': 'Reporter in Chicago and N.Y.', 'first-name': 'Willis John', 'index': 3, 'last-name': 'Abbot', 'library': 'WU', 'page-count': 358, 'publish-year': 1934, 'publisher': 'Little, Brown', 'title': 'Watching the world go by.'}, {'description': 'Story of youth in California about 1850.', 'first-name': 'Augustus', 'index': 4, 'last-name': 'Abbott', 'library': 'C', 'page-count': 128, 'title': 'A boy pioneer...'}, {'birth-year': 1828, 'city': 'N.Y.', 'description': 'Railroad promoter, politician, California \"forty-niner\".', 'first-name': 'Carlisle Stewart', 'index': 5, 'last-name': 'Abbott', 'library': 'WHi', 'page-count': 235, 'publish-year': 1917, 'publisher': 'Neale', 'title': 'Recollections of a California pioneer.'}, {'birth-year': 1860, 'city': 'N.Y.', 'description': 'Montana.', 'first-name': 'Edward Charles', 'index': 6, 'last-name': 'Abbott', 'library': 'WHi', 'page-count': 270, 'publish-year': 1939, 'publisher': 'Farrar & Rinehart', 'title': 'We pointed them north; recollections of a cow-puncher.'}, {'birth-year': 1872, 'city': 'N.Y.', 'description': 'In the days of Lowell.', 'first-name': 'Eleanor Hallowell', 'index': 7, 'last-name': 'Abbott', 'library': 'WU', 'page-count': 280, 'publish-year': 1936, 'publisher': 'D. Appleton-Century', 'title': 'Being little in Cambridge...'}, {'city': 'Boston', 'description': 'Bookseller and teacher.', 'first-name': 'Eloise Mills', 'index': 8, 'last-name': 'Abbott', 'library': 'WHi', 'page-count': 359, 'publish-year': 1861, 'publisher': 'Abel Tompkins', 'title': 'Personal sketches and recollections.'}, {'birth-year': 1850, 'city': 'Minneapolis', 'description': 'Chicago born opera singer. A significant portion of this book is autobiographical.', 'first-name': 'Emma', 'index': 9, 'last-name': 'Abbott', 'library': 'MWA', 'page-count': 192, 'publish-year': 1891, 'publisher': 'L. Kimball printing co.', 'title': 'The life and professional career of Emma Abbott. By Sadie E. Martin.'}, {'birth-year': 1813, 'city': 'N.Y.', 'description': 'Matrimonial troubles in New York.', 'first-name': 'L.A.', 'index': 10, 'last-name': 'Abbott', 'library': 'DLC', 'page-count': 205, 'publish-year': 1870, 'publisher': 'Pub. for author', 'title': 'Seven wives and seven prisons.'}, {'birth-year': 1835, 'city': 'Boston & N.Y.', 'death-year': 1922, 'description': 'Congregational clergyman and writer on religious subjects (New York City). Editor of Outlook.', 'first-name': 'Lyman', 'index': 11, 'last-name': 'Abbott', 'library': 'WHi', 'page-count': 509, 'publish-year': 1915, 'publisher': 'Houghton Mifflin', 'title': 'Reminiscences...'}, {'birth-year': 1842, 'city': 'Lincoln', 'description': 'Lawyer, lt. gov. Nebraska. Union army soldier.', 'first-name': 'Othman A.', 'index': 12, 'last-name': 'Abbott', 'library': 'NbO', 'page-count': 176, 'publish-year': 1929, 'publisher': 'Nebraska state historical society', 'title': 'Recollections of a pioneer lawyer.'}, {'birth-year': 1881, 'city': 'N.Y.', 'death-year': 1945, 'description': 'Crimean born novelist who spent a number of years in this country.', 'first-name': 'Achmed', 'index': 13, 'last-name': 'Abdullah', 'library': 'NN', 'page-count': 312, 'publish-year': 1933, 'publisher': 'Farrar & Rinehart', 'title': 'The cat had nine lives...'}, {'birth-year': 1876, 'city': 'N.Y.', 'description': 'A reissue, with variations, of his, In camp with Theodore Roosevelt, 1933. Cowboy in Texas and Oklahoma. Wolf hunter, U.S. marshal in Oklahoma, and oil operator.', 'first-name': 'John R.', 'index': 14, 'last-name': 'Abernathy', 'library': 'NN', 'page-count': 224, 'publish-year': 1936, 'publisher': 'Association press', 'title': '\"Catch \\'em alive Jack;\" the life and adventures of an American pioneer.'}, {'birth-year': 1876, 'city': 'Croton-on-Hudson', 'description': 'In Texas and Oklahoma.', 'first-name': 'John R.', 'index': 15, 'last-name': 'Abernathy', 'library': 'NN', 'page-count': 57, 'publish-year': 1935, 'publisher': 'News press', 'title': 'A son of the frontier.'}, {'birth-year': 1841, 'city': 'Corunna, Mich.', 'description': 'A lumberman in Michigan discusses his experiences during 1861-1901.', 'first-name': 'Daniel', 'index': 16, 'last-name': 'Abrey', 'library': 'NN', 'page-count': 195, 'publish-year': 1903, 'publisher': 'Sheardy', 'title': 'Reminiscences...'}, {'birth-year': 1867, 'city': 'N.Y.', 'description': 'In Chicago.', 'first-name': 'Isaac Arthur', 'index': 17, 'last-name': 'Abt', 'library': 'DLC', 'page-count': 310, 'publish-year': 1944, 'publisher': 'McGraw-Hill', 'title': 'Baby doctor.'}, {'birth-year': 1856, 'death-year': 1931, 'first-name': 'Edward Goodrich', 'index': 18, 'last-name': 'Acheson', 'title': 'A pathfinder: discovery, invention and industry; how the world came to have aquadag and oildag;'}]}\n",
      "Hello {'entries': [{'city': 'Boston', 'description': 'Written by the patient after her recovery.', 'index': 1, 'first-name': 'B.C.', 'last-name': 'A.', 'library': 'DLC', 'page-count': 47, 'publish-year': 1909, 'publisher': 'R. G. Badger', 'title': 'My life as a dissociated personality...with an introduction by Morton Prince, M.D.'}, {'birth-year': 1854, 'city': 'Kristiansand', 'description': 'Minnesota violinist.', 'first-name': 'Eivind P.', 'index': 2, 'last-name': 'Aakus', 'library': 'MnHi', 'page-count': 112, 'publish-year': 1932, 'publisher': 'Johanssen & Tangens', 'title': 'Minne...'}, {'birth-year': 1863, 'city': 'Boston', 'death-year': 1934, 'description': 'Reporter in Chicago and N.Y.', 'first-name': 'Willis John', 'index': 3, 'last-name': 'Abbot', 'library': 'WU', 'page-count': 358, 'publish-year': 1934, 'publisher': 'Little, Brown', 'title': 'Watching the world go by.'}, {'description': 'Story of youth in California about 1850.', 'first-name': 'Augustus', 'index': 4, 'last-name': 'Abbott', 'library': 'C', 'page-count': 128, 'title': 'A boy pioneer...'}, {'birth-year': 1828, 'city': 'N.Y.', 'description': 'Railroad promoter, politician, California \"forty-niner\".', 'first-name': 'Carlisle Stewart', 'index': 5, 'last-name': 'Abbott', 'library': 'WHi', 'page-count': 235, 'publish-year': 1917, 'publisher': 'Neale', 'title': 'Recollections of a California pioneer.'}, {'birth-year': 1860, 'city': 'N.Y.', 'description': 'Montana.', 'first-name': 'Edward Charles', 'index': 6, 'last-name': 'Abbott', 'library': 'WHi', 'page-count': 270, 'publish-year': 1939, 'publisher': 'Farrar & Rinehart', 'title': 'We pointed them north; recollections of a cow-puncher.'}, {'birth-year': 1872, 'city': 'N.Y.', 'description': 'In the days of Lowell.', 'first-name': 'Eleanor Hallowell', 'index': 7, 'last-name': 'Abbott', 'library': 'WU', 'page-count': 280, 'publish-year': 1936, 'publisher': 'D. Appleton-Century', 'title': 'Being little in Cambridge...'}, {'city': 'Boston', 'description': 'Bookseller and teacher.', 'first-name': 'Eloise Mills', 'index': 8, 'last-name': 'Abbott', 'library': 'WHi', 'page-count': 359, 'publish-year': 1861, 'publisher': 'Abel Tompkins', 'title': 'Personal sketches and recollections.'}, {'birth-year': 1850, 'city': 'Minneapolis', 'description': 'Chicago born opera singer. A significant portion of this book is autobiographical.', 'first-name': 'Emma', 'index': 9, 'last-name': 'Abbott', 'library': 'MWA', 'page-count': 192, 'publish-year': 1891, 'publisher': 'L. Kimball printing co.', 'title': 'The life and professional career of Emma Abbott. By Sadie E. Martin.'}, {'birth-year': 1813, 'city': 'N.Y.', 'description': 'Matrimonial troubles in New York.', 'first-name': 'L.A.', 'index': 10, 'last-name': 'Abbott', 'library': 'DLC', 'page-count': 205, 'publish-year': 1870, 'publisher': 'Pub. for author', 'title': 'Seven wives and seven prisons.'}, {'birth-year': 1835, 'city': 'Boston & N.Y.', 'death-year': 1922, 'description': 'Congregational clergyman and writer on religious subjects (New York City). Editor of Outlook.', 'first-name': 'Lyman', 'index': 11, 'last-name': 'Abbott', 'library': 'WHi', 'page-count': 509, 'publish-year': 1915, 'publisher': 'Houghton Mifflin', 'title': 'Reminiscences...'}, {'birth-year': 1842, 'city': 'Lincoln', 'description': 'Lawyer, lt. gov. Nebraska. Union army soldier.', 'first-name': 'Othman A.', 'index': 12, 'last-name': 'Abbott', 'library': 'NbO', 'page-count': 176, 'publish-year': 1929, 'publisher': 'Nebraska state historical society', 'title': 'Recollections of a pioneer lawyer.'}, {'birth-year': 1881, 'city': 'N.Y.', 'death-year': 1945, 'description': 'Crimean born novelist who spent a number of years in this country.', 'first-name': 'Achmed', 'index': 13, 'last-name': 'Abdullah', 'library': 'NN', 'page-count': 312, 'publish-year': 1933, 'publisher': 'Farrar & Rinehart', 'title': 'The cat had nine lives...'}, {'birth-year': 1876, 'city': 'N.Y.', 'description': 'A reissue, with variations, of his, In camp with Theodore Roosevelt, 1933. Cowboy in Texas and Oklahoma. Wolf hunter, U.S. marshal in Oklahoma, and oil operator.', 'first-name': 'John R.', 'index': 14, 'last-name': 'Abernathy', 'library': 'NN', 'page-count': 224, 'publish-year': 1936, 'publisher': 'Association press', 'title': '\"Catch \\'em alive Jack;\" the life and adventures of an American pioneer.'}, {'birth-year': 1876, 'city': 'Croton-on-Hudson', 'description': 'In Texas and Oklahoma.', 'first-name': 'John R.', 'index': 15, 'last-name': 'Abernathy', 'library': 'NN', 'page-count': 57, 'publish-year': 1935, 'publisher': 'News press', 'title': 'A son of the frontier.'}, {'birth-year': 1841, 'city': 'Corunna, Mich.', 'description': 'A lumberman in Michigan discusses his experiences during 1861-1901.', 'first-name': 'Daniel', 'index': 16, 'last-name': 'Abrey', 'library': 'NN', 'page-count': 195, 'publish-year': 1903, 'publisher': 'Sheardy', 'title': 'Reminiscences...'}, {'birth-year': 1867, 'city': 'N.Y.', 'description': 'In Chicago.', 'first-name': 'Isaac Arthur', 'index': 17, 'last-name': 'Abt', 'library': 'DLC', 'page-count': 310, 'publish-year': 1944, 'publisher': 'McGraw-Hill', 'title': 'Baby doctor.'}, {'birth-year': 1856, 'death-year': 1931, 'first-name': 'Edward Goodrich', 'index': 18, 'last-name': 'Acheson', 'title': 'A pathfinder: discovery, invention and industry; how the world came to have aquadag and oildag;'}]}\n",
      "Hello {'entries': [{'city': 'Boston', 'description': 'Written by the patient after her recovery.', 'index': 1, 'first-name': 'B.C.', 'last-name': 'A.', 'library': 'DLC', 'page-count': 47, 'publish-year': 1909, 'publisher': 'R. G. Badger', 'title': 'My life as a dissociated personality...with an introduction by Morton Prince, M.D.'}, {'birth-year': 1854, 'city': 'Kristiansand', 'description': 'Minnesota violinist.', 'first-name': 'Eivind P.', 'index': 2, 'last-name': 'Aakus', 'library': 'MnHi', 'page-count': 112, 'publish-year': 1932, 'publisher': 'Johanssen & Tangens', 'title': 'Minne...'}, {'birth-year': 1863, 'city': 'Boston', 'death-year': 1934, 'description': 'Reporter in Chicago and N.Y.', 'first-name': 'Willis John', 'index': 3, 'last-name': 'Abbot', 'library': 'WU', 'page-count': 358, 'publish-year': 1934, 'publisher': 'Little, Brown', 'title': 'Watching the world go by.'}, {'description': 'Story of youth in California about 1850.', 'first-name': 'Augustus', 'index': 4, 'last-name': 'Abbott', 'library': 'C', 'page-count': 128, 'title': 'A boy pioneer...'}, {'birth-year': 1828, 'city': 'N.Y.', 'description': 'Railroad promoter, politician, California \"forty-niner\".', 'first-name': 'Carlisle Stewart', 'index': 5, 'last-name': 'Abbott', 'library': 'WHi', 'page-count': 235, 'publish-year': 1917, 'publisher': 'Neale', 'title': 'Recollections of a California pioneer.'}, {'birth-year': 1860, 'city': 'N.Y.', 'description': 'Montana.', 'first-name': 'Edward Charles', 'index': 6, 'last-name': 'Abbott', 'library': 'WHi', 'page-count': 270, 'publish-year': 1939, 'publisher': 'Farrar & Rinehart', 'title': 'We pointed them north; recollections of a cow-puncher.'}, {'birth-year': 1872, 'city': 'N.Y.', 'description': 'In the days of Lowell.', 'first-name': 'Eleanor Hallowell', 'index': 7, 'last-name': 'Abbott', 'library': 'WU', 'page-count': 280, 'publish-year': 1936, 'publisher': 'D. Appleton-Century', 'title': 'Being little in Cambridge...'}, {'city': 'Boston', 'description': 'Bookseller and teacher.', 'first-name': 'Eloise Mills', 'index': 8, 'last-name': 'Abbott', 'library': 'WHi', 'page-count': 359, 'publish-year': 1861, 'publisher': 'Abel Tompkins', 'title': 'Personal sketches and recollections.'}, {'birth-year': 1850, 'city': 'Minneapolis', 'description': 'Chicago born opera singer. A significant portion of this book is autobiographical.', 'first-name': 'Emma', 'index': 9, 'last-name': 'Abbott', 'library': 'MWA', 'page-count': 192, 'publish-year': 1891, 'publisher': 'L. Kimball printing co.', 'title': 'The life and professional career of Emma Abbott. By Sadie E. Martin.'}, {'birth-year': 1813, 'city': 'N.Y.', 'description': 'Matrimonial troubles in New York.', 'first-name': 'L.A.', 'index': 10, 'last-name': 'Abbott', 'library': 'DLC', 'page-count': 205, 'publish-year': 1870, 'publisher': 'Pub. for author', 'title': 'Seven wives and seven prisons.'}, {'birth-year': 1835, 'city': 'Boston & N.Y.', 'death-year': 1922, 'description': 'Congregational clergyman and writer on religious subjects (New York City). Editor of Outlook.', 'first-name': 'Lyman', 'index': 11, 'last-name': 'Abbott', 'library': 'WHi', 'page-count': 509, 'publish-year': 1915, 'publisher': 'Houghton Mifflin', 'title': 'Reminiscences...'}, {'birth-year': 1842, 'city': 'Lincoln', 'description': 'Lawyer, lt. gov. Nebraska. Union army soldier.', 'first-name': 'Othman A.', 'index': 12, 'last-name': 'Abbott', 'library': 'NbO', 'page-count': 176, 'publish-year': 1929, 'publisher': 'Nebraska state historical society', 'title': 'Recollections of a pioneer lawyer.'}, {'birth-year': 1881, 'city': 'N.Y.', 'death-year': 1945, 'description': 'Crimean born novelist who spent a number of years in this country.', 'first-name': 'Achmed', 'index': 13, 'last-name': 'Abdullah', 'library': 'NN', 'page-count': 312, 'publish-year': 1933, 'publisher': 'Farrar & Rinehart', 'title': 'The cat had nine lives...'}, {'birth-year': 1876, 'city': 'N.Y.', 'description': 'A reissue, with variations, of his, In camp with Theodore Roosevelt, 1933. Cowboy in Texas and Oklahoma. Wolf hunter, U.S. marshal in Oklahoma, and oil operator.', 'first-name': 'John R.', 'index': 14, 'last-name': 'Abernathy', 'library': 'NN', 'page-count': 224, 'publish-year': 1936, 'publisher': 'Association press', 'title': '\"Catch \\'em alive Jack;\" the life and adventures of an American pioneer.'}, {'birth-year': 1876, 'city': 'Croton-on-Hudson', 'description': 'In Texas and Oklahoma.', 'first-name': 'John R.', 'index': 15, 'last-name': 'Abernathy', 'library': 'NN', 'page-count': 57, 'publish-year': 1935, 'publisher': 'News press', 'title': 'A son of the frontier.'}, {'birth-year': 1841, 'city': 'Corunna, Mich.', 'description': 'A lumberman in Michigan discusses his experiences during 1861-1901.', 'first-name': 'Daniel', 'index': 16, 'last-name': 'Abrey', 'library': 'NN', 'page-count': 195, 'publish-year': 1903, 'publisher': 'Sheardy', 'title': 'Reminiscences...'}, {'birth-year': 1867, 'city': 'N.Y.', 'description': 'In Chicago.', 'first-name': 'Isaac Arthur', 'index': 17, 'last-name': 'Abt', 'library': 'DLC', 'page-count': 310, 'publish-year': 1944, 'publisher': 'McGraw-Hill', 'title': 'Baby doctor.'}, {'birth-year': 1856, 'death-year': 1931, 'first-name': 'Edward Goodrich', 'index': 18, 'last-name': 'Acheson', 'title': 'A pathfinder: discovery, invention and industry; how the world came to have aquadag and oildag;'}]}\n",
      "Hello {'entries': [{'city': 'Boston', 'description': 'Written by the patient after her recovery.', 'index': 1, 'first-name': 'B.C.', 'last-name': 'A.', 'library': 'DLC', 'page-count': 47, 'publish-year': 1909, 'publisher': 'R. G. Badger', 'title': 'My life as a dissociated personality...with an introduction by Morton Prince, M.D.'}, {'birth-year': 1854, 'city': 'Kristiansand', 'description': 'Minnesota violinist.', 'first-name': 'Eivind P.', 'index': 2, 'last-name': 'Aakus', 'library': 'MnHi', 'page-count': 112, 'publish-year': 1932, 'publisher': 'Johanssen & Tangens', 'title': 'Minne...'}, {'birth-year': 1863, 'city': 'Boston', 'death-year': 1934, 'description': 'Reporter in Chicago and N.Y.', 'first-name': 'Willis John', 'index': 3, 'last-name': 'Abbot', 'library': 'WU', 'page-count': 358, 'publish-year': 1934, 'publisher': 'Little, Brown', 'title': 'Watching the world go by.'}, {'description': 'Story of youth in California about 1850.', 'first-name': 'Augustus', 'index': 4, 'last-name': 'Abbott', 'library': 'C', 'page-count': 128, 'title': 'A boy pioneer...'}, {'birth-year': 1828, 'city': 'N.Y.', 'description': 'Railroad promoter, politician, California \"forty-niner\".', 'first-name': 'Carlisle Stewart', 'index': 5, 'last-name': 'Abbott', 'library': 'WHi', 'page-count': 235, 'publish-year': 1917, 'publisher': 'Neale', 'title': 'Recollections of a California pioneer.'}, {'birth-year': 1860, 'city': 'N.Y.', 'description': 'Montana.', 'first-name': 'Edward Charles', 'index': 6, 'last-name': 'Abbott', 'library': 'WHi', 'page-count': 270, 'publish-year': 1939, 'publisher': 'Farrar & Rinehart', 'title': 'We pointed them north; recollections of a cow-puncher.'}, {'birth-year': 1872, 'city': 'N.Y.', 'description': 'In the days of Lowell.', 'first-name': 'Eleanor Hallowell', 'index': 7, 'last-name': 'Abbott', 'library': 'WU', 'page-count': 280, 'publish-year': 1936, 'publisher': 'D. Appleton-Century', 'title': 'Being little in Cambridge...'}, {'city': 'Boston', 'description': 'Bookseller and teacher.', 'first-name': 'Eloise Mills', 'index': 8, 'last-name': 'Abbott', 'library': 'WHi', 'page-count': 359, 'publish-year': 1861, 'publisher': 'Abel Tompkins', 'title': 'Personal sketches and recollections.'}, {'birth-year': 1850, 'city': 'Minneapolis', 'description': 'Chicago born opera singer. A significant portion of this book is autobiographical.', 'first-name': 'Emma', 'index': 9, 'last-name': 'Abbott', 'library': 'MWA', 'page-count': 192, 'publish-year': 1891, 'publisher': 'L. Kimball printing co.', 'title': 'The life and professional career of Emma Abbott. By Sadie E. Martin.'}, {'birth-year': 1813, 'city': 'N.Y.', 'description': 'Matrimonial troubles in New York.', 'first-name': 'L.A.', 'index': 10, 'last-name': 'Abbott', 'library': 'DLC', 'page-count': 205, 'publish-year': 1870, 'publisher': 'Pub. for author', 'title': 'Seven wives and seven prisons.'}, {'birth-year': 1835, 'city': 'Boston & N.Y.', 'death-year': 1922, 'description': 'Congregational clergyman and writer on religious subjects (New York City). Editor of Outlook.', 'first-name': 'Lyman', 'index': 11, 'last-name': 'Abbott', 'library': 'WHi', 'page-count': 509, 'publish-year': 1915, 'publisher': 'Houghton Mifflin', 'title': 'Reminiscences...'}, {'birth-year': 1842, 'city': 'Lincoln', 'description': 'Lawyer, lt. gov. Nebraska. Union army soldier.', 'first-name': 'Othman A.', 'index': 12, 'last-name': 'Abbott', 'library': 'NbO', 'page-count': 176, 'publish-year': 1929, 'publisher': 'Nebraska state historical society', 'title': 'Recollections of a pioneer lawyer.'}, {'birth-year': 1881, 'city': 'N.Y.', 'death-year': 1945, 'description': 'Crimean born novelist who spent a number of years in this country.', 'first-name': 'Achmed', 'index': 13, 'last-name': 'Abdullah', 'library': 'NN', 'page-count': 312, 'publish-year': 1933, 'publisher': 'Farrar & Rinehart', 'title': 'The cat had nine lives...'}, {'birth-year': 1876, 'city': 'N.Y.', 'description': 'A reissue, with variations, of his, In camp with Theodore Roosevelt, 1933. Cowboy in Texas and Oklahoma. Wolf hunter, U.S. marshal in Oklahoma, and oil operator.', 'first-name': 'John R.', 'index': 14, 'last-name': 'Abernathy', 'library': 'NN', 'page-count': 224, 'publish-year': 1936, 'publisher': 'Association press', 'title': '\"Catch \\'em alive Jack;\" the life and adventures of an American pioneer.'}, {'birth-year': 1876, 'city': 'Croton-on-Hudson', 'description': 'In Texas and Oklahoma.', 'first-name': 'John R.', 'index': 15, 'last-name': 'Abernathy', 'library': 'NN', 'page-count': 57, 'publish-year': 1935, 'publisher': 'News press', 'title': 'A son of the frontier.'}, {'birth-year': 1841, 'city': 'Corunna, Mich.', 'description': 'A lumberman in Michigan discusses his experiences during 1861-1901.', 'first-name': 'Daniel', 'index': 16, 'last-name': 'Abrey', 'library': 'NN', 'page-count': 195, 'publish-year': 1903, 'publisher': 'Sheardy', 'title': 'Reminiscences...'}, {'birth-year': 1867, 'city': 'N.Y.', 'description': 'In Chicago.', 'first-name': 'Isaac Arthur', 'index': 17, 'last-name': 'Abt', 'library': 'DLC', 'page-count': 310, 'publish-year': 1944, 'publisher': 'McGraw-Hill', 'title': 'Baby doctor.'}, {'birth-year': 1856, 'death-year': 1931, 'first-name': 'Edward Goodrich', 'index': 18, 'last-name': 'Acheson', 'title': 'A pathfinder: discovery, invention and industry; how the world came to have aquadag and oildag;'}]}\n"
     ]
    }
   ],
   "source": [
    "import glob\n",
    "import json\n",
    "import sys\n",
    "sys.path.append(str(Path.cwd().\n",
    "parent))\n",
    "from benchmarking.txt_accuracy import clean_text_normalized, clean_text_nonorm, compute_metrics, build_dataframe\n",
    "from tools.file_retrieval import get_doc_names, get_docs, get_all_models\n",
    "from venv import logger\n",
    "from datetime import datetime\n",
    "\n",
    "def main():\n",
    "    \"\"\"\n",
    "    Prerequisites:\n",
    "    - Ground truth text files located at `project_root/ground-truth/txt/kbaa-p#xyz.txt`\n",
    "    - LLM/OCR transcribed files located at:\n",
    "        - for LLM transcriptions: `project_root/results/llm_img2txt/<MODEL-NAME>/kbaa-p#xyz.txt`\n",
    "        - for OCR transcriptions: `project_root/results/ocr_img2txt/<MODEL-NAME>/kbaa-p#xyz.txt`\n",
    "\n",
    "    The main function will:\n",
    "    - Gather all ground truth text files\n",
    "    - For each ground truth text file and for each LLM/OCR model, gather the corresponding transcription\n",
    "    - Clean all the text files (normalized and not normalized)\n",
    "    - Compute metrics for each file and model\n",
    "    - Save results in two CSV files (one for normalized, one for non-normalized)\n",
    "        - Results are saved in `project_root/benchmarking-results/txt-accuracy`\n",
    "    \"\"\"\n",
    "\n",
    "    # =============\n",
    "    # Preliminaries\n",
    "    # =============\n",
    "\n",
    "    # args = parse_arguments()\n",
    "\n",
    "    script_dir = str(Path.cwd())\n",
    "    project_root = str(root_dir)\n",
    "    logger.info(\"Script directory: %s\", script_dir)\n",
    "    logger.info(\"Project root: %s\", project_root)\n",
    "\n",
    "    # Ground truth\n",
    "    ground_truth_dir = root_dir / \"data\" / \"ground-truth\" / doc_format\n",
    "    doc_names = get_doc_names(ground_truth_dir, doc_format, keep_prefix=False)\n",
    "\n",
    "    # results/ paths\n",
    "    all_models = get_all_models(\n",
    "        os.path.join(output_dir, f\"llm-img2{doc_format}\"),\n",
    "        os.path.join(output_dir, \"ocr-img2txt\"),\n",
    "        os.path.join(output_dir, f\"ocr-llm-img2{doc_format}\"),\n",
    "        doc_format\n",
    "    )\n",
    "    logger.info(f\"Models found: {all_models}\")\n",
    "\n",
    "    # ===========\n",
    "    # Gather files\n",
    "    # ===========\n",
    "\n",
    "    # -> Gather ground truths and put into dict:\n",
    "    ground_truths, all_texts = get_docs(ground_truth_dir, doc_names, doc_format, name_has_prefix=True)\n",
    "    ground_truths[\"__ALL__\"] = all_texts\n",
    "    if doc_format == \"txt\":\n",
    "        doc_lengths_normalized = {\n",
    "            doc: len(clean_text_normalized(text)) for doc, text in ground_truths.items()\n",
    "        }\n",
    "        doc_lengths_nonorm = {\n",
    "            doc: len(clean_text_nonorm(text)) for doc, text in ground_truths.items()\n",
    "        }\n",
    "        total_doc_len_normalized = len(clean_text_normalized(ground_truths[\"__ALL__\"]))\n",
    "        total_doc_len_nonorm = len(clean_text_nonorm(ground_truths[\"__ALL__\"]))\n",
    "    elif doc_format == \"json\":\n",
    "        doc_lengths_normalized, doc_lengths_nonorm, total_doc_len_normalized, total_doc_len_nonorm = {}, {}, 0, 0\n",
    "        for doc, json_data in ground_truths.items():\n",
    "\n",
    "            # Loop over each entry in json object array\n",
    "            for entry in json_data[\"entries\"]:\n",
    "\n",
    "                # Loop over each field's value in the entry\n",
    "                for text in entry.values():\n",
    "                    doc_lengths_normalized[doc] = doc_lengths_normalized.get(doc, 0) + len(entry)\n",
    "                    doc_lengths_nonorm[doc] = doc_lengths_nonorm.get(doc, 0) + len(entry)\n",
    "            \n",
    "            # Add up the totals as we go along with doc_lengths_normalized etc.\n",
    "            total_doc_len_normalized += doc_lengths_normalized[doc]\n",
    "            total_doc_len_nonorm += doc_lengths_nonorm[doc]\n",
    "\n",
    "    # -> Gather each transcribed document and put into dict:\n",
    "\n",
    "    # Structure: results[model][doc]\n",
    "    results = {}\n",
    "\n",
    "    for model_type, model in all_models:\n",
    "        logger.info(\"Collecting results for model: %s\", model)\n",
    "        model_path = os.path.join(output_dir, model_type, model)\n",
    "        results[model_type] = results.get(model_type, {})\n",
    "        results[model_type][model], results[model_type][model][\"__ALL__\"] = get_docs(model_path, doc_names, doc_format, name_has_prefix=False)\n",
    "        logger.info(\"Collected results for model_type: %s, model: %s\", model_type, model)\n",
    "\n",
    "    # ===============\n",
    "    # Compute metrics\n",
    "    # ===============\n",
    "\n",
    "    normalized_results_data = {}\n",
    "    nonorm_results_data = {}\n",
    "\n",
    "    for model_type, model in all_models:\n",
    "        normalized_results_data[model_type] = normalized_results_data.get(model_type, {})\n",
    "        normalized_results_data[model_type][model] = normalized_results_data[model_type].get(model, {})\n",
    "        nonorm_results_data[model_type] = nonorm_results_data.get(model_type, {})\n",
    "        nonorm_results_data[model_type][model] = nonorm_results_data[model_type].get(model, {})\n",
    "\n",
    "        logger.info(\"Computing metrics for model_type: %s, model: %s\", model_type, model)\n",
    "        for doc in doc_names:\n",
    "            logger.info(\"Computing metrics for document: %s\", doc)\n",
    "            normalized_results_data[model_type][model][doc] = compute_metrics(\n",
    "                ground_truths[doc], results[model_type][model][doc], doc_format, normalized=True\n",
    "            )\n",
    "            nonorm_results_data[model_type][model][doc] = compute_metrics(\n",
    "                ground_truths[doc], results[model_type][model][doc], doc_format, normalized=False\n",
    "            )\n",
    "\n",
    "        normalized_results_data[model_type][model][\"__ALL__\"] = compute_metrics(\n",
    "            ground_truths[\"__ALL__\"], results[model_type][model][\"__ALL__\"], doc_format, normalized=True\n",
    "        )\n",
    "        nonorm_results_data[model_type][model][\"__ALL__\"] = compute_metrics(\n",
    "            ground_truths[\"__ALL__\"], results[model_type][model][\"__ALL__\"], doc_format, normalized=False\n",
    "        )\n",
    "\n",
    "    # Compute metrics separately for __ALL__]\n",
    "\n",
    "    # ====================\n",
    "    # Put metrics in table\n",
    "    # ====================\n",
    "\n",
    "    time = datetime.now().strftime(\"%Y-%m-%d_%H:%M:%S\")\n",
    "\n",
    "    results_base_dir = root_dir / \"benchmarking-results\" / f\"{doc_format}-accuracy\"\n",
    "\n",
    "    # Create different results directory for each model type\n",
    "    for model_type, _ in all_models:\n",
    "        results_dir = results_base_dir / model_type\n",
    "        results_dir.mkdir(parents=True, exist_ok=True)\n",
    "\n",
    "        normalized_df = build_dataframe(\n",
    "            f\"normalized_{time}\",\n",
    "            doc_names,\n",
    "            normalized_results_data[model_type],\n",
    "            doc_lengths_normalized,\n",
    "            total_doc_len_normalized,\n",
    "        )\n",
    "        nonorm_df = build_dataframe(\n",
    "            f\"nonorm_{time}\",\n",
    "            doc_names,\n",
    "            nonorm_results_data[model_type],\n",
    "            doc_lengths_nonorm,\n",
    "            total_doc_len_nonorm,\n",
    "        )\n",
    "\n",
    "        # ============\n",
    "        # Save results\n",
    "        # ============\n",
    "\n",
    "        # # Default save to project_root/benchmarking-results/txt-accuracy\n",
    "        # results_path = os.path.join(project_root, \"benchmarking-results\", \"txt-accuracy\")\n",
    "        # if not os.path.exists(results_path):\n",
    "        #     os.makedirs(results_path)\n",
    "        normalized_df.to_csv(os.path.join(str(results_dir), f\"normalized_{time}.csv\"))\n",
    "        nonorm_df.to_csv(os.path.join(str(results_dir), f\"nonorm_{time}.csv\"))\n",
    "\n",
    "\n",
    "if __name__ == \"__main__\":\n",
    "    main()"
   ]
  },
  {
   "cell_type": "code",
   "execution_count": 8,
   "id": "c757da42",
   "metadata": {},
   "outputs": [
    {
     "name": "stdout",
     "output_type": "stream",
     "text": [
      "{\"city\": \"Boston\", \"description\": \"Written by the patient after her recovery.\", \"index\": 1, \"first-name\": \"B.C.\", \"last-name\": \"A.\", \"library\": \"DLC\", \"page-count\": 47, \"publish-year\": 1909, \"publisher\": \"R. G. Badger\", \"title\": \"My life as a dissociated personality...with an introduction by Morton Prince, M.D.\"}\n"
     ]
    }
   ],
   "source": [
    "import sys\n",
    "import json\n",
    "from pathlib import Path\n",
    "sys.path.append(str(Path.cwd().\n",
    "parent))\n",
    "from benchmarking.txt_accuracy import clean_text_normalized, clean_text_nonorm, compute_metrics, build_dataframe\n",
    "with open(\"/Users/muhammadkhalid/Desktop/map2025/ocr-benchmarking/results/json/llm-img2json/gemini-2.0-flash/kbaa-p003.json\", \"r\") as file:\n",
    "    raw_json_data = json.load(file)\n",
    "text_data = json.dumps(raw_json_data['entries'][0])\n",
    "with open(\"/Users/muhammadkhalid/Desktop/test.txt\", \"w\") as file:\n",
    "    file.write(text_data)\n",
    "with open(\"/Users/muhammadkhalid/Desktop/map2025/ocr-benchmarking/data/ground-truth/json/gt_kbaa-p003.json\", \"r\") as file:\n",
    "    gt_json_data = json.load(file)\n",
    "# for i in range(len(raw_json_data['entries'])):\n",
    "    \n",
    "print(json.dumps(raw_json_data['entries'][0]))"
   ]
  },
  {
   "cell_type": "code",
   "execution_count": null,
   "id": "2065e63c",
   "metadata": {},
   "outputs": [],
   "source": []
  }
 ],
 "metadata": {
  "kernelspec": {
   "display_name": ".venv",
   "language": "python",
   "name": "python3"
  },
  "language_info": {
   "codemirror_mode": {
    "name": "ipython",
    "version": 3
   },
   "file_extension": ".py",
   "mimetype": "text/x-python",
   "name": "python",
   "nbconvert_exporter": "python",
   "pygments_lexer": "ipython3",
   "version": "3.12.9"
  }
 },
 "nbformat": 4,
 "nbformat_minor": 5
}
