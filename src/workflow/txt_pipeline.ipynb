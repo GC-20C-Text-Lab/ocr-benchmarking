{
 "cells": [
  {
   "cell_type": "markdown",
   "id": "4432e892",
   "metadata": {},
   "source": [
    "# OCR-mLLM Pipeline"
   ]
  },
  {
   "cell_type": "markdown",
   "id": "dd231b04",
   "metadata": {},
   "source": [
    "Before running this code you will need to set up your OpenAI & Gemini API keys. Here's how I did it:\n",
    "\n",
    "1. Create a new file in your root directory called `.env` (no prefix)\n",
    "2. Store your API keys with the following names: OPENAI_API_KEY, ANTHROPIC_API_KEY, and GOOGLE_API_KEY\n",
    "3. Create a virtual environment by typing the following commands into your terminal:\n",
    "    - ```python3 -m venv .venv```\n",
    "    - ```source .venv/bin/activate```\n",
    "    - ```pip install -r requirements.txt```\n",
    "4. After running the pipeline, type ```deactivate``` in your terminal to make everything go back to normal"
   ]
  },
  {
   "cell_type": "markdown",
   "id": "cadd7cf4",
   "metadata": {},
   "source": [
    "## 1. Setup"
   ]
  },
  {
   "cell_type": "markdown",
   "id": "002663b1",
   "metadata": {},
   "source": [
    "### a. Run this cell to ensure you have all the necessary directories"
   ]
  },
  {
   "cell_type": "markdown",
   "id": "8cd3540d",
   "metadata": {},
   "source": [
    "Before running the cell make sure you have an images folder in your root directory to feed the images into the pipeline"
   ]
  },
  {
   "cell_type": "code",
   "execution_count": null,
   "id": "549ec682",
   "metadata": {},
   "outputs": [],
   "source": [
    "from pathlib import Path\n",
    "import os\n",
    "import pytesseract\n",
    "from PIL import Image\n",
    "import asyncio\n",
    "from venv import logger\n",
    "from file_retrieval import *\n",
    "from json_creation import *\n",
    "from google.genai import types\n",
    "\n",
    "\n",
    "# Get the root directory of the project\n",
    "root_dir = Path.cwd().parent.parent\n",
    "\n",
    "\n",
    "# Get the user's path for the images folder assuming all images are stored here in .png format\n",
    "source_dir = root_dir / \"data\" / \"pngs\"\n",
    "txt_source_dir = root_dir / \"results\" / \"txt\" / \"ocr-llm-img2txt\"\n",
    "\n",
    "# Get the user's path for the output folder, create one if it doesn't exist\n",
    "txt_output_dir = root_dir / \"results\" / \"txt\"\n",
    "txt_output_dir.mkdir(parents=True, exist_ok=True)\n",
    "\n",
    "json_output_dir = root_dir / \"results\" / \"json\"\n",
    "json_output_dir.mkdir(parents=True, exist_ok=True)\n",
    "\n",
    "bm_txt_output_dir = root_dir / \"benchmarking-results\"/ f\"txt-accuracy\"\n",
    "bm_txt_output_dir.mkdir(parents=True, exist_ok=True)\n",
    "\n",
    "bm_json_output_dir = root_dir / \"benchmarking-results\"/ f\"json-accuracy\"\n",
    "bm_json_output_dir.mkdir(parents=True, exist_ok=True)\n",
    "\n",
    "# llm_array = [\"gpt-4o\", \"gemini-2.5-flash\", \"claude-4-sonnet\"]\n",
    "llms = {\"openai\": \"gpt-4o\", \"google\": \"gemini-2.5-flash\"}\n",
    "\n",
    "def make_llm_dirs(llms, target_dir, doc_format):\n",
    "    for llm in llms.values():\n",
    "        if doc_format == \"txt\":\n",
    "            dir = target_dir / f\"ocr-img2txt\" / \"pytesseract\"\n",
    "            dir.mkdir(parents=True, exist_ok=True)\n",
    "            dir = target_dir / f\"llm-img2txt\" / llm\n",
    "            dir.mkdir(parents=True, exist_ok=True)\n",
    "            dir = target_dir / f\"ocr-llm-img2txt\" / llm\n",
    "            dir.mkdir(parents=True, exist_ok=True)\n",
    "        else:\n",
    "            dir = target_dir / f\"llm-img2json\" / llm\n",
    "            dir.mkdir(parents=True, exist_ok=True)\n",
    "            dir = target_dir / f\"llm-txt2json\" / llm\n",
    "            dir.mkdir(parents=True, exist_ok=True)\n",
    "make_llm_dirs(llms, txt_output_dir, \"txt\")\n",
    "make_llm_dirs(llms, json_output_dir, \"json\")"
   ]
  },
  {
   "cell_type": "markdown",
   "id": "7859c660",
   "metadata": {},
   "source": [
    "### b. Setup API keys & image encoding function"
   ]
  },
  {
   "cell_type": "code",
   "execution_count": 2,
   "id": "c4fb7ecb",
   "metadata": {},
   "outputs": [
    {
     "data": {
      "text/plain": [
       "True"
      ]
     },
     "execution_count": 2,
     "metadata": {},
     "output_type": "execute_result"
    }
   ],
   "source": [
    "# optional\n",
    "from dotenv import load_dotenv\n",
    "\n",
    "load_dotenv()"
   ]
  },
  {
   "cell_type": "code",
   "execution_count": 3,
   "id": "a7ae833e",
   "metadata": {},
   "outputs": [],
   "source": [
    "from openai import OpenAI\n",
    "from anthropic import Anthropic\n",
    "from google import genai\n",
    "import base64\n",
    "from json_creation import *\n",
    "from txt_creation import *\n",
    "\n",
    "openai_api_key = os.getenv(\"OPENAI_API_KEY\")\n",
    "anthropic_api_key = os.getenv(\"ANTHROPIC_API_KEY\")\n",
    "\n",
    "# Function to encode the image\n",
    "def encode_image(image_path):\n",
    "    with open(image_path, \"rb\") as image_file:\n",
    "        return base64.b64encode(image_file.read()).decode('utf-8')\n",
    "\n",
    "\n",
    "gpt_client = OpenAI(api_key=openai_api_key)\n",
    "gemini_client = genai.Client(api_key=os.getenv(\"GOOGLE_API_KEY\"))\n",
    "claude_client = Anthropic(api_key=anthropic_api_key)\n"
   ]
  },
  {
   "cell_type": "markdown",
   "id": "0f3a5773",
   "metadata": {},
   "source": [
    "### c. Get image file paths"
   ]
  },
  {
   "cell_type": "code",
   "execution_count": 4,
   "id": "fed71bb2",
   "metadata": {},
   "outputs": [],
   "source": [
    "# Add all filenames in images directory into the `filenames` array with the ENTIRE filepath\n",
    "img_filepaths = []\n",
    "ocr_output_filepaths = []\n",
    "\n",
    "for path in source_dir.iterdir():\n",
    "    if path.suffix.lower() == \".png\" and path.is_file():\n",
    "      img_filepaths.append(path)"
   ]
  },
  {
   "cell_type": "markdown",
   "id": "5702eec5-e52d-4b51-8907-f593204a1b76",
   "metadata": {
    "vscode": {
     "languageId": "plaintext"
    }
   },
   "source": [
    "## 2. Run pytesseract"
   ]
  },
  {
   "cell_type": "code",
   "execution_count": 7,
   "id": "4c314b59",
   "metadata": {},
   "outputs": [],
   "source": [
    "# Windows users should run this cell, inserting their path to Tesseract\n",
    "pytesseract.pytesseract.tesseract_cmd = r'C:\\Program Files\\Tesseract-OCR\\tesseract'"
   ]
  },
  {
   "cell_type": "code",
   "execution_count": null,
   "id": "95e34ea1-f6ae-4de7-9887-764da7178f39",
   "metadata": {},
   "outputs": [],
   "source": [
    "# Read the files from ocr-benchmarking/images folder & write to results folder\n",
    "for path in img_filepaths:\n",
    "    file_name = txt_output_dir / \"ocr-img2txt\" / \"pytesseract\" / path.stem\n",
    "    file_name = str(file_name) + \".txt\"\n",
    "    \n",
    "    with open(file_name, 'w') as file:\n",
    "        file.write(pytesseract.image_to_string(Image.open(str(path)))) # TODO: Change config as needed"
   ]
  },
  {
   "cell_type": "markdown",
   "id": "6df39757",
   "metadata": {},
   "source": [
    "## 3. Prepare the prompt"
   ]
  },
  {
   "cell_type": "code",
   "execution_count": 9,
   "id": "045337cd",
   "metadata": {},
   "outputs": [],
   "source": [
    "prompt_template_ocr_llm = \"\"\"\n",
    "You are a text correction assistant. Your task is to clean up and correct errors from raw OCR output.\n",
    "The text may contain misrecognized characters, broken words, or incorrect formatting.\n",
    "Carefully read the provided OCR output, compare it to the original image, and produce a corrected version that is  \n",
    "as faithful to the original content as possible. Only correct obvious OCR errors, and do not attempt to complete\n",
    "cut-off entries or predict missing information. Put each entry on a separate line.\n",
    "When an entry has an index number in square brackets, place it at the end of the entry.\n",
    "Input (Raw OCR Text):\n",
    "{input}\n",
    "\"\"\"\n",
    "\n",
    "prompt_llm = \"\"\"\n",
    "Your task is to transcribe this image of a historical bibliography page as faithfully as possible.\n",
    "Only transcribe typed text that appears on the page and do not attempt to predict missing information or complete cut off entries. \n",
    "Put each entry on a separate line. When an entry has an index number in square brackets, place it at the end of the entry. \n",
    "\"\"\"\n",
    "\n"
   ]
  },
  {
   "cell_type": "markdown",
   "id": "0d58cb0c-aeb8-47cc-9528-26bc3a802984",
   "metadata": {},
   "source": [
    "## 4. OpenAI"
   ]
  },
  {
   "cell_type": "markdown",
   "id": "69d64bb8",
   "metadata": {},
   "source": [
    "### (i) Text"
   ]
  },
  {
   "cell_type": "markdown",
   "id": "06535758",
   "metadata": {},
   "source": [
    "#### a. OCR-LLM call"
   ]
  },
  {
   "cell_type": "code",
   "execution_count": null,
   "id": "163080e4-5134-407c-9cdd-7a89141e1632",
   "metadata": {},
   "outputs": [
    {
     "name": "stderr",
     "output_type": "stream",
     "text": [
      "[file retrieval] 2025-07-09 21:04:37 [INFO] HTTP Request: POST https://api.openai.com/v1/chat/completions \"HTTP/1.1 200 OK\"\n"
     ]
    }
   ],
   "source": [
    "for path in img_filepaths:\n",
    "    input = \"\"\n",
    "    base64_image = encode_image(path)\n",
    "    ocr_text_path = str(txt_output_dir / \"ocr-img2txt\" / \"pytesseract\" / path.stem) + \".txt\" # THIS REMAINS THE SAME b/c we're reading the OCR output\n",
    "    with open(ocr_text_path, 'r') as file:\n",
    "        input += file.read()\n",
    "    prompt_ocr_llm = prompt_template_ocr_llm.format(input=input).strip()\n",
    "\n",
    "    response = gpt_client.chat.completions.create(\n",
    "        model='gpt-4o',\n",
    "        temperature= 0,\n",
    "        messages=[\n",
    "            {\n",
    "                \"role\": \"user\", \n",
    "                \"content\": [\n",
    "                    {\n",
    "                        \"type\": \"text\",\n",
    "                        \"text\": prompt_ocr_llm\n",
    "                    },\n",
    "                    {\n",
    "                        \"type\": \"image_url\",\n",
    "                        \"image_url\": {\n",
    "                            \"url\": f\"data:image/png;base64,{base64_image}\"\n",
    "                        }\n",
    "                    }\n",
    "                ]\n",
    "            }\n",
    "            ]\n",
    "    )\n",
    "\n",
    "    with open(txt_output_dir / f\"ocr-llm-img2txt\" / \"gpt-4o\" / Path(path.stem + f\".txt\"), 'w') as file:\n",
    "        file.write(response.choices[0].message.content)"
   ]
  },
  {
   "cell_type": "markdown",
   "id": "e0cafe77",
   "metadata": {},
   "source": [
    "#### b. LLM call (without OCR)"
   ]
  },
  {
   "cell_type": "code",
   "execution_count": null,
   "id": "18c2eedc",
   "metadata": {},
   "outputs": [
    {
     "name": "stderr",
     "output_type": "stream",
     "text": [
      "[file retrieval] 2025-07-09 21:08:28 [INFO] HTTP Request: POST https://api.openai.com/v1/chat/completions \"HTTP/1.1 200 OK\"\n"
     ]
    }
   ],
   "source": [
    "for path in img_filepaths:\n",
    "    base64_image = encode_image(path)\n",
    "\n",
    "    response = gpt_client.chat.completions.create(\n",
    "        model='gpt-4o',\n",
    "        temperature= 0,\n",
    "        messages=[\n",
    "            {\n",
    "                \"role\": \"user\", \n",
    "                \"content\": [\n",
    "                    {\n",
    "                        \"type\": \"text\",\n",
    "                        \"text\": prompt_llm\n",
    "                    },\n",
    "                    {\n",
    "                        \"type\": \"image_url\",\n",
    "                        \"image_url\": {\n",
    "                            \"url\": f\"data:image/png;base64,{base64_image}\"\n",
    "                        }\n",
    "                    }\n",
    "                ]\n",
    "            }\n",
    "            ]\n",
    "    )\n",
    "\n",
    "    with open(txt_output_dir / f\"llm-img2txt\" / \"gpt-4o\" / Path(path.stem + f\".txt\"), 'w') as file:\n",
    "        file.write(response.choices[0].message.content)"
   ]
  },
  {
   "cell_type": "markdown",
   "id": "78aa37e9",
   "metadata": {},
   "source": [
    "#### c. OCR-LLM (Async)"
   ]
  },
  {
   "cell_type": "code",
   "execution_count": 7,
   "id": "4021c121",
   "metadata": {},
   "outputs": [
    {
     "name": "stdout",
     "output_type": "stream",
     "text": [
      "/Users/muhammadkhalid/Desktop/map2025/ocr-benchmarking/results/txt/ocr-img2txt/pytesseract/kbaa-p062.txt\n",
      "/Users/muhammadkhalid/Desktop/map2025/ocr-benchmarking/results/txt/ocr-img2txt/pytesseract/kbaa-p039.txt\n"
     ]
    },
    {
     "name": "stderr",
     "output_type": "stream",
     "text": [
      "[file retrieval] 2025-07-10 15:30:34 [INFO] HTTP Request: POST https://api.openai.com/v1/chat/completions \"HTTP/1.1 200 OK\"\n",
      "[file retrieval] 2025-07-10 15:30:55 [INFO] HTTP Request: POST https://api.openai.com/v1/chat/completions \"HTTP/1.1 200 OK\"\n"
     ]
    }
   ],
   "source": [
    "# Fetch ocr output files\n",
    "ocr_output_dir = txt_output_dir/\"ocr-img2txt\"/\"pytesseract\"\n",
    "ocr_output_filepaths = get_paths(ocr_output_dir, \"txt\")\n",
    "\n",
    "# Run the async processes\n",
    "await process_double_async(img_filepaths, ocr_output_filepaths, txt_output_dir/\"ocr-llm-img2txt\", openai_img_txt2txt_async, \"txt\", llms['openai'])"
   ]
  },
  {
   "cell_type": "markdown",
   "id": "267fdde9",
   "metadata": {},
   "source": [
    "#### d. LLM (Async)"
   ]
  },
  {
   "cell_type": "code",
   "execution_count": 8,
   "id": "a0544747",
   "metadata": {},
   "outputs": [
    {
     "name": "stderr",
     "output_type": "stream",
     "text": [
      "[file retrieval] 2025-07-10 15:31:58 [INFO] HTTP Request: POST https://api.openai.com/v1/chat/completions \"HTTP/1.1 200 OK\"\n",
      "[file retrieval] 2025-07-10 15:32:17 [INFO] HTTP Request: POST https://api.openai.com/v1/chat/completions \"HTTP/1.1 200 OK\"\n"
     ]
    }
   ],
   "source": [
    "await process_single_async(img_filepaths, txt_output_dir/\"llm-img2txt\", openai_img2txt_async, \"txt\", llms['openai'])"
   ]
  },
  {
   "cell_type": "markdown",
   "id": "0b5692d2",
   "metadata": {},
   "source": [
    "### (ii) JSON"
   ]
  },
  {
   "cell_type": "markdown",
   "id": "fd528634",
   "metadata": {},
   "source": [
    "#### a. Image to JSON"
   ]
  },
  {
   "cell_type": "code",
   "execution_count": 10,
   "id": "72f2dcb4",
   "metadata": {},
   "outputs": [
    {

     "name": "stdout",
     "output_type": "stream",
     "text": [
      "Image path c:\\Users\\vriez\\OneDrive\\Desktop\\Summer MAP\\ocr-benchmarking-1\\data\\pngs\\kbaa-p003.png\n"
     ]
    },
    {
     "name": "stderr",
     "output_type": "stream",
     "text": [
      "[file retrieval] 2025-07-10 13:15:16 [INFO] HTTP Request: POST https://api.openai.com/v1/chat/completions \"HTTP/1.1 200 OK\"\n"
     ]
    },
    {
     "name": "stdout",
     "output_type": "stream",
     "text": [
      "Output path: c:\\Users\\vriez\\OneDrive\\Desktop\\Summer MAP\\ocr-benchmarking-1\\results\\json\\llm-img2json\\gpt-4o\\kbaa-p003.json\n",
      "Image path c:\\Users\\vriez\\OneDrive\\Desktop\\Summer MAP\\ocr-benchmarking-1\\data\\pngs\\kbaa-p004.png\n"
     ]
    },
    {
     "name": "stderr",
     "output_type": "stream",
     "text": [
      "[file retrieval] 2025-07-10 13:16:18 [INFO] HTTP Request: POST https://api.openai.com/v1/chat/completions \"HTTP/1.1 200 OK\"\n"
     ]
    },
    {
     "name": "stdout",
     "output_type": "stream",
     "text": [
      "Output path: c:\\Users\\vriez\\OneDrive\\Desktop\\Summer MAP\\ocr-benchmarking-1\\results\\json\\llm-img2json\\gpt-4o\\kbaa-p004.json\n",
      "Image path c:\\Users\\vriez\\OneDrive\\Desktop\\Summer MAP\\ocr-benchmarking-1\\data\\pngs\\kbaa-p005.png\n"
     ]
    },
    {
     "name": "stderr",
     "output_type": "stream",
     "text": [
      "[file retrieval] 2025-07-10 13:17:21 [INFO] HTTP Request: POST https://api.openai.com/v1/chat/completions \"HTTP/1.1 200 OK\"\n"
     ]
    },
    {
     "name": "stdout",
     "output_type": "stream",
     "text": [
      "Output path: c:\\Users\\vriez\\OneDrive\\Desktop\\Summer MAP\\ocr-benchmarking-1\\results\\json\\llm-img2json\\gpt-4o\\kbaa-p005.json\n",
      "Image path c:\\Users\\vriez\\OneDrive\\Desktop\\Summer MAP\\ocr-benchmarking-1\\data\\pngs\\kbaa-p006.png\n"
     ]
    },
    {
     "name": "stderr",
     "output_type": "stream",
     "text": [
      "[file retrieval] 2025-07-10 13:18:53 [INFO] HTTP Request: POST https://api.openai.com/v1/chat/completions \"HTTP/1.1 200 OK\"\n"
     ]
    },
    {
     "name": "stdout",
     "output_type": "stream",
     "text": [
      "Output path: c:\\Users\\vriez\\OneDrive\\Desktop\\Summer MAP\\ocr-benchmarking-1\\results\\json\\llm-img2json\\gpt-4o\\kbaa-p006.json\n",
      "Image path c:\\Users\\vriez\\OneDrive\\Desktop\\Summer MAP\\ocr-benchmarking-1\\data\\pngs\\kbaa-p007.png\n"
     ]
    },
    {
     "name": "stderr",
     "output_type": "stream",
     "text": [
      "[file retrieval] 2025-07-10 13:19:32 [INFO] HTTP Request: POST https://api.openai.com/v1/chat/completions \"HTTP/1.1 200 OK\"\n"
     ]
    },
    {
     "name": "stdout",
     "output_type": "stream",
     "text": [
      "Output path: c:\\Users\\vriez\\OneDrive\\Desktop\\Summer MAP\\ocr-benchmarking-1\\results\\json\\llm-img2json\\gpt-4o\\kbaa-p007.json\n",
      "Image path c:\\Users\\vriez\\OneDrive\\Desktop\\Summer MAP\\ocr-benchmarking-1\\data\\pngs\\kbaa-p008.png\n"
     ]
    },
    {
     "name": "stderr",
     "output_type": "stream",
     "text": [
      "[file retrieval] 2025-07-10 13:20:31 [INFO] HTTP Request: POST https://api.openai.com/v1/chat/completions \"HTTP/1.1 200 OK\"\n"
     ]
    },
    {
     "name": "stdout",
     "output_type": "stream",
     "text": [
      "Output path: c:\\Users\\vriez\\OneDrive\\Desktop\\Summer MAP\\ocr-benchmarking-1\\results\\json\\llm-img2json\\gpt-4o\\kbaa-p008.json\n",
      "Image path c:\\Users\\vriez\\OneDrive\\Desktop\\Summer MAP\\ocr-benchmarking-1\\data\\pngs\\kbaa-p009.png\n"
     ]
    },
    {
     "name": "stderr",
     "output_type": "stream",
     "text": [
      "[file retrieval] 2025-07-10 13:21:30 [INFO] HTTP Request: POST https://api.openai.com/v1/chat/completions \"HTTP/1.1 200 OK\"\n"
     ]
    },
    {
     "name": "stdout",
     "output_type": "stream",
     "text": [
      "Output path: c:\\Users\\vriez\\OneDrive\\Desktop\\Summer MAP\\ocr-benchmarking-1\\results\\json\\llm-img2json\\gpt-4o\\kbaa-p009.json\n",
      "Image path c:\\Users\\vriez\\OneDrive\\Desktop\\Summer MAP\\ocr-benchmarking-1\\data\\pngs\\kbaa-p010.png\n"
     ]
    },
    {
     "name": "stderr",
     "output_type": "stream",
     "text": [
      "[file retrieval] 2025-07-10 13:22:17 [INFO] HTTP Request: POST https://api.openai.com/v1/chat/completions \"HTTP/1.1 200 OK\"\n"
     ]
    },
    {
     "name": "stdout",
     "output_type": "stream",
     "text": [
      "Output path: c:\\Users\\vriez\\OneDrive\\Desktop\\Summer MAP\\ocr-benchmarking-1\\results\\json\\llm-img2json\\gpt-4o\\kbaa-p010.json\n",
      "Image path c:\\Users\\vriez\\OneDrive\\Desktop\\Summer MAP\\ocr-benchmarking-1\\data\\pngs\\kbaa-p011.png\n"
     ]
    },
    {
     "name": "stderr",
     "output_type": "stream",
     "text": [
      "[file retrieval] 2025-07-10 13:23:28 [INFO] HTTP Request: POST https://api.openai.com/v1/chat/completions \"HTTP/1.1 200 OK\"\n"
     ]
    },
    {
     "name": "stdout",
     "output_type": "stream",
     "text": [
      "Output path: c:\\Users\\vriez\\OneDrive\\Desktop\\Summer MAP\\ocr-benchmarking-1\\results\\json\\llm-img2json\\gpt-4o\\kbaa-p011.json\n",
      "Image path c:\\Users\\vriez\\OneDrive\\Desktop\\Summer MAP\\ocr-benchmarking-1\\data\\pngs\\kbaa-p012.png\n"
     ]
    },
    {
     "name": "stderr",
     "output_type": "stream",
     "text": [
      "[file retrieval] 2025-07-10 13:24:41 [INFO] HTTP Request: POST https://api.openai.com/v1/chat/completions \"HTTP/1.1 200 OK\"\n"
     ]
    },
    {
     "name": "stdout",
     "output_type": "stream",
     "text": [
      "Output path: c:\\Users\\vriez\\OneDrive\\Desktop\\Summer MAP\\ocr-benchmarking-1\\results\\json\\llm-img2json\\gpt-4o\\kbaa-p012.json\n",
      "Image path c:\\Users\\vriez\\OneDrive\\Desktop\\Summer MAP\\ocr-benchmarking-1\\data\\pngs\\kbaa-p038.png\n"
     ]
    },
    {
     "name": "stderr",
     "output_type": "stream",
     "text": [
      "[file retrieval] 2025-07-10 13:25:51 [INFO] HTTP Request: POST https://api.openai.com/v1/chat/completions \"HTTP/1.1 200 OK\"\n"
     ]
    },
    {
     "name": "stdout",
     "output_type": "stream",
     "text": [
      "Output path: c:\\Users\\vriez\\OneDrive\\Desktop\\Summer MAP\\ocr-benchmarking-1\\results\\json\\llm-img2json\\gpt-4o\\kbaa-p038.json\n",
      "Image path c:\\Users\\vriez\\OneDrive\\Desktop\\Summer MAP\\ocr-benchmarking-1\\data\\pngs\\kbaa-p039.png\n"
     ]
    },
    {
     "name": "stderr",
     "output_type": "stream",
     "text": [
      "[file retrieval] 2025-07-10 13:26:39 [INFO] HTTP Request: POST https://api.openai.com/v1/chat/completions \"HTTP/1.1 200 OK\"\n"
     ]
    },
    {
     "name": "stdout",
     "output_type": "stream",
     "text": [
      "Output path: c:\\Users\\vriez\\OneDrive\\Desktop\\Summer MAP\\ocr-benchmarking-1\\results\\json\\llm-img2json\\gpt-4o\\kbaa-p039.json\n",
      "Image path c:\\Users\\vriez\\OneDrive\\Desktop\\Summer MAP\\ocr-benchmarking-1\\data\\pngs\\kbaa-p043.png\n"
     ]
    },
    {
     "name": "stderr",
     "output_type": "stream",
     "text": [
      "[file retrieval] 2025-07-10 13:27:40 [INFO] HTTP Request: POST https://api.openai.com/v1/chat/completions \"HTTP/1.1 200 OK\"\n"
     ]
    },
    {
     "name": "stdout",
     "output_type": "stream",
     "text": [
      "Output path: c:\\Users\\vriez\\OneDrive\\Desktop\\Summer MAP\\ocr-benchmarking-1\\results\\json\\llm-img2json\\gpt-4o\\kbaa-p043.json\n",
      "Image path c:\\Users\\vriez\\OneDrive\\Desktop\\Summer MAP\\ocr-benchmarking-1\\data\\pngs\\kbaa-p048.png\n"
     ]
    },
    {
     "name": "stderr",
     "output_type": "stream",
     "text": [
      "[file retrieval] 2025-07-10 13:28:11 [INFO] HTTP Request: POST https://api.openai.com/v1/chat/completions \"HTTP/1.1 200 OK\"\n"
     ]
    },
    {
     "name": "stdout",
     "output_type": "stream",
     "text": [
      "Output path: c:\\Users\\vriez\\OneDrive\\Desktop\\Summer MAP\\ocr-benchmarking-1\\results\\json\\llm-img2json\\gpt-4o\\kbaa-p048.json\n",
      "Image path c:\\Users\\vriez\\OneDrive\\Desktop\\Summer MAP\\ocr-benchmarking-1\\data\\pngs\\kbaa-p049.png\n"
     ]
    },
    {
     "name": "stderr",
     "output_type": "stream",
     "text": [
      "[file retrieval] 2025-07-10 13:29:17 [INFO] HTTP Request: POST https://api.openai.com/v1/chat/completions \"HTTP/1.1 200 OK\"\n"
     ]
    },
    {
     "name": "stdout",
     "output_type": "stream",
     "text": [
      "Output path: c:\\Users\\vriez\\OneDrive\\Desktop\\Summer MAP\\ocr-benchmarking-1\\results\\json\\llm-img2json\\gpt-4o\\kbaa-p049.json\n",
      "Image path c:\\Users\\vriez\\OneDrive\\Desktop\\Summer MAP\\ocr-benchmarking-1\\data\\pngs\\kbaa-p058.png\n"
     ]
    },
    {
     "name": "stderr",
     "output_type": "stream",
     "text": [
      "[file retrieval] 2025-07-10 13:29:58 [INFO] HTTP Request: POST https://api.openai.com/v1/chat/completions \"HTTP/1.1 200 OK\"\n"
     ]
    },
    {
     "name": "stdout",
     "output_type": "stream",
     "text": [
      "Output path: c:\\Users\\vriez\\OneDrive\\Desktop\\Summer MAP\\ocr-benchmarking-1\\results\\json\\llm-img2json\\gpt-4o\\kbaa-p058.json\n",
      "Image path c:\\Users\\vriez\\OneDrive\\Desktop\\Summer MAP\\ocr-benchmarking-1\\data\\pngs\\kbaa-p059.png\n"
     ]
    },
    {
     "name": "stderr",
     "output_type": "stream",
     "text": [
      "[file retrieval] 2025-07-10 13:31:08 [INFO] HTTP Request: POST https://api.openai.com/v1/chat/completions \"HTTP/1.1 200 OK\"\n"
     ]
    },
    {
     "name": "stdout",
     "output_type": "stream",
     "text": [
      "Output path: c:\\Users\\vriez\\OneDrive\\Desktop\\Summer MAP\\ocr-benchmarking-1\\results\\json\\llm-img2json\\gpt-4o\\kbaa-p059.json\n",
      "Image path c:\\Users\\vriez\\OneDrive\\Desktop\\Summer MAP\\ocr-benchmarking-1\\data\\pngs\\kbaa-p060.png\n"
     ]
    },
    {
     "name": "stderr",
     "output_type": "stream",
     "text": [
      "[file retrieval] 2025-07-10 13:32:05 [INFO] HTTP Request: POST https://api.openai.com/v1/chat/completions \"HTTP/1.1 200 OK\"\n"
     ]
    },
    {
     "name": "stdout",
     "output_type": "stream",
     "text": [
      "Output path: c:\\Users\\vriez\\OneDrive\\Desktop\\Summer MAP\\ocr-benchmarking-1\\results\\json\\llm-img2json\\gpt-4o\\kbaa-p060.json\n",
      "Image path c:\\Users\\vriez\\OneDrive\\Desktop\\Summer MAP\\ocr-benchmarking-1\\data\\pngs\\kbaa-p061.png\n"
     ]
    },
    {
     "name": "stderr",
     "output_type": "stream",
     "text": [
      "[file retrieval] 2025-07-10 13:33:00 [INFO] HTTP Request: POST https://api.openai.com/v1/chat/completions \"HTTP/1.1 200 OK\"\n"
     ]
    },
    {
     "name": "stdout",
     "output_type": "stream",
     "text": [
      "Output path: c:\\Users\\vriez\\OneDrive\\Desktop\\Summer MAP\\ocr-benchmarking-1\\results\\json\\llm-img2json\\gpt-4o\\kbaa-p061.json\n",
      "Image path c:\\Users\\vriez\\OneDrive\\Desktop\\Summer MAP\\ocr-benchmarking-1\\data\\pngs\\kbaa-p062.png\n"
     ]
    },
    {
     "name": "stderr",
     "output_type": "stream",
     "text": [
      "[file retrieval] 2025-07-10 13:33:54 [INFO] HTTP Request: POST https://api.openai.com/v1/chat/completions \"HTTP/1.1 200 OK\"\n"
     ]
    },
    {
     "name": "stdout",
     "output_type": "stream",
     "text": [
      "Output path: c:\\Users\\vriez\\OneDrive\\Desktop\\Summer MAP\\ocr-benchmarking-1\\results\\json\\llm-img2json\\gpt-4o\\kbaa-p062.json\n",
      "Image path c:\\Users\\vriez\\OneDrive\\Desktop\\Summer MAP\\ocr-benchmarking-1\\data\\pngs\\kbaa-p063.png\n"
     ]
    },
    {
     "name": "stderr",
     "output_type": "stream",
     "text": [
      "[file retrieval] 2025-07-10 13:34:46 [INFO] HTTP Request: POST https://api.openai.com/v1/chat/completions \"HTTP/1.1 200 OK\"\n"
     ]
    },
    {
     "name": "stdout",
     "output_type": "stream",
     "text": [
      "Output path: c:\\Users\\vriez\\OneDrive\\Desktop\\Summer MAP\\ocr-benchmarking-1\\results\\json\\llm-img2json\\gpt-4o\\kbaa-p063.json\n",
      "Image path c:\\Users\\vriez\\OneDrive\\Desktop\\Summer MAP\\ocr-benchmarking-1\\data\\pngs\\kbaa-p064.png\n"
     ]
    },
    {
     "name": "stderr",
     "output_type": "stream",
     "text": [
      "[file retrieval] 2025-07-10 13:35:50 [INFO] HTTP Request: POST https://api.openai.com/v1/chat/completions \"HTTP/1.1 200 OK\"\n"
     ]
    },
    {
     "name": "stdout",
     "output_type": "stream",
     "text": [
      "Output path: c:\\Users\\vriez\\OneDrive\\Desktop\\Summer MAP\\ocr-benchmarking-1\\results\\json\\llm-img2json\\gpt-4o\\kbaa-p064.json\n",
      "Image path c:\\Users\\vriez\\OneDrive\\Desktop\\Summer MAP\\ocr-benchmarking-1\\data\\pngs\\kbaa-p065.png\n"
     ]
    },
    {
     "name": "stderr",
     "output_type": "stream",
     "text": [
      "[file retrieval] 2025-07-10 13:36:38 [INFO] HTTP Request: POST https://api.openai.com/v1/chat/completions \"HTTP/1.1 200 OK\"\n"
     ]
    },
    {
     "name": "stdout",
     "output_type": "stream",
     "text": [
      "Output path: c:\\Users\\vriez\\OneDrive\\Desktop\\Summer MAP\\ocr-benchmarking-1\\results\\json\\llm-img2json\\gpt-4o\\kbaa-p065.json\n",
      "Image path c:\\Users\\vriez\\OneDrive\\Desktop\\Summer MAP\\ocr-benchmarking-1\\data\\pngs\\kbaa-p066.png\n"
     ]
    },
    {
     "name": "stderr",
     "output_type": "stream",
     "text": [
      "[file retrieval] 2025-07-10 13:37:41 [INFO] HTTP Request: POST https://api.openai.com/v1/chat/completions \"HTTP/1.1 200 OK\"\n"
     ]
    },
    {
     "name": "stdout",
     "output_type": "stream",
     "text": [
      "Output path: c:\\Users\\vriez\\OneDrive\\Desktop\\Summer MAP\\ocr-benchmarking-1\\results\\json\\llm-img2json\\gpt-4o\\kbaa-p066.json\n",
      "Image path c:\\Users\\vriez\\OneDrive\\Desktop\\Summer MAP\\ocr-benchmarking-1\\data\\pngs\\kbaa-p067.png\n"
     ]
    },
    {
     "name": "stderr",
     "output_type": "stream",
     "text": [
      "[file retrieval] 2025-07-10 13:38:29 [INFO] HTTP Request: POST https://api.openai.com/v1/chat/completions \"HTTP/1.1 200 OK\"\n"
     ]
    },
    {
     "name": "stdout",
     "output_type": "stream",
     "text": [
      "Output path: c:\\Users\\vriez\\OneDrive\\Desktop\\Summer MAP\\ocr-benchmarking-1\\results\\json\\llm-img2json\\gpt-4o\\kbaa-p067.json\n",
      "Image path c:\\Users\\vriez\\OneDrive\\Desktop\\Summer MAP\\ocr-benchmarking-1\\data\\pngs\\kbaa-p068.png\n"
     ]
    },
    {
     "name": "stderr",
     "output_type": "stream",
     "text": [
      "[file retrieval] 2025-07-10 13:39:27 [INFO] HTTP Request: POST https://api.openai.com/v1/chat/completions \"HTTP/1.1 200 OK\"\n"
     ]
    },
    {
     "name": "stdout",
     "output_type": "stream",
     "text": [
      "Output path: c:\\Users\\vriez\\OneDrive\\Desktop\\Summer MAP\\ocr-benchmarking-1\\results\\json\\llm-img2json\\gpt-4o\\kbaa-p068.json\n",
      "Image path c:\\Users\\vriez\\OneDrive\\Desktop\\Summer MAP\\ocr-benchmarking-1\\data\\pngs\\kbaa-p069.png\n"
     ]
    },
    {
     "name": "stderr",
     "output_type": "stream",
     "text": [
      "[file retrieval] 2025-07-10 13:40:13 [INFO] HTTP Request: POST https://api.openai.com/v1/chat/completions \"HTTP/1.1 200 OK\"\n"
     ]
    },
    {
     "name": "stdout",
     "output_type": "stream",
     "text": [
      "Output path: c:\\Users\\vriez\\OneDrive\\Desktop\\Summer MAP\\ocr-benchmarking-1\\results\\json\\llm-img2json\\gpt-4o\\kbaa-p069.json\n",
      "Image path c:\\Users\\vriez\\OneDrive\\Desktop\\Summer MAP\\ocr-benchmarking-1\\data\\pngs\\kbaa-p070.png\n"
     ]
    },
    {
     "name": "stderr",
     "output_type": "stream",
     "text": [
      "[file retrieval] 2025-07-10 13:41:10 [INFO] HTTP Request: POST https://api.openai.com/v1/chat/completions \"HTTP/1.1 200 OK\"\n"
     ]
    },
    {
     "name": "stdout",
     "output_type": "stream",
     "text": [
      "Output path: c:\\Users\\vriez\\OneDrive\\Desktop\\Summer MAP\\ocr-benchmarking-1\\results\\json\\llm-img2json\\gpt-4o\\kbaa-p070.json\n",
      "Image path c:\\Users\\vriez\\OneDrive\\Desktop\\Summer MAP\\ocr-benchmarking-1\\data\\pngs\\kbaa-p071.png\n"
     ]
    },
    {
     "name": "stderr",
     "output_type": "stream",
     "text": [
      "[file retrieval] 2025-07-10 13:42:15 [INFO] HTTP Request: POST https://api.openai.com/v1/chat/completions \"HTTP/1.1 200 OK\"\n"
     ]
    },
    {
     "name": "stdout",
     "output_type": "stream",
     "text": [
      "Output path: c:\\Users\\vriez\\OneDrive\\Desktop\\Summer MAP\\ocr-benchmarking-1\\results\\json\\llm-img2json\\gpt-4o\\kbaa-p071.json\n",
      "Image path c:\\Users\\vriez\\OneDrive\\Desktop\\Summer MAP\\ocr-benchmarking-1\\data\\pngs\\kbaa-p072.png\n"
     ]
    },
    {
     "name": "stderr",
     "output_type": "stream",
     "text": [
      "[file retrieval] 2025-07-10 13:43:02 [INFO] HTTP Request: POST https://api.openai.com/v1/chat/completions \"HTTP/1.1 200 OK\"\n"
     ]
    },
    {
     "name": "stdout",
     "output_type": "stream",
     "text": [
      "Output path: c:\\Users\\vriez\\OneDrive\\Desktop\\Summer MAP\\ocr-benchmarking-1\\results\\json\\llm-img2json\\gpt-4o\\kbaa-p072.json\n",
      "Image path c:\\Users\\vriez\\OneDrive\\Desktop\\Summer MAP\\ocr-benchmarking-1\\data\\pngs\\kbaa-p073.png\n"
     ]
    },
    {
     "name": "stderr",
     "output_type": "stream",
     "text": [
      "[file retrieval] 2025-07-10 13:44:30 [INFO] HTTP Request: POST https://api.openai.com/v1/chat/completions \"HTTP/1.1 200 OK\"\n"
     ]
    },
    {
     "name": "stdout",
     "output_type": "stream",
     "text": [
      "Output path: c:\\Users\\vriez\\OneDrive\\Desktop\\Summer MAP\\ocr-benchmarking-1\\results\\json\\llm-img2json\\gpt-4o\\kbaa-p073.json\n",
      "Image path c:\\Users\\vriez\\OneDrive\\Desktop\\Summer MAP\\ocr-benchmarking-1\\data\\pngs\\kbaa-p096.png\n"
     ]
    },
    {
     "name": "stderr",
     "output_type": "stream",
     "text": [
      "[file retrieval] 2025-07-10 13:46:01 [INFO] HTTP Request: POST https://api.openai.com/v1/chat/completions \"HTTP/1.1 200 OK\"\n"
     ]
    },
    {
     "name": "stdout",
     "output_type": "stream",
     "text": [
      "Output path: c:\\Users\\vriez\\OneDrive\\Desktop\\Summer MAP\\ocr-benchmarking-1\\results\\json\\llm-img2json\\gpt-4o\\kbaa-p096.json\n",
      "Image path c:\\Users\\vriez\\OneDrive\\Desktop\\Summer MAP\\ocr-benchmarking-1\\data\\pngs\\kbaa-p100.png\n"
     ]
    },
    {
     "name": "stderr",
     "output_type": "stream",
     "text": [
      "[file retrieval] 2025-07-10 13:46:53 [INFO] HTTP Request: POST https://api.openai.com/v1/chat/completions \"HTTP/1.1 200 OK\"\n"
     ]
    },
    {
     "name": "stdout",
     "output_type": "stream",
     "text": [
      "Output path: c:\\Users\\vriez\\OneDrive\\Desktop\\Summer MAP\\ocr-benchmarking-1\\results\\json\\llm-img2json\\gpt-4o\\kbaa-p100.json\n",
      "Image path c:\\Users\\vriez\\OneDrive\\Desktop\\Summer MAP\\ocr-benchmarking-1\\data\\pngs\\kbaa-p101.png\n"
     ]
    },
    {
     "name": "stderr",
     "output_type": "stream",
     "text": [
      "[file retrieval] 2025-07-10 13:48:06 [INFO] HTTP Request: POST https://api.openai.com/v1/chat/completions \"HTTP/1.1 200 OK\"\n"
     ]
    },
    {
     "name": "stdout",
     "output_type": "stream",
     "text": [
      "Output path: c:\\Users\\vriez\\OneDrive\\Desktop\\Summer MAP\\ocr-benchmarking-1\\results\\json\\llm-img2json\\gpt-4o\\kbaa-p101.json\n",
      "Image path c:\\Users\\vriez\\OneDrive\\Desktop\\Summer MAP\\ocr-benchmarking-1\\data\\pngs\\kbaa-p106.png\n"
     ]
    },
    {
     "name": "stderr",
     "output_type": "stream",
     "text": [
      "[file retrieval] 2025-07-10 13:49:06 [INFO] HTTP Request: POST https://api.openai.com/v1/chat/completions \"HTTP/1.1 200 OK\"\n"
     ]
    },
    {
     "name": "stdout",
     "output_type": "stream",
     "text": [
      "Output path: c:\\Users\\vriez\\OneDrive\\Desktop\\Summer MAP\\ocr-benchmarking-1\\results\\json\\llm-img2json\\gpt-4o\\kbaa-p106.json\n",
      "Image path c:\\Users\\vriez\\OneDrive\\Desktop\\Summer MAP\\ocr-benchmarking-1\\data\\pngs\\kbaa-p107.png\n"
     ]
    },
    {
     "name": "stderr",
     "output_type": "stream",
     "text": [
      "[file retrieval] 2025-07-10 13:50:25 [INFO] HTTP Request: POST https://api.openai.com/v1/chat/completions \"HTTP/1.1 200 OK\"\n"
     ]
    },
    {
     "name": "stdout",
     "output_type": "stream",
     "text": [
      "Output path: c:\\Users\\vriez\\OneDrive\\Desktop\\Summer MAP\\ocr-benchmarking-1\\results\\json\\llm-img2json\\gpt-4o\\kbaa-p107.json\n",
      "Image path c:\\Users\\vriez\\OneDrive\\Desktop\\Summer MAP\\ocr-benchmarking-1\\data\\pngs\\kbaa-p113.png\n"
     ]
    },
    {
     "name": "stderr",
     "output_type": "stream",
     "text": [
      "[file retrieval] 2025-07-10 13:51:18 [INFO] HTTP Request: POST https://api.openai.com/v1/chat/completions \"HTTP/1.1 200 OK\"\n"
     ]
    },
    {
     "name": "stdout",
     "output_type": "stream",
     "text": [
      "Output path: c:\\Users\\vriez\\OneDrive\\Desktop\\Summer MAP\\ocr-benchmarking-1\\results\\json\\llm-img2json\\gpt-4o\\kbaa-p113.json\n",
      "Image path c:\\Users\\vriez\\OneDrive\\Desktop\\Summer MAP\\ocr-benchmarking-1\\data\\pngs\\kbaa-p114.png\n"
     ]
    },
    {
     "name": "stderr",
     "output_type": "stream",
     "text": [
      "[file retrieval] 2025-07-10 13:52:23 [INFO] HTTP Request: POST https://api.openai.com/v1/chat/completions \"HTTP/1.1 200 OK\"\n"
     ]
    },
    {
     "name": "stdout",
     "output_type": "stream",
     "text": [
      "Output path: c:\\Users\\vriez\\OneDrive\\Desktop\\Summer MAP\\ocr-benchmarking-1\\results\\json\\llm-img2json\\gpt-4o\\kbaa-p114.json\n",
      "Image path c:\\Users\\vriez\\OneDrive\\Desktop\\Summer MAP\\ocr-benchmarking-1\\data\\pngs\\kbaa-p115.png\n"
     ]
    },
    {
     "name": "stderr",
     "output_type": "stream",
     "text": [
      "[file retrieval] 2025-07-10 13:53:17 [INFO] HTTP Request: POST https://api.openai.com/v1/chat/completions \"HTTP/1.1 200 OK\"\n"
     ]
    },
    {
     "name": "stdout",
     "output_type": "stream",
     "text": [
      "Output path: c:\\Users\\vriez\\OneDrive\\Desktop\\Summer MAP\\ocr-benchmarking-1\\results\\json\\llm-img2json\\gpt-4o\\kbaa-p115.json\n",
      "Image path c:\\Users\\vriez\\OneDrive\\Desktop\\Summer MAP\\ocr-benchmarking-1\\data\\pngs\\kbaa-p119.png\n"
     ]
    },
    {
     "name": "stderr",
     "output_type": "stream",
     "text": [
      "[file retrieval] 2025-07-10 13:54:19 [INFO] HTTP Request: POST https://api.openai.com/v1/chat/completions \"HTTP/1.1 200 OK\"\n"
     ]
    },
    {
     "name": "stdout",
     "output_type": "stream",
     "text": [
      "Output path: c:\\Users\\vriez\\OneDrive\\Desktop\\Summer MAP\\ocr-benchmarking-1\\results\\json\\llm-img2json\\gpt-4o\\kbaa-p119.json\n",
      "Image path c:\\Users\\vriez\\OneDrive\\Desktop\\Summer MAP\\ocr-benchmarking-1\\data\\pngs\\kbaa-p121.png\n"
     ]
    },
    {
     "name": "stderr",
     "output_type": "stream",
     "text": [
      "[file retrieval] 2025-07-10 13:55:43 [INFO] HTTP Request: POST https://api.openai.com/v1/chat/completions \"HTTP/1.1 200 OK\"\n"
     ]
    },
    {
     "name": "stdout",
     "output_type": "stream",
     "text": [
      "Output path: c:\\Users\\vriez\\OneDrive\\Desktop\\Summer MAP\\ocr-benchmarking-1\\results\\json\\llm-img2json\\gpt-4o\\kbaa-p121.json\n",
      "Image path c:\\Users\\vriez\\OneDrive\\Desktop\\Summer MAP\\ocr-benchmarking-1\\data\\pngs\\kbaa-p124.png\n"
     ]
    },
    {
     "name": "stderr",
     "output_type": "stream",
     "text": [
      "[file retrieval] 2025-07-10 13:56:44 [INFO] HTTP Request: POST https://api.openai.com/v1/chat/completions \"HTTP/1.1 200 OK\"\n"
     ]
    },
    {
     "name": "stdout",
     "output_type": "stream",
     "text": [
      "Output path: c:\\Users\\vriez\\OneDrive\\Desktop\\Summer MAP\\ocr-benchmarking-1\\results\\json\\llm-img2json\\gpt-4o\\kbaa-p124.json\n",
      "Image path c:\\Users\\vriez\\OneDrive\\Desktop\\Summer MAP\\ocr-benchmarking-1\\data\\pngs\\kbaa-p151.png\n"
     ]
    },
    {
     "name": "stderr",
     "output_type": "stream",
     "text": [
      "[file retrieval] 2025-07-10 13:57:47 [INFO] HTTP Request: POST https://api.openai.com/v1/chat/completions \"HTTP/1.1 200 OK\"\n"
     ]
    },
    {
     "name": "stdout",
     "output_type": "stream",
     "text": [
      "Output path: c:\\Users\\vriez\\OneDrive\\Desktop\\Summer MAP\\ocr-benchmarking-1\\results\\json\\llm-img2json\\gpt-4o\\kbaa-p151.json\n"
     ]
    }
   ],
   "source": [
    "\n",
    "count = 0\n",
    "for path in img_filepaths:\n",
    "    print(\"Image path\", path)\n",
    "    count += 1\n",
    "    response = openai_img2json(path)\n",
    "    with open(json_output_dir / f\"llm-img2json\" / \"gpt-4o\" / Path(path.stem + f\".json\"), 'w') as file:\n",
    "        print(\"Output path:\", json_output_dir / f\"llm-img2json\" / \"gpt-4o\" / Path(path.stem + f\".json\"))\n",
    "        file.write(response)"
   ]
  },
  {
   "cell_type": "markdown",
   "id": "6a1ccf05",
   "metadata": {},
   "source": [
    "#### b. Text to JSON"
   ]
  },
  {
   "cell_type": "code",
   "execution_count": 13,
   "id": "44edaf7d",
   "metadata": {},
   "outputs": [
    {
     "name": "stderr",
     "output_type": "stream",
     "text": [
      "[file retrieval] 2025-07-10 15:24:53 [INFO] HTTP Request: POST https://api.openai.com/v1/chat/completions \"HTTP/1.1 200 OK\"\n"
     ]
    },
    {
     "name": "stdout",
     "output_type": "stream",
     "text": [
      "Writing to c:\\Users\\vriez\\OneDrive\\Desktop\\Summer MAP\\ocr-benchmarking-1\\results\\json\\llm-txt2json\\gpt-4o\\kbaa-p003.json\n"
     ]
    },
    {
     "name": "stderr",
     "output_type": "stream",
     "text": [
      "[file retrieval] 2025-07-10 15:25:05 [INFO] HTTP Request: POST https://api.openai.com/v1/chat/completions \"HTTP/1.1 200 OK\"\n"
     ]
    },
    {
     "name": "stdout",
     "output_type": "stream",
     "text": [
      "Writing to c:\\Users\\vriez\\OneDrive\\Desktop\\Summer MAP\\ocr-benchmarking-1\\results\\json\\llm-txt2json\\gpt-4o\\kbaa-p004.json\n"
     ]
    },
    {
     "name": "stderr",
     "output_type": "stream",
     "text": [
      "[file retrieval] 2025-07-10 15:25:17 [INFO] HTTP Request: POST https://api.openai.com/v1/chat/completions \"HTTP/1.1 200 OK\"\n"
     ]
    },
    {
     "name": "stdout",
     "output_type": "stream",
     "text": [
      "Writing to c:\\Users\\vriez\\OneDrive\\Desktop\\Summer MAP\\ocr-benchmarking-1\\results\\json\\llm-txt2json\\gpt-4o\\kbaa-p005.json\n"
     ]
    },
    {
     "name": "stderr",
     "output_type": "stream",
     "text": [
      "[file retrieval] 2025-07-10 15:25:28 [INFO] HTTP Request: POST https://api.openai.com/v1/chat/completions \"HTTP/1.1 200 OK\"\n"
     ]
    },
    {
     "name": "stdout",
     "output_type": "stream",
     "text": [
      "Writing to c:\\Users\\vriez\\OneDrive\\Desktop\\Summer MAP\\ocr-benchmarking-1\\results\\json\\llm-txt2json\\gpt-4o\\kbaa-p006.json\n"
     ]
    },
    {
     "name": "stderr",
     "output_type": "stream",
     "text": [
      "[file retrieval] 2025-07-10 15:25:40 [INFO] HTTP Request: POST https://api.openai.com/v1/chat/completions \"HTTP/1.1 200 OK\"\n"
     ]
    },
    {
     "name": "stdout",
     "output_type": "stream",
     "text": [
      "Writing to c:\\Users\\vriez\\OneDrive\\Desktop\\Summer MAP\\ocr-benchmarking-1\\results\\json\\llm-txt2json\\gpt-4o\\kbaa-p007.json\n"
     ]
    },
    {
     "name": "stderr",
     "output_type": "stream",
     "text": [
      "[file retrieval] 2025-07-10 15:26:33 [INFO] HTTP Request: POST https://api.openai.com/v1/chat/completions \"HTTP/1.1 200 OK\"\n"
     ]
    },
    {
     "name": "stdout",
     "output_type": "stream",
     "text": [
      "Writing to c:\\Users\\vriez\\OneDrive\\Desktop\\Summer MAP\\ocr-benchmarking-1\\results\\json\\llm-txt2json\\gpt-4o\\kbaa-p008.json\n"
     ]
    },
    {
     "name": "stderr",
     "output_type": "stream",
     "text": [
      "[file retrieval] 2025-07-10 15:26:45 [INFO] HTTP Request: POST https://api.openai.com/v1/chat/completions \"HTTP/1.1 200 OK\"\n"
     ]
    },
    {
     "name": "stdout",
     "output_type": "stream",
     "text": [
      "Writing to c:\\Users\\vriez\\OneDrive\\Desktop\\Summer MAP\\ocr-benchmarking-1\\results\\json\\llm-txt2json\\gpt-4o\\kbaa-p009.json\n"
     ]
    },
    {
     "name": "stderr",
     "output_type": "stream",
     "text": [
      "[file retrieval] 2025-07-10 15:26:54 [INFO] HTTP Request: POST https://api.openai.com/v1/chat/completions \"HTTP/1.1 200 OK\"\n"
     ]
    },
    {
     "name": "stdout",
     "output_type": "stream",
     "text": [
      "Writing to c:\\Users\\vriez\\OneDrive\\Desktop\\Summer MAP\\ocr-benchmarking-1\\results\\json\\llm-txt2json\\gpt-4o\\kbaa-p010.json\n"
     ]
    },
    {
     "name": "stderr",
     "output_type": "stream",
     "text": [
      "[file retrieval] 2025-07-10 15:27:07 [INFO] HTTP Request: POST https://api.openai.com/v1/chat/completions \"HTTP/1.1 200 OK\"\n"
     ]
    },
    {
     "name": "stdout",
     "output_type": "stream",
     "text": [
      "Writing to c:\\Users\\vriez\\OneDrive\\Desktop\\Summer MAP\\ocr-benchmarking-1\\results\\json\\llm-txt2json\\gpt-4o\\kbaa-p011.json\n"
     ]
    },
    {
     "name": "stderr",
     "output_type": "stream",
     "text": [
      "[file retrieval] 2025-07-10 15:27:20 [INFO] HTTP Request: POST https://api.openai.com/v1/chat/completions \"HTTP/1.1 200 OK\"\n"
     ]
    },
    {
     "name": "stdout",
     "output_type": "stream",
     "text": [
      "Writing to c:\\Users\\vriez\\OneDrive\\Desktop\\Summer MAP\\ocr-benchmarking-1\\results\\json\\llm-txt2json\\gpt-4o\\kbaa-p012.json\n"
     ]
    },
    {
     "name": "stderr",
     "output_type": "stream",
     "text": [
      "[file retrieval] 2025-07-10 15:27:31 [INFO] HTTP Request: POST https://api.openai.com/v1/chat/completions \"HTTP/1.1 200 OK\"\n"
     ]
    },
    {
     "name": "stdout",
     "output_type": "stream",
     "text": [
      "Writing to c:\\Users\\vriez\\OneDrive\\Desktop\\Summer MAP\\ocr-benchmarking-1\\results\\json\\llm-txt2json\\gpt-4o\\kbaa-p038.json\n"
     ]
    },
    {
     "name": "stderr",
     "output_type": "stream",
     "text": [
      "[file retrieval] 2025-07-10 15:27:43 [INFO] HTTP Request: POST https://api.openai.com/v1/chat/completions \"HTTP/1.1 200 OK\"\n"
     ]
    },
    {
     "name": "stdout",
     "output_type": "stream",
     "text": [
      "Writing to c:\\Users\\vriez\\OneDrive\\Desktop\\Summer MAP\\ocr-benchmarking-1\\results\\json\\llm-txt2json\\gpt-4o\\kbaa-p039.json\n"
     ]
    },
    {
     "name": "stderr",
     "output_type": "stream",
     "text": [
      "[file retrieval] 2025-07-10 15:28:09 [INFO] HTTP Request: POST https://api.openai.com/v1/chat/completions \"HTTP/1.1 200 OK\"\n"
     ]
    },
    {
     "name": "stdout",
     "output_type": "stream",
     "text": [
      "Writing to c:\\Users\\vriez\\OneDrive\\Desktop\\Summer MAP\\ocr-benchmarking-1\\results\\json\\llm-txt2json\\gpt-4o\\kbaa-p043.json\n"
     ]
    },
    {
     "name": "stderr",
     "output_type": "stream",
     "text": [
      "[file retrieval] 2025-07-10 15:28:26 [INFO] HTTP Request: POST https://api.openai.com/v1/chat/completions \"HTTP/1.1 200 OK\"\n"
     ]
    },
    {
     "name": "stdout",
     "output_type": "stream",
     "text": [
      "Writing to c:\\Users\\vriez\\OneDrive\\Desktop\\Summer MAP\\ocr-benchmarking-1\\results\\json\\llm-txt2json\\gpt-4o\\kbaa-p048.json\n"
     ]
    },
    {
     "name": "stderr",
     "output_type": "stream",
     "text": [
      "[file retrieval] 2025-07-10 15:28:37 [INFO] HTTP Request: POST https://api.openai.com/v1/chat/completions \"HTTP/1.1 200 OK\"\n"
     ]
    },
    {
     "name": "stdout",
     "output_type": "stream",
     "text": [
      "Writing to c:\\Users\\vriez\\OneDrive\\Desktop\\Summer MAP\\ocr-benchmarking-1\\results\\json\\llm-txt2json\\gpt-4o\\kbaa-p049.json\n"
     ]
    },
    {
     "name": "stderr",
     "output_type": "stream",
     "text": [
      "[file retrieval] 2025-07-10 15:29:53 [INFO] HTTP Request: POST https://api.openai.com/v1/chat/completions \"HTTP/1.1 200 OK\"\n"
     ]
    },
    {
     "name": "stdout",
     "output_type": "stream",
     "text": [
      "Writing to c:\\Users\\vriez\\OneDrive\\Desktop\\Summer MAP\\ocr-benchmarking-1\\results\\json\\llm-txt2json\\gpt-4o\\kbaa-p058.json\n"
     ]
    },
    {
     "name": "stderr",
     "output_type": "stream",
     "text": [
      "[file retrieval] 2025-07-10 15:30:04 [INFO] HTTP Request: POST https://api.openai.com/v1/chat/completions \"HTTP/1.1 200 OK\"\n"
     ]
    },
    {
     "name": "stdout",
     "output_type": "stream",
     "text": [
      "Writing to c:\\Users\\vriez\\OneDrive\\Desktop\\Summer MAP\\ocr-benchmarking-1\\results\\json\\llm-txt2json\\gpt-4o\\kbaa-p059.json\n"
     ]
    },
    {
     "name": "stderr",
     "output_type": "stream",
     "text": [
      "[file retrieval] 2025-07-10 15:30:16 [INFO] HTTP Request: POST https://api.openai.com/v1/chat/completions \"HTTP/1.1 200 OK\"\n"
     ]
    },
    {
     "name": "stdout",
     "output_type": "stream",
     "text": [
      "Writing to c:\\Users\\vriez\\OneDrive\\Desktop\\Summer MAP\\ocr-benchmarking-1\\results\\json\\llm-txt2json\\gpt-4o\\kbaa-p060.json\n"
     ]
    },
    {
     "name": "stderr",
     "output_type": "stream",
     "text": [
      "[file retrieval] 2025-07-10 15:30:25 [INFO] HTTP Request: POST https://api.openai.com/v1/chat/completions \"HTTP/1.1 200 OK\"\n"
     ]
    },
    {
     "name": "stdout",
     "output_type": "stream",
     "text": [
      "Writing to c:\\Users\\vriez\\OneDrive\\Desktop\\Summer MAP\\ocr-benchmarking-1\\results\\json\\llm-txt2json\\gpt-4o\\kbaa-p061.json\n"
     ]
    },
    {
     "name": "stderr",
     "output_type": "stream",
     "text": [
      "[file retrieval] 2025-07-10 15:30:36 [INFO] HTTP Request: POST https://api.openai.com/v1/chat/completions \"HTTP/1.1 200 OK\"\n"
     ]
    },
    {
     "name": "stdout",
     "output_type": "stream",
     "text": [
      "Writing to c:\\Users\\vriez\\OneDrive\\Desktop\\Summer MAP\\ocr-benchmarking-1\\results\\json\\llm-txt2json\\gpt-4o\\kbaa-p062.json\n"
     ]
    },
    {
     "name": "stderr",
     "output_type": "stream",
     "text": [
      "[file retrieval] 2025-07-10 15:30:47 [INFO] HTTP Request: POST https://api.openai.com/v1/chat/completions \"HTTP/1.1 200 OK\"\n"
     ]
    },
    {
     "name": "stdout",
     "output_type": "stream",
     "text": [
      "Writing to c:\\Users\\vriez\\OneDrive\\Desktop\\Summer MAP\\ocr-benchmarking-1\\results\\json\\llm-txt2json\\gpt-4o\\kbaa-p063.json\n"
     ]
    },
    {
     "name": "stderr",
     "output_type": "stream",
     "text": [
      "[file retrieval] 2025-07-10 15:30:59 [INFO] HTTP Request: POST https://api.openai.com/v1/chat/completions \"HTTP/1.1 200 OK\"\n"
     ]
    },
    {
     "name": "stdout",
     "output_type": "stream",
     "text": [
      "Writing to c:\\Users\\vriez\\OneDrive\\Desktop\\Summer MAP\\ocr-benchmarking-1\\results\\json\\llm-txt2json\\gpt-4o\\kbaa-p064.json\n"
     ]
    },
    {
     "name": "stderr",
     "output_type": "stream",
     "text": [
      "[file retrieval] 2025-07-10 15:31:09 [INFO] HTTP Request: POST https://api.openai.com/v1/chat/completions \"HTTP/1.1 200 OK\"\n"
     ]
    },
    {
     "name": "stdout",
     "output_type": "stream",
     "text": [
      "Output path: /Users/muhammadkhalid/Desktop/map2025/ocr-benchmarking/results/json/llm-img2json/gpt-4o/kbaa-p038.json\n"
     ]
    }
   ],
   "source": [
    "for path in img_filepaths:\n",
    "    response = openai_img2json(path)\n",
    "    with open(json_output_dir / f\"llm-img2json\" / \"gpt-4o\" / Path(path.stem + \".json\"), 'w') as file:\n",
    "        print(\"Output path:\", json_output_dir / f\"llm-img2json\" / \"gpt-4o\" / Path(path.stem + \".json\"))\n",
    "        file.write(response)"
   ]
  },
  {
   "cell_type": "markdown",
   "id": "6a1ccf05",
   "metadata": {},
   "source": [
    "#### b. Text to JSON"
   ]
  },
  {
   "cell_type": "code",
   "execution_count": 11,
   "id": "44edaf7d",
   "metadata": {},
   "outputs": [
      "Writing to c:\\Users\\vriez\\OneDrive\\Desktop\\Summer MAP\\ocr-benchmarking-1\\results\\json\\llm-txt2json\\gpt-4o\\kbaa-p065.json\n"
     ]
    },
    {
     "name": "stderr",
     "output_type": "stream",
     "text": [
      "[file retrieval] 2025-07-10 15:31:22 [INFO] HTTP Request: POST https://api.openai.com/v1/chat/completions \"HTTP/1.1 200 OK\"\n"
     ]
    },
    {
     "name": "stdout",
     "output_type": "stream",
     "text": [
      "Writing to c:\\Users\\vriez\\OneDrive\\Desktop\\Summer MAP\\ocr-benchmarking-1\\results\\json\\llm-txt2json\\gpt-4o\\kbaa-p066.json\n"
     ]
    },
    {
     "name": "stderr",
     "output_type": "stream",
     "text": [
      "[file retrieval] 2025-07-10 15:31:33 [INFO] HTTP Request: POST https://api.openai.com/v1/chat/completions \"HTTP/1.1 200 OK\"\n"
     ]
    },
    {
     "name": "stdout",
     "output_type": "stream",
     "text": [
      "Writing to c:\\Users\\vriez\\OneDrive\\Desktop\\Summer MAP\\ocr-benchmarking-1\\results\\json\\llm-txt2json\\gpt-4o\\kbaa-p067.json\n"
     ]
    },
    {
     "name": "stderr",
     "output_type": "stream",
     "text": [
      "[file retrieval] 2025-07-10 15:31:44 [INFO] HTTP Request: POST https://api.openai.com/v1/chat/completions \"HTTP/1.1 200 OK\"\n"
     ]
    },
    {
     "name": "stdout",
     "output_type": "stream",
     "text": [
      "Writing to c:\\Users\\vriez\\OneDrive\\Desktop\\Summer MAP\\ocr-benchmarking-1\\results\\json\\llm-txt2json\\gpt-4o\\kbaa-p068.json\n"
     ]
    },
    {
     "name": "stderr",
     "output_type": "stream",
     "text": [
      "[file retrieval] 2025-07-10 15:31:57 [INFO] HTTP Request: POST https://api.openai.com/v1/chat/completions \"HTTP/1.1 200 OK\"\n"
     ]
    },
    {
     "name": "stdout",
     "output_type": "stream",
     "text": [
      "Writing to c:\\Users\\vriez\\OneDrive\\Desktop\\Summer MAP\\ocr-benchmarking-1\\results\\json\\llm-txt2json\\gpt-4o\\kbaa-p069.json\n"
     ]
    },
    {
     "name": "stderr",
     "output_type": "stream",
     "text": [
      "[file retrieval] 2025-07-10 15:32:07 [INFO] HTTP Request: POST https://api.openai.com/v1/chat/completions \"HTTP/1.1 200 OK\"\n"
     ]
    },
    {
     "name": "stdout",
     "output_type": "stream",
     "text": [
      "Writing to c:\\Users\\vriez\\OneDrive\\Desktop\\Summer MAP\\ocr-benchmarking-1\\results\\json\\llm-txt2json\\gpt-4o\\kbaa-p070.json\n"
     ]
    },
    {
     "name": "stderr",
     "output_type": "stream",
     "text": [
      "[file retrieval] 2025-07-10 15:32:20 [INFO] HTTP Request: POST https://api.openai.com/v1/chat/completions \"HTTP/1.1 200 OK\"\n"
     ]
    },
    {
     "name": "stdout",
     "output_type": "stream",
     "text": [
      "Writing to c:\\Users\\vriez\\OneDrive\\Desktop\\Summer MAP\\ocr-benchmarking-1\\results\\json\\llm-txt2json\\gpt-4o\\kbaa-p071.json\n"
     ]
    },
    {
     "name": "stderr",
     "output_type": "stream",
     "text": [
      "[file retrieval] 2025-07-10 15:32:32 [INFO] HTTP Request: POST https://api.openai.com/v1/chat/completions \"HTTP/1.1 200 OK\"\n"
     ]
    },
    {
     "name": "stdout",
     "output_type": "stream",
     "text": [
      "Writing to c:\\Users\\vriez\\OneDrive\\Desktop\\Summer MAP\\ocr-benchmarking-1\\results\\json\\llm-txt2json\\gpt-4o\\kbaa-p072.json\n"
     ]
    },
    {
     "name": "stderr",
     "output_type": "stream",
     "text": [
      "[file retrieval] 2025-07-10 15:32:44 [INFO] HTTP Request: POST https://api.openai.com/v1/chat/completions \"HTTP/1.1 200 OK\"\n"
     ]
    },
    {
     "name": "stdout",
     "output_type": "stream",
     "text": [
      "Writing to c:\\Users\\vriez\\OneDrive\\Desktop\\Summer MAP\\ocr-benchmarking-1\\results\\json\\llm-txt2json\\gpt-4o\\kbaa-p073.json\n"
     ]
    },
    {
     "name": "stderr",
     "output_type": "stream",
     "text": [
      "[file retrieval] 2025-07-10 15:32:53 [INFO] HTTP Request: POST https://api.openai.com/v1/chat/completions \"HTTP/1.1 200 OK\"\n"
     ]
    },
    {
     "name": "stdout",
     "output_type": "stream",
     "text": [
      "Writing to c:\\Users\\vriez\\OneDrive\\Desktop\\Summer MAP\\ocr-benchmarking-1\\results\\json\\llm-txt2json\\gpt-4o\\kbaa-p096.json\n"
     ]
    },
    {
     "name": "stderr",
     "output_type": "stream",
     "text": [
      "[file retrieval] 2025-07-10 15:33:06 [INFO] HTTP Request: POST https://api.openai.com/v1/chat/completions \"HTTP/1.1 200 OK\"\n"
     ]
    },
    {
     "name": "stdout",
     "output_type": "stream",
     "text": [
      "Writing to c:\\Users\\vriez\\OneDrive\\Desktop\\Summer MAP\\ocr-benchmarking-1\\results\\json\\llm-txt2json\\gpt-4o\\kbaa-p100.json\n"
     ]
    },
    {
     "name": "stderr",
     "output_type": "stream",
     "text": [
      "[file retrieval] 2025-07-10 15:33:18 [INFO] HTTP Request: POST https://api.openai.com/v1/chat/completions \"HTTP/1.1 200 OK\"\n"
     ]
    },
    {
     "name": "stdout",
     "output_type": "stream",
     "text": [
      "Writing to c:\\Users\\vriez\\OneDrive\\Desktop\\Summer MAP\\ocr-benchmarking-1\\results\\json\\llm-txt2json\\gpt-4o\\kbaa-p101.json\n"
     ]
    },
    {
     "name": "stderr",
     "output_type": "stream",
     "text": [
      "[file retrieval] 2025-07-10 15:33:36 [INFO] HTTP Request: POST https://api.openai.com/v1/chat/completions \"HTTP/1.1 200 OK\"\n"
     ]
    },
    {
     "name": "stdout",
     "output_type": "stream",
     "text": [
      "Writing to c:\\Users\\vriez\\OneDrive\\Desktop\\Summer MAP\\ocr-benchmarking-1\\results\\json\\llm-txt2json\\gpt-4o\\kbaa-p106.json\n"
     ]
    },
    {
     "name": "stderr",
     "output_type": "stream",
     "text": [
      "[file retrieval] 2025-07-10 15:33:48 [INFO] HTTP Request: POST https://api.openai.com/v1/chat/completions \"HTTP/1.1 200 OK\"\n"
     ]
    },
    {
     "name": "stdout",
     "output_type": "stream",
     "text": [
      "Writing to c:\\Users\\vriez\\OneDrive\\Desktop\\Summer MAP\\ocr-benchmarking-1\\results\\json\\llm-txt2json\\gpt-4o\\kbaa-p107.json\n"
     ]
    },
    {
     "name": "stderr",
     "output_type": "stream",
     "text": [
      "[file retrieval] 2025-07-10 15:34:01 [INFO] HTTP Request: POST https://api.openai.com/v1/chat/completions \"HTTP/1.1 200 OK\"\n"
     ]
    },
    {
     "name": "stdout",
     "output_type": "stream",
     "text": [
      "Writing to c:\\Users\\vriez\\OneDrive\\Desktop\\Summer MAP\\ocr-benchmarking-1\\results\\json\\llm-txt2json\\gpt-4o\\kbaa-p113.json\n"
     ]
    },
    {
     "name": "stderr",
     "output_type": "stream",
     "text": [
      "[file retrieval] 2025-07-10 15:34:13 [INFO] HTTP Request: POST https://api.openai.com/v1/chat/completions \"HTTP/1.1 200 OK\"\n"
     ]
    },
    {
     "name": "stdout",
     "output_type": "stream",
     "text": [
      "Writing to c:\\Users\\vriez\\OneDrive\\Desktop\\Summer MAP\\ocr-benchmarking-1\\results\\json\\llm-txt2json\\gpt-4o\\kbaa-p114.json\n"
     ]
    },
    {
     "name": "stderr",
     "output_type": "stream",
     "text": [
      "[file retrieval] 2025-07-10 15:34:23 [INFO] HTTP Request: POST https://api.openai.com/v1/chat/completions \"HTTP/1.1 200 OK\"\n"
     ]
    },
    {
     "name": "stdout",
     "output_type": "stream",
     "text": [
      "Writing to c:\\Users\\vriez\\OneDrive\\Desktop\\Summer MAP\\ocr-benchmarking-1\\results\\json\\llm-txt2json\\gpt-4o\\kbaa-p115.json\n"
     ]
    },
    {
     "name": "stderr",
     "output_type": "stream",
     "text": [
      "[file retrieval] 2025-07-10 15:34:33 [INFO] HTTP Request: POST https://api.openai.com/v1/chat/completions \"HTTP/1.1 200 OK\"\n"
     ]
    },
    {
     "name": "stdout",
     "output_type": "stream",
     "text": [
      "Writing to c:\\Users\\vriez\\OneDrive\\Desktop\\Summer MAP\\ocr-benchmarking-1\\results\\json\\llm-txt2json\\gpt-4o\\kbaa-p119.json\n"
     ]
    },
    {
     "name": "stderr",
     "output_type": "stream",
     "text": [
      "[file retrieval] 2025-07-10 15:34:44 [INFO] HTTP Request: POST https://api.openai.com/v1/chat/completions \"HTTP/1.1 200 OK\"\n"
     ]
    },
    {
     "name": "stdout",
     "output_type": "stream",
     "text": [
      "Writing to c:\\Users\\vriez\\OneDrive\\Desktop\\Summer MAP\\ocr-benchmarking-1\\results\\json\\llm-txt2json\\gpt-4o\\kbaa-p121.json\n"
     ]
    },
    {
     "name": "stderr",
     "output_type": "stream",
     "text": [
      "[file retrieval] 2025-07-10 15:35:01 [INFO] HTTP Request: POST https://api.openai.com/v1/chat/completions \"HTTP/1.1 200 OK\"\n"
     ]
    },
    {
     "name": "stdout",
     "output_type": "stream",
     "text": [
      "Writing to c:\\Users\\vriez\\OneDrive\\Desktop\\Summer MAP\\ocr-benchmarking-1\\results\\json\\llm-txt2json\\gpt-4o\\kbaa-p124.json\n"
     ]
    },

    {
     "name": "stderr",
     "output_type": "stream",
     "text": [

      "[file retrieval] 2025-07-10 15:47:38 [INFO] HTTP Request: POST https://api.openai.com/v1/chat/completions \"HTTP/1.1 200 OK\"\n"

      "[file retrieval] 2025-07-10 15:35:21 [INFO] HTTP Request: POST https://api.openai.com/v1/chat/completions \"HTTP/1.1 200 OK\"\n"

     ]
    },
    {
     "name": "stdout",
     "output_type": "stream",
     "text": [

      "Writing to /Users/muhammadkhalid/Desktop/map2025/ocr-benchmarking/results/json/llm-txt2json/gpt-4o/kbaa-p039.json\n"

      "Writing to c:\\Users\\vriez\\OneDrive\\Desktop\\Summer MAP\\ocr-benchmarking-1\\results\\json\\llm-txt2json\\gpt-4o\\kbaa-p151.json\n"

     ]
    }
   ],
   "source": [
    "dir = txt_source_dir / llms['openai'] # where to look for ocr-llm-img2txt output\n",
    "\n",
    "# Get the text paths from ocr-llm-img2txt/gpt-4o directory\n",
    "txt_filepaths = get_paths(dir, \"txt\")\n",
    "\n",
    "for path in txt_filepaths:\n",
    "    ocr_text_path = str(root_dir / \"results\" / \"txt\" / \"ocr-img2txt\" / \"pytesseract\" /path.stem) + \".txt\" # THIS REMAINS THE SAME b/c we're reading the OCR output\n",
    "    response = openai_txt2json(ocr_text_path)\n",
    "    with open(json_output_dir / f\"llm-txt2json\" / \"gpt-4o\" / Path(path.stem + \".json\"), 'w') as file:\n",
    "        print(\"Writing to\", json_output_dir / \"llm-txt2json\" / \"gpt-4o\" / Path(path.stem + \".json\"))\n",
    "        file.write(response)"
   ]
  },
  {
   "cell_type": "markdown",
   "id": "7b7ed85e",
   "metadata": {},
   "source": [
    "#### c. Image to JSON (Async)"
   ]
  },
  {
   "cell_type": "code",
   "execution_count": 9,
   "id": "6bdfa470",
   "metadata": {},
   "outputs": [
    {
     "name": "stderr",
     "output_type": "stream",
     "text": [
      "[file retrieval] 2025-07-10 15:33:55 [INFO] HTTP Request: POST https://api.openai.com/v1/chat/completions \"HTTP/1.1 200 OK\"\n",
      "[file retrieval] 2025-07-10 15:34:08 [INFO] HTTP Request: POST https://api.openai.com/v1/chat/completions \"HTTP/1.1 200 OK\"\n"
     ]
    }
   ],
   "source": [
    "await process_json_async(img_filepaths, json_output_dir/\"llm-img2json\", openai_img2json_async, \"json\", llms['openai'])"
   ]
  },
  {
   "cell_type": "markdown",
   "id": "ec6ae2c9",
   "metadata": {},
   "source": [
    "#### d. Text to JSON (Async)"
   ]
  },
  {
   "cell_type": "code",
   "execution_count": 10,
   "id": "07e7b5f9",
   "metadata": {},
   "outputs": [
    {
     "name": "stderr",
     "output_type": "stream",
     "text": [
      "[file retrieval] 2025-07-10 15:34:32 [INFO] HTTP Request: POST https://api.openai.com/v1/chat/completions \"HTTP/1.1 200 OK\"\n",
      "[file retrieval] 2025-07-10 15:34:34 [INFO] HTTP Request: POST https://api.openai.com/v1/chat/completions \"HTTP/1.1 200 OK\"\n"
     ]
    }
   ],
   "source": [
    "dir = txt_source_dir / llms['openai'] # where to look for ocr-llm-img2txt output\n",
    "# Get the text paths from ocr-llm-img2txt/gpt-4o directory\n",
    "txt_filepaths = get_paths(dir, \"txt\")\n",
    "\n",
    "# Call the main function that concurrently runs relevant async function\n",
    "await process_json_async(txt_filepaths, json_output_dir/\"llm-txt2json\", openai_txt2json_async, \"json\", llms['openai'])"
   ]
  },
  {
   "cell_type": "markdown",
   "id": "d25ecae5",
   "metadata": {},
   "source": [
    "## 5. Gemini\n"
   ]
  },
  {
   "cell_type": "markdown",
   "id": "047fb167",
   "metadata": {},
   "source": [
    "### (i) Text"
   ]
  },
  {
   "cell_type": "markdown",
   "id": "3f10c212",
   "metadata": {},
   "source": [
    "#### a. OCR-LLM call"
   ]
  },
  {
   "cell_type": "code",
   "execution_count": 9,
   "id": "b9e5d357",
   "metadata": {},
   "outputs": [
    {
     "name": "stderr",
     "output_type": "stream",
     "text": [
      "[file retrieval] 2025-07-09 21:12:53 [INFO] HTTP Request: POST https://generativelanguage.googleapis.com/upload/v1beta/files \"HTTP/1.1 200 OK\"\n",
      "[file retrieval] 2025-07-09 21:12:54 [INFO] HTTP Request: POST https://generativelanguage.googleapis.com/upload/v1beta/files?upload_id=ABgVH88Nfk8VVZAecc5TK3gCRSmN3dNPFrwGhj9I6ybQY45UYcv8rt8UliOixmHtdmSXSqboF8zBgolhNhMhsc5v-ua3X93W8rl8N1IF5TN7Ywg&upload_protocol=resumable \"HTTP/1.1 200 OK\"\n",
      "[file retrieval] 2025-07-09 21:12:57 [INFO] HTTP Request: POST https://generativelanguage.googleapis.com/upload/v1beta/files?upload_id=ABgVH88Nfk8VVZAecc5TK3gCRSmN3dNPFrwGhj9I6ybQY45UYcv8rt8UliOixmHtdmSXSqboF8zBgolhNhMhsc5v-ua3X93W8rl8N1IF5TN7Ywg&upload_protocol=resumable \"HTTP/1.1 200 OK\"\n",
      "[file retrieval] 2025-07-09 21:12:57 [INFO] AFC is enabled with max remote calls: 10.\n",
      "[file retrieval] 2025-07-09 21:13:28 [INFO] HTTP Request: POST https://generativelanguage.googleapis.com/v1beta/models/gemini-2.5-flash:generateContent \"HTTP/1.1 200 OK\"\n",
      "[file retrieval] 2025-07-09 21:13:28 [INFO] AFC remote call 1 is done.\n"
     ]
    }
   ],
   "source": [
    "for path in img_filepaths:\n",
    "    my_file = gemini_client.files.upload(file=path)\n",
    "    input = \"\"\n",
    "    ocr_text_path = str(txt_output_dir / \"ocr-img2txt\" / \"pytesseract\" / path.stem) + \".txt\" # THIS REMAINS THE SAME b/c we're reading the OCR output\n",
    "    with open(ocr_text_path, 'r') as file:\n",
    "        input += file.read()\n",
    "    prompt_ocr_llm = prompt_template_ocr_llm.format(input=input).strip()\n",
    "\n",
    "    response = gemini_client.models.generate_content(\n",
    "        model='gemini-2.5-flash',\n",
    "        config= types.GenerateContentConfig(\n",
    "        temperature = 0\n",
    "        ),\n",
    "        contents=[\n",
    "            prompt_ocr_llm,\n",
    "            my_file\n",
    "        ]\n",
    "    )\n",
    "\n",
    "    with open(txt_output_dir / f\"ocr-llm-img2txt\" / \"gemini-2.5-flash\" / Path(path.stem + f\".txt\"), 'w') as file:\n",
    "        file.write(response.text)"
   ]
  },
  {
   "cell_type": "markdown",
   "id": "172d3100",
   "metadata": {},
   "source": [
    "#### b. LLM call (without OCR)"
   ]
  },
  {
   "cell_type": "code",
   "execution_count": null,
   "id": "d5d3d2d4",
   "metadata": {},
   "outputs": [
    {
     "name": "stderr",
     "output_type": "stream",
     "text": [
      "[file retrieval] 2025-07-09 21:15:56 [INFO] HTTP Request: POST https://generativelanguage.googleapis.com/upload/v1beta/files \"HTTP/1.1 200 OK\"\n",
      "[file retrieval] 2025-07-09 21:15:57 [INFO] HTTP Request: POST https://generativelanguage.googleapis.com/upload/v1beta/files?upload_id=ABgVH8-pOAlg5_pH_UGHfFFQT-W2d_ktZPHK3dQQD_MbJEszGtsXfXOp5Pn1HWnzKHJ9cNXJkThyNlZFGh1v1nTj_ozbbeUZS0O5lm84N7WcmTI&upload_protocol=resumable \"HTTP/1.1 200 OK\"\n",
      "[file retrieval] 2025-07-09 21:16:00 [INFO] HTTP Request: POST https://generativelanguage.googleapis.com/upload/v1beta/files?upload_id=ABgVH8-pOAlg5_pH_UGHfFFQT-W2d_ktZPHK3dQQD_MbJEszGtsXfXOp5Pn1HWnzKHJ9cNXJkThyNlZFGh1v1nTj_ozbbeUZS0O5lm84N7WcmTI&upload_protocol=resumable \"HTTP/1.1 200 OK\"\n",
      "[file retrieval] 2025-07-09 21:16:00 [INFO] AFC is enabled with max remote calls: 10.\n",
      "[file retrieval] 2025-07-09 21:16:14 [INFO] HTTP Request: POST https://generativelanguage.googleapis.com/v1beta/models/gemini-2.5-flash:generateContent \"HTTP/1.1 200 OK\"\n",
      "[file retrieval] 2025-07-09 21:16:14 [INFO] AFC remote call 1 is done.\n"
     ]
    }
   ],
   "source": [
    "for path in img_filepaths:\n",
    "    my_file = gemini_client.files.upload(file=path)\n",
    "\n",
    "    response = gemini_client.models.generate_content(\n",
    "        model='gemini-2.5-flash',\n",
    "        config= types.GenerateContentConfig(\n",
    "        temperature = 0\n",
    "        ),\n",
    "        contents=[\n",
    "            prompt_llm,\n",
    "            my_file\n",
    "        ]\n",
    "    )\n",
    "\n",
    "    with open(txt_output_dir / f\"llm-img2txt\" / \"gemini-2.5-flash\" / Path(path.stem + f\".txt\"), 'w') as file:\n",
    "        file.write(response.text)"
   ]
  },
  {
   "cell_type": "markdown",
   "id": "3f1cec32",
   "metadata": {},
   "source": [
    "### (ii) JSON"
   ]
  },
  {
   "cell_type": "markdown",
   "id": "af53393d",
   "metadata": {},
   "source": [
    "#### a. Image to JSON"
   ]
  },
  {
   "cell_type": "code",
   "execution_count": 11,
   "id": "17fe4fec",
   "metadata": {},
   "outputs": [
    {
     "name": "stderr",
     "output_type": "stream",
     "text": [
      "[file retrieval] 2025-07-10 14:11:13 [INFO] AFC is enabled with max remote calls: 10.\n",
      "[file retrieval] 2025-07-10 14:11:39 [INFO] HTTP Request: POST https://generativelanguage.googleapis.com/v1beta/models/gemini-2.5-flash:generateContent \"HTTP/1.1 200 OK\"\n",
      "[file retrieval] 2025-07-10 14:11:39 [INFO] AFC remote call 1 is done.\n",
      "[file retrieval] 2025-07-10 14:11:40 [INFO] AFC is enabled with max remote calls: 10.\n",
      "[file retrieval] 2025-07-10 14:12:19 [INFO] HTTP Request: POST https://generativelanguage.googleapis.com/v1beta/models/gemini-2.5-flash:generateContent \"HTTP/1.1 200 OK\"\n",
      "[file retrieval] 2025-07-10 14:12:19 [INFO] AFC remote call 1 is done.\n",
      "[file retrieval] 2025-07-10 14:12:19 [INFO] AFC is enabled with max remote calls: 10.\n",
      "[file retrieval] 2025-07-10 14:13:05 [INFO] HTTP Request: POST https://generativelanguage.googleapis.com/v1beta/models/gemini-2.5-flash:generateContent \"HTTP/1.1 200 OK\"\n",
      "[file retrieval] 2025-07-10 14:13:05 [INFO] AFC remote call 1 is done.\n",
      "[file retrieval] 2025-07-10 14:13:06 [INFO] AFC is enabled with max remote calls: 10.\n",
      "[file retrieval] 2025-07-10 14:13:50 [INFO] HTTP Request: POST https://generativelanguage.googleapis.com/v1beta/models/gemini-2.5-flash:generateContent \"HTTP/1.1 200 OK\"\n",
      "[file retrieval] 2025-07-10 14:13:50 [INFO] AFC remote call 1 is done.\n",
      "[file retrieval] 2025-07-10 14:13:50 [INFO] AFC is enabled with max remote calls: 10.\n",
      "[file retrieval] 2025-07-10 14:14:26 [INFO] HTTP Request: POST https://generativelanguage.googleapis.com/v1beta/models/gemini-2.5-flash:generateContent \"HTTP/1.1 200 OK\"\n",
      "[file retrieval] 2025-07-10 14:14:26 [INFO] AFC remote call 1 is done.\n",
      "[file retrieval] 2025-07-10 14:14:27 [INFO] AFC is enabled with max remote calls: 10.\n",
      "[file retrieval] 2025-07-10 14:15:06 [INFO] HTTP Request: POST https://generativelanguage.googleapis.com/v1beta/models/gemini-2.5-flash:generateContent \"HTTP/1.1 200 OK\"\n",
      "[file retrieval] 2025-07-10 14:15:06 [INFO] AFC remote call 1 is done.\n",
      "[file retrieval] 2025-07-10 14:15:06 [INFO] AFC is enabled with max remote calls: 10.\n",
      "[file retrieval] 2025-07-10 14:15:40 [INFO] HTTP Request: POST https://generativelanguage.googleapis.com/v1beta/models/gemini-2.5-flash:generateContent \"HTTP/1.1 200 OK\"\n",
      "[file retrieval] 2025-07-10 14:15:40 [INFO] AFC remote call 1 is done.\n",
      "[file retrieval] 2025-07-10 14:15:41 [INFO] AFC is enabled with max remote calls: 10.\n",
      "[file retrieval] 2025-07-10 14:16:23 [INFO] HTTP Request: POST https://generativelanguage.googleapis.com/v1beta/models/gemini-2.5-flash:generateContent \"HTTP/1.1 200 OK\"\n",
      "[file retrieval] 2025-07-10 14:16:23 [INFO] AFC remote call 1 is done.\n",
      "[file retrieval] 2025-07-10 14:16:23 [INFO] AFC is enabled with max remote calls: 10.\n",
      "[file retrieval] 2025-07-10 14:17:00 [INFO] HTTP Request: POST https://generativelanguage.googleapis.com/v1beta/models/gemini-2.5-flash:generateContent \"HTTP/1.1 200 OK\"\n",
      "[file retrieval] 2025-07-10 14:17:00 [INFO] AFC remote call 1 is done.\n",
      "[file retrieval] 2025-07-10 14:17:00 [INFO] AFC is enabled with max remote calls: 10.\n",
      "[file retrieval] 2025-07-10 14:17:39 [INFO] HTTP Request: POST https://generativelanguage.googleapis.com/v1beta/models/gemini-2.5-flash:generateContent \"HTTP/1.1 200 OK\"\n",
      "[file retrieval] 2025-07-10 14:17:39 [INFO] AFC remote call 1 is done.\n",
      "[file retrieval] 2025-07-10 14:17:40 [INFO] AFC is enabled with max remote calls: 10.\n",
      "[file retrieval] 2025-07-10 14:18:30 [INFO] HTTP Request: POST https://generativelanguage.googleapis.com/v1beta/models/gemini-2.5-flash:generateContent \"HTTP/1.1 200 OK\"\n",
      "[file retrieval] 2025-07-10 14:18:30 [INFO] AFC remote call 1 is done.\n",
      "[file retrieval] 2025-07-10 14:18:30 [INFO] AFC is enabled with max remote calls: 10.\n",
      "[file retrieval] 2025-07-10 14:19:02 [INFO] HTTP Request: POST https://generativelanguage.googleapis.com/v1beta/models/gemini-2.5-flash:generateContent \"HTTP/1.1 200 OK\"\n",
      "[file retrieval] 2025-07-10 14:19:02 [INFO] AFC remote call 1 is done.\n",
      "[file retrieval] 2025-07-10 14:19:03 [INFO] AFC is enabled with max remote calls: 10.\n",
      "[file retrieval] 2025-07-10 14:19:43 [INFO] HTTP Request: POST https://generativelanguage.googleapis.com/v1beta/models/gemini-2.5-flash:generateContent \"HTTP/1.1 200 OK\"\n",
      "[file retrieval] 2025-07-10 14:19:43 [INFO] AFC remote call 1 is done.\n",
      "[file retrieval] 2025-07-10 14:19:43 [INFO] AFC is enabled with max remote calls: 10.\n",
      "[file retrieval] 2025-07-10 14:20:17 [INFO] HTTP Request: POST https://generativelanguage.googleapis.com/v1beta/models/gemini-2.5-flash:generateContent \"HTTP/1.1 200 OK\"\n",
      "[file retrieval] 2025-07-10 14:20:17 [INFO] AFC remote call 1 is done.\n",
      "[file retrieval] 2025-07-10 14:20:17 [INFO] AFC is enabled with max remote calls: 10.\n",
      "[file retrieval] 2025-07-10 14:20:50 [INFO] HTTP Request: POST https://generativelanguage.googleapis.com/v1beta/models/gemini-2.5-flash:generateContent \"HTTP/1.1 200 OK\"\n",
      "[file retrieval] 2025-07-10 14:20:50 [INFO] AFC remote call 1 is done.\n",
      "[file retrieval] 2025-07-10 14:20:50 [INFO] AFC is enabled with max remote calls: 10.\n",
      "[file retrieval] 2025-07-10 14:21:20 [INFO] HTTP Request: POST https://generativelanguage.googleapis.com/v1beta/models/gemini-2.5-flash:generateContent \"HTTP/1.1 200 OK\"\n",
      "[file retrieval] 2025-07-10 14:21:20 [INFO] AFC remote call 1 is done.\n",
      "[file retrieval] 2025-07-10 14:21:20 [INFO] AFC is enabled with max remote calls: 10.\n",
      "[file retrieval] 2025-07-10 14:21:44 [INFO] HTTP Request: POST https://generativelanguage.googleapis.com/v1beta/models/gemini-2.5-flash:generateContent \"HTTP/1.1 200 OK\"\n",
      "[file retrieval] 2025-07-10 14:21:44 [INFO] AFC remote call 1 is done.\n",
      "[file retrieval] 2025-07-10 14:21:44 [INFO] AFC is enabled with max remote calls: 10.\n",
      "[file retrieval] 2025-07-10 14:22:15 [INFO] HTTP Request: POST https://generativelanguage.googleapis.com/v1beta/models/gemini-2.5-flash:generateContent \"HTTP/1.1 200 OK\"\n",
      "[file retrieval] 2025-07-10 14:22:15 [INFO] AFC remote call 1 is done.\n",
      "[file retrieval] 2025-07-10 14:22:15 [INFO] AFC is enabled with max remote calls: 10.\n",
      "[file retrieval] 2025-07-10 14:22:51 [INFO] HTTP Request: POST https://generativelanguage.googleapis.com/v1beta/models/gemini-2.5-flash:generateContent \"HTTP/1.1 200 OK\"\n",
      "[file retrieval] 2025-07-10 14:22:51 [INFO] AFC remote call 1 is done.\n",
      "[file retrieval] 2025-07-10 14:22:51 [INFO] AFC is enabled with max remote calls: 10.\n",
      "[file retrieval] 2025-07-10 14:23:23 [INFO] HTTP Request: POST https://generativelanguage.googleapis.com/v1beta/models/gemini-2.5-flash:generateContent \"HTTP/1.1 200 OK\"\n",
      "[file retrieval] 2025-07-10 14:23:23 [INFO] AFC remote call 1 is done.\n",
      "[file retrieval] 2025-07-10 14:23:23 [INFO] AFC is enabled with max remote calls: 10.\n",
      "[file retrieval] 2025-07-10 14:23:54 [INFO] HTTP Request: POST https://generativelanguage.googleapis.com/v1beta/models/gemini-2.5-flash:generateContent \"HTTP/1.1 200 OK\"\n",
      "[file retrieval] 2025-07-10 14:23:54 [INFO] AFC remote call 1 is done.\n",
      "[file retrieval] 2025-07-10 14:23:55 [INFO] AFC is enabled with max remote calls: 10.\n",
      "[file retrieval] 2025-07-10 14:24:12 [INFO] HTTP Request: POST https://generativelanguage.googleapis.com/v1beta/models/gemini-2.5-flash:generateContent \"HTTP/1.1 200 OK\"\n",
      "[file retrieval] 2025-07-10 14:24:12 [INFO] AFC remote call 1 is done.\n",
      "[file retrieval] 2025-07-10 14:24:12 [INFO] AFC is enabled with max remote calls: 10.\n",
      "[file retrieval] 2025-07-10 14:24:39 [INFO] HTTP Request: POST https://generativelanguage.googleapis.com/v1beta/models/gemini-2.5-flash:generateContent \"HTTP/1.1 200 OK\"\n",
      "[file retrieval] 2025-07-10 14:24:39 [INFO] AFC remote call 1 is done.\n",
      "[file retrieval] 2025-07-10 14:24:39 [INFO] AFC is enabled with max remote calls: 10.\n",
      "[file retrieval] 2025-07-10 14:25:04 [INFO] HTTP Request: POST https://generativelanguage.googleapis.com/v1beta/models/gemini-2.5-flash:generateContent \"HTTP/1.1 200 OK\"\n",
      "[file retrieval] 2025-07-10 14:25:04 [INFO] AFC remote call 1 is done.\n",
      "[file retrieval] 2025-07-10 14:25:05 [INFO] AFC is enabled with max remote calls: 10.\n",
      "[file retrieval] 2025-07-10 14:25:52 [INFO] HTTP Request: POST https://generativelanguage.googleapis.com/v1beta/models/gemini-2.5-flash:generateContent \"HTTP/1.1 200 OK\"\n",
      "[file retrieval] 2025-07-10 14:25:52 [INFO] AFC remote call 1 is done.\n",
      "[file retrieval] 2025-07-10 14:25:52 [INFO] AFC is enabled with max remote calls: 10.\n",
      "[file retrieval] 2025-07-10 14:26:17 [INFO] HTTP Request: POST https://generativelanguage.googleapis.com/v1beta/models/gemini-2.5-flash:generateContent \"HTTP/1.1 200 OK\"\n",
      "[file retrieval] 2025-07-10 14:26:17 [INFO] AFC remote call 1 is done.\n",
      "[file retrieval] 2025-07-10 14:26:18 [INFO] AFC is enabled with max remote calls: 10.\n",
      "[file retrieval] 2025-07-10 14:26:58 [INFO] HTTP Request: POST https://generativelanguage.googleapis.com/v1beta/models/gemini-2.5-flash:generateContent \"HTTP/1.1 200 OK\"\n",
      "[file retrieval] 2025-07-10 14:26:58 [INFO] AFC remote call 1 is done.\n",
      "[file retrieval] 2025-07-10 14:26:58 [INFO] AFC is enabled with max remote calls: 10.\n",
      "[file retrieval] 2025-07-10 14:27:39 [INFO] HTTP Request: POST https://generativelanguage.googleapis.com/v1beta/models/gemini-2.5-flash:generateContent \"HTTP/1.1 200 OK\"\n",
      "[file retrieval] 2025-07-10 14:27:39 [INFO] AFC remote call 1 is done.\n",
      "[file retrieval] 2025-07-10 14:27:39 [INFO] AFC is enabled with max remote calls: 10.\n",
      "[file retrieval] 2025-07-10 14:28:18 [INFO] HTTP Request: POST https://generativelanguage.googleapis.com/v1beta/models/gemini-2.5-flash:generateContent \"HTTP/1.1 200 OK\"\n",
      "[file retrieval] 2025-07-10 14:28:18 [INFO] AFC remote call 1 is done.\n",
      "[file retrieval] 2025-07-10 14:28:18 [INFO] AFC is enabled with max remote calls: 10.\n",
      "[file retrieval] 2025-07-10 14:28:50 [INFO] HTTP Request: POST https://generativelanguage.googleapis.com/v1beta/models/gemini-2.5-flash:generateContent \"HTTP/1.1 200 OK\"\n",
      "[file retrieval] 2025-07-10 14:28:50 [INFO] AFC remote call 1 is done.\n",
      "[file retrieval] 2025-07-10 14:28:50 [INFO] AFC is enabled with max remote calls: 10.\n",
      "[file retrieval] 2025-07-10 14:29:14 [INFO] HTTP Request: POST https://generativelanguage.googleapis.com/v1beta/models/gemini-2.5-flash:generateContent \"HTTP/1.1 200 OK\"\n",
      "[file retrieval] 2025-07-10 14:29:14 [INFO] AFC remote call 1 is done.\n",
      "[file retrieval] 2025-07-10 14:29:15 [INFO] AFC is enabled with max remote calls: 10.\n",
      "[file retrieval] 2025-07-10 14:29:46 [INFO] HTTP Request: POST https://generativelanguage.googleapis.com/v1beta/models/gemini-2.5-flash:generateContent \"HTTP/1.1 200 OK\"\n",
      "[file retrieval] 2025-07-10 14:29:46 [INFO] AFC remote call 1 is done.\n",
      "[file retrieval] 2025-07-10 14:29:46 [INFO] AFC is enabled with max remote calls: 10.\n",
      "[file retrieval] 2025-07-10 14:30:20 [INFO] HTTP Request: POST https://generativelanguage.googleapis.com/v1beta/models/gemini-2.5-flash:generateContent \"HTTP/1.1 200 OK\"\n",
      "[file retrieval] 2025-07-10 14:30:20 [INFO] AFC remote call 1 is done.\n",
      "[file retrieval] 2025-07-10 14:30:20 [INFO] AFC is enabled with max remote calls: 10.\n",
      "[file retrieval] 2025-07-10 14:30:55 [INFO] HTTP Request: POST https://generativelanguage.googleapis.com/v1beta/models/gemini-2.5-flash:generateContent \"HTTP/1.1 200 OK\"\n",
      "[file retrieval] 2025-07-10 14:30:55 [INFO] AFC remote call 1 is done.\n",
      "[file retrieval] 2025-07-10 14:30:55 [INFO] AFC is enabled with max remote calls: 10.\n",
      "[file retrieval] 2025-07-10 14:31:23 [INFO] HTTP Request: POST https://generativelanguage.googleapis.com/v1beta/models/gemini-2.5-flash:generateContent \"HTTP/1.1 200 OK\"\n",
      "[file retrieval] 2025-07-10 14:31:23 [INFO] AFC remote call 1 is done.\n",
      "[file retrieval] 2025-07-10 14:31:24 [INFO] AFC is enabled with max remote calls: 10.\n",
      "[file retrieval] 2025-07-10 14:31:52 [INFO] HTTP Request: POST https://generativelanguage.googleapis.com/v1beta/models/gemini-2.5-flash:generateContent \"HTTP/1.1 200 OK\"\n",
      "[file retrieval] 2025-07-10 14:31:52 [INFO] AFC remote call 1 is done.\n",
      "[file retrieval] 2025-07-10 14:31:52 [INFO] AFC is enabled with max remote calls: 10.\n",
      "[file retrieval] 2025-07-10 14:32:34 [INFO] HTTP Request: POST https://generativelanguage.googleapis.com/v1beta/models/gemini-2.5-flash:generateContent \"HTTP/1.1 200 OK\"\n",
      "[file retrieval] 2025-07-10 14:32:34 [INFO] AFC remote call 1 is done.\n",
      "[file retrieval] 2025-07-10 14:32:35 [INFO] AFC is enabled with max remote calls: 10.\n",
      "[file retrieval] 2025-07-10 14:33:23 [INFO] HTTP Request: POST https://generativelanguage.googleapis.com/v1beta/models/gemini-2.5-flash:generateContent \"HTTP/1.1 200 OK\"\n",
      "[file retrieval] 2025-07-10 14:33:23 [INFO] AFC remote call 1 is done.\n",
      "[file retrieval] 2025-07-10 14:33:24 [INFO] AFC is enabled with max remote calls: 10.\n",
      "[file retrieval] 2025-07-10 14:33:53 [INFO] HTTP Request: POST https://generativelanguage.googleapis.com/v1beta/models/gemini-2.5-flash:generateContent \"HTTP/1.1 200 OK\"\n",
      "[file retrieval] 2025-07-10 14:33:53 [INFO] AFC remote call 1 is done.\n",
      "[file retrieval] 2025-07-10 14:33:53 [INFO] AFC is enabled with max remote calls: 10.\n",
      "[file retrieval] 2025-07-10 14:34:21 [INFO] HTTP Request: POST https://generativelanguage.googleapis.com/v1beta/models/gemini-2.5-flash:generateContent \"HTTP/1.1 200 OK\"\n",
      "[file retrieval] 2025-07-10 14:34:21 [INFO] AFC remote call 1 is done.\n",
      "[file retrieval] 2025-07-10 14:34:22 [INFO] AFC is enabled with max remote calls: 10.\n",
      "[file retrieval] 2025-07-10 14:34:54 [INFO] HTTP Request: POST https://generativelanguage.googleapis.com/v1beta/models/gemini-2.5-flash:generateContent \"HTTP/1.1 200 OK\"\n",
      "[file retrieval] 2025-07-10 14:34:54 [INFO] AFC remote call 1 is done.\n",
      "[file retrieval] 2025-07-10 14:34:54 [INFO] AFC is enabled with max remote calls: 10.\n",
      "[file retrieval] 2025-07-10 14:35:23 [INFO] HTTP Request: POST https://generativelanguage.googleapis.com/v1beta/models/gemini-2.5-flash:generateContent \"HTTP/1.1 200 OK\"\n",
      "[file retrieval] 2025-07-10 14:35:23 [INFO] AFC remote call 1 is done.\n",
      "[file retrieval] 2025-07-10 14:35:23 [INFO] AFC is enabled with max remote calls: 10.\n",
      "[file retrieval] 2025-07-10 14:36:04 [INFO] HTTP Request: POST https://generativelanguage.googleapis.com/v1beta/models/gemini-2.5-flash:generateContent \"HTTP/1.1 200 OK\"\n",
      "[file retrieval] 2025-07-10 14:36:04 [INFO] AFC remote call 1 is done.\n"
     ]
    }
   ],
   "source": [
    "for path in img_filepaths:\n",
    "    response = gemini_img2json(path)\n",
    "    with open(json_output_dir / f\"llm-img2json\" / \"gemini-2.5-flash\" / Path(path.stem + f\".json\"), 'w') as file:\n",
    "        file.write(response)"
   ]
  },
  {
   "cell_type": "markdown",
   "id": "66b78765",
   "metadata": {},
   "source": [
    "#### b. Text to JSON"
   ]
  },
  {
   "cell_type": "code",
   "execution_count": 12,
   "id": "f5055dc6",
   "metadata": {},
   "outputs": [
    {
     "name": "stderr",
     "output_type": "stream",
     "text": [
      "[file retrieval] 2025-07-10 14:59:26 [INFO] AFC is enabled with max remote calls: 10.\n",
      "[file retrieval] 2025-07-10 14:59:52 [INFO] HTTP Request: POST https://generativelanguage.googleapis.com/v1beta/models/gemini-2.5-flash:generateContent \"HTTP/1.1 200 OK\"\n",
      "[file retrieval] 2025-07-10 14:59:52 [INFO] AFC remote call 1 is done.\n",
      "[file retrieval] 2025-07-10 14:59:52 [INFO] AFC is enabled with max remote calls: 10.\n",
      "[file retrieval] 2025-07-10 15:00:19 [INFO] HTTP Request: POST https://generativelanguage.googleapis.com/v1beta/models/gemini-2.5-flash:generateContent \"HTTP/1.1 200 OK\"\n",
      "[file retrieval] 2025-07-10 15:00:19 [INFO] AFC remote call 1 is done.\n",
      "[file retrieval] 2025-07-10 15:00:19 [INFO] AFC is enabled with max remote calls: 10.\n",
      "[file retrieval] 2025-07-10 15:00:49 [INFO] HTTP Request: POST https://generativelanguage.googleapis.com/v1beta/models/gemini-2.5-flash:generateContent \"HTTP/1.1 200 OK\"\n",
      "[file retrieval] 2025-07-10 15:00:49 [INFO] AFC remote call 1 is done.\n",
      "[file retrieval] 2025-07-10 15:00:49 [INFO] AFC is enabled with max remote calls: 10.\n",
      "[file retrieval] 2025-07-10 15:01:38 [INFO] HTTP Request: POST https://generativelanguage.googleapis.com/v1beta/models/gemini-2.5-flash:generateContent \"HTTP/1.1 200 OK\"\n",
      "[file retrieval] 2025-07-10 15:01:38 [INFO] AFC remote call 1 is done.\n",
      "[file retrieval] 2025-07-10 15:01:38 [INFO] AFC is enabled with max remote calls: 10.\n",
      "[file retrieval] 2025-07-10 15:02:09 [INFO] HTTP Request: POST https://generativelanguage.googleapis.com/v1beta/models/gemini-2.5-flash:generateContent \"HTTP/1.1 200 OK\"\n",
      "[file retrieval] 2025-07-10 15:02:09 [INFO] AFC remote call 1 is done.\n",
      "[file retrieval] 2025-07-10 15:02:09 [INFO] AFC is enabled with max remote calls: 10.\n",
      "[file retrieval] 2025-07-10 15:02:42 [INFO] HTTP Request: POST https://generativelanguage.googleapis.com/v1beta/models/gemini-2.5-flash:generateContent \"HTTP/1.1 200 OK\"\n",
      "[file retrieval] 2025-07-10 15:02:42 [INFO] AFC remote call 1 is done.\n",
      "[file retrieval] 2025-07-10 15:02:42 [INFO] AFC is enabled with max remote calls: 10.\n",
      "[file retrieval] 2025-07-10 15:03:12 [INFO] HTTP Request: POST https://generativelanguage.googleapis.com/v1beta/models/gemini-2.5-flash:generateContent \"HTTP/1.1 200 OK\"\n",
      "[file retrieval] 2025-07-10 15:03:12 [INFO] AFC remote call 1 is done.\n",
      "[file retrieval] 2025-07-10 15:03:12 [INFO] AFC is enabled with max remote calls: 10.\n",
      "[file retrieval] 2025-07-10 15:03:42 [INFO] HTTP Request: POST https://generativelanguage.googleapis.com/v1beta/models/gemini-2.5-flash:generateContent \"HTTP/1.1 200 OK\"\n",
      "[file retrieval] 2025-07-10 15:03:42 [INFO] AFC remote call 1 is done.\n",
      "[file retrieval] 2025-07-10 15:03:42 [INFO] AFC is enabled with max remote calls: 10.\n",
      "[file retrieval] 2025-07-10 15:04:20 [INFO] HTTP Request: POST https://generativelanguage.googleapis.com/v1beta/models/gemini-2.5-flash:generateContent \"HTTP/1.1 200 OK\"\n",
      "[file retrieval] 2025-07-10 15:04:20 [INFO] AFC remote call 1 is done.\n",
      "[file retrieval] 2025-07-10 15:04:20 [INFO] AFC is enabled with max remote calls: 10.\n",
      "[file retrieval] 2025-07-10 15:04:53 [INFO] HTTP Request: POST https://generativelanguage.googleapis.com/v1beta/models/gemini-2.5-flash:generateContent \"HTTP/1.1 200 OK\"\n",
      "[file retrieval] 2025-07-10 15:04:53 [INFO] AFC remote call 1 is done.\n",
      "[file retrieval] 2025-07-10 15:04:53 [INFO] AFC is enabled with max remote calls: 10.\n",
      "[file retrieval] 2025-07-10 15:05:23 [INFO] HTTP Request: POST https://generativelanguage.googleapis.com/v1beta/models/gemini-2.5-flash:generateContent \"HTTP/1.1 200 OK\"\n",
      "[file retrieval] 2025-07-10 15:05:23 [INFO] AFC remote call 1 is done.\n",
      "[file retrieval] 2025-07-10 15:05:23 [INFO] AFC is enabled with max remote calls: 10.\n",
      "[file retrieval] 2025-07-10 15:06:07 [INFO] HTTP Request: POST https://generativelanguage.googleapis.com/v1beta/models/gemini-2.5-flash:generateContent \"HTTP/1.1 200 OK\"\n",
      "[file retrieval] 2025-07-10 15:06:07 [INFO] AFC remote call 1 is done.\n",
      "[file retrieval] 2025-07-10 15:06:07 [INFO] AFC is enabled with max remote calls: 10.\n",
      "[file retrieval] 2025-07-10 15:06:40 [INFO] HTTP Request: POST https://generativelanguage.googleapis.com/v1beta/models/gemini-2.5-flash:generateContent \"HTTP/1.1 200 OK\"\n",
      "[file retrieval] 2025-07-10 15:06:40 [INFO] AFC remote call 1 is done.\n",
      "[file retrieval] 2025-07-10 15:06:41 [INFO] AFC is enabled with max remote calls: 10.\n",
      "[file retrieval] 2025-07-10 15:07:10 [INFO] HTTP Request: POST https://generativelanguage.googleapis.com/v1beta/models/gemini-2.5-flash:generateContent \"HTTP/1.1 200 OK\"\n",
      "[file retrieval] 2025-07-10 15:07:10 [INFO] AFC remote call 1 is done.\n",
      "[file retrieval] 2025-07-10 15:07:10 [INFO] AFC is enabled with max remote calls: 10.\n",
      "[file retrieval] 2025-07-10 15:08:00 [INFO] HTTP Request: POST https://generativelanguage.googleapis.com/v1beta/models/gemini-2.5-flash:generateContent \"HTTP/1.1 200 OK\"\n",
      "[file retrieval] 2025-07-10 15:08:00 [INFO] AFC remote call 1 is done.\n",
      "[file retrieval] 2025-07-10 15:08:00 [INFO] AFC is enabled with max remote calls: 10.\n",
      "[file retrieval] 2025-07-10 15:09:31 [INFO] HTTP Request: POST https://generativelanguage.googleapis.com/v1beta/models/gemini-2.5-flash:generateContent \"HTTP/1.1 200 OK\"\n",
      "[file retrieval] 2025-07-10 15:09:31 [INFO] AFC remote call 1 is done.\n",
      "[file retrieval] 2025-07-10 15:09:32 [INFO] AFC is enabled with max remote calls: 10.\n",
      "[file retrieval] 2025-07-10 15:10:03 [INFO] HTTP Request: POST https://generativelanguage.googleapis.com/v1beta/models/gemini-2.5-flash:generateContent \"HTTP/1.1 200 OK\"\n",
      "[file retrieval] 2025-07-10 15:10:03 [INFO] AFC remote call 1 is done.\n",
      "[file retrieval] 2025-07-10 15:10:03 [INFO] AFC is enabled with max remote calls: 10.\n",
      "[file retrieval] 2025-07-10 15:10:30 [INFO] HTTP Request: POST https://generativelanguage.googleapis.com/v1beta/models/gemini-2.5-flash:generateContent \"HTTP/1.1 200 OK\"\n",
      "[file retrieval] 2025-07-10 15:10:30 [INFO] AFC remote call 1 is done.\n",
      "[file retrieval] 2025-07-10 15:10:30 [INFO] AFC is enabled with max remote calls: 10.\n",
      "[file retrieval] 2025-07-10 15:11:06 [INFO] HTTP Request: POST https://generativelanguage.googleapis.com/v1beta/models/gemini-2.5-flash:generateContent \"HTTP/1.1 200 OK\"\n",
      "[file retrieval] 2025-07-10 15:11:06 [INFO] AFC remote call 1 is done.\n",
      "[file retrieval] 2025-07-10 15:11:06 [INFO] AFC is enabled with max remote calls: 10.\n",
      "[file retrieval] 2025-07-10 15:11:39 [INFO] HTTP Request: POST https://generativelanguage.googleapis.com/v1beta/models/gemini-2.5-flash:generateContent \"HTTP/1.1 200 OK\"\n",
      "[file retrieval] 2025-07-10 15:11:39 [INFO] AFC remote call 1 is done.\n",
      "[file retrieval] 2025-07-10 15:11:39 [INFO] AFC is enabled with max remote calls: 10.\n",
      "[file retrieval] 2025-07-10 15:12:14 [INFO] HTTP Request: POST https://generativelanguage.googleapis.com/v1beta/models/gemini-2.5-flash:generateContent \"HTTP/1.1 200 OK\"\n",
      "[file retrieval] 2025-07-10 15:12:14 [INFO] AFC remote call 1 is done.\n",
      "[file retrieval] 2025-07-10 15:12:14 [INFO] AFC is enabled with max remote calls: 10.\n",
      "[file retrieval] 2025-07-10 15:12:50 [INFO] HTTP Request: POST https://generativelanguage.googleapis.com/v1beta/models/gemini-2.5-flash:generateContent \"HTTP/1.1 200 OK\"\n",
      "[file retrieval] 2025-07-10 15:12:50 [INFO] AFC remote call 1 is done.\n",
      "[file retrieval] 2025-07-10 15:12:50 [INFO] AFC is enabled with max remote calls: 10.\n",
      "[file retrieval] 2025-07-10 15:13:19 [INFO] HTTP Request: POST https://generativelanguage.googleapis.com/v1beta/models/gemini-2.5-flash:generateContent \"HTTP/1.1 200 OK\"\n",
      "[file retrieval] 2025-07-10 15:13:19 [INFO] AFC remote call 1 is done.\n",
      "[file retrieval] 2025-07-10 15:13:19 [INFO] AFC is enabled with max remote calls: 10.\n",
      "[file retrieval] 2025-07-10 15:13:40 [INFO] HTTP Request: POST https://generativelanguage.googleapis.com/v1beta/models/gemini-2.5-flash:generateContent \"HTTP/1.1 200 OK\"\n",
      "[file retrieval] 2025-07-10 15:13:40 [INFO] AFC remote call 1 is done.\n",
      "[file retrieval] 2025-07-10 15:13:40 [INFO] AFC is enabled with max remote calls: 10.\n",
      "[file retrieval] 2025-07-10 15:14:08 [INFO] HTTP Request: POST https://generativelanguage.googleapis.com/v1beta/models/gemini-2.5-flash:generateContent \"HTTP/1.1 200 OK\"\n",
      "[file retrieval] 2025-07-10 15:14:08 [INFO] AFC remote call 1 is done.\n",
      "[file retrieval] 2025-07-10 15:14:08 [INFO] AFC is enabled with max remote calls: 10.\n",
      "[file retrieval] 2025-07-10 15:14:37 [INFO] HTTP Request: POST https://generativelanguage.googleapis.com/v1beta/models/gemini-2.5-flash:generateContent \"HTTP/1.1 200 OK\"\n",
      "[file retrieval] 2025-07-10 15:14:37 [INFO] AFC remote call 1 is done.\n",
      "[file retrieval] 2025-07-10 15:14:37 [INFO] AFC is enabled with max remote calls: 10.\n",
      "[file retrieval] 2025-07-10 15:15:11 [INFO] HTTP Request: POST https://generativelanguage.googleapis.com/v1beta/models/gemini-2.5-flash:generateContent \"HTTP/1.1 200 OK\"\n",
      "[file retrieval] 2025-07-10 15:15:12 [INFO] AFC remote call 1 is done.\n",
      "[file retrieval] 2025-07-10 15:15:12 [INFO] AFC is enabled with max remote calls: 10.\n",
      "[file retrieval] 2025-07-10 15:15:39 [INFO] HTTP Request: POST https://generativelanguage.googleapis.com/v1beta/models/gemini-2.5-flash:generateContent \"HTTP/1.1 200 OK\"\n",
      "[file retrieval] 2025-07-10 15:15:39 [INFO] AFC remote call 1 is done.\n",
      "[file retrieval] 2025-07-10 15:15:39 [INFO] AFC is enabled with max remote calls: 10.\n",
      "[file retrieval] 2025-07-10 15:16:13 [INFO] HTTP Request: POST https://generativelanguage.googleapis.com/v1beta/models/gemini-2.5-flash:generateContent \"HTTP/1.1 200 OK\"\n",
      "[file retrieval] 2025-07-10 15:16:13 [INFO] AFC remote call 1 is done.\n",
      "[file retrieval] 2025-07-10 15:16:13 [INFO] AFC is enabled with max remote calls: 10.\n",
      "[file retrieval] 2025-07-10 15:16:41 [INFO] HTTP Request: POST https://generativelanguage.googleapis.com/v1beta/models/gemini-2.5-flash:generateContent \"HTTP/1.1 200 OK\"\n",
      "[file retrieval] 2025-07-10 15:16:41 [INFO] AFC remote call 1 is done.\n",
      "[file retrieval] 2025-07-10 15:16:41 [INFO] AFC is enabled with max remote calls: 10.\n",
      "[file retrieval] 2025-07-10 15:17:02 [INFO] HTTP Request: POST https://generativelanguage.googleapis.com/v1beta/models/gemini-2.5-flash:generateContent \"HTTP/1.1 200 OK\"\n",
      "[file retrieval] 2025-07-10 15:17:02 [INFO] AFC remote call 1 is done.\n",
      "[file retrieval] 2025-07-10 15:17:02 [INFO] AFC is enabled with max remote calls: 10.\n",
      "[file retrieval] 2025-07-10 15:17:28 [INFO] HTTP Request: POST https://generativelanguage.googleapis.com/v1beta/models/gemini-2.5-flash:generateContent \"HTTP/1.1 200 OK\"\n",
      "[file retrieval] 2025-07-10 15:17:28 [INFO] AFC remote call 1 is done.\n",
      "[file retrieval] 2025-07-10 15:17:28 [INFO] AFC is enabled with max remote calls: 10.\n",
      "[file retrieval] 2025-07-10 15:17:53 [INFO] HTTP Request: POST https://generativelanguage.googleapis.com/v1beta/models/gemini-2.5-flash:generateContent \"HTTP/1.1 200 OK\"\n",
      "[file retrieval] 2025-07-10 15:17:53 [INFO] AFC remote call 1 is done.\n",
      "[file retrieval] 2025-07-10 15:17:53 [INFO] AFC is enabled with max remote calls: 10.\n",
      "[file retrieval] 2025-07-10 15:18:21 [INFO] HTTP Request: POST https://generativelanguage.googleapis.com/v1beta/models/gemini-2.5-flash:generateContent \"HTTP/1.1 200 OK\"\n",
      "[file retrieval] 2025-07-10 15:18:21 [INFO] AFC remote call 1 is done.\n",
      "[file retrieval] 2025-07-10 15:18:21 [INFO] AFC is enabled with max remote calls: 10.\n",
      "[file retrieval] 2025-07-10 15:18:49 [INFO] HTTP Request: POST https://generativelanguage.googleapis.com/v1beta/models/gemini-2.5-flash:generateContent \"HTTP/1.1 200 OK\"\n",
      "[file retrieval] 2025-07-10 15:18:49 [INFO] AFC remote call 1 is done.\n",
      "[file retrieval] 2025-07-10 15:18:49 [INFO] AFC is enabled with max remote calls: 10.\n",
      "[file retrieval] 2025-07-10 15:19:15 [INFO] HTTP Request: POST https://generativelanguage.googleapis.com/v1beta/models/gemini-2.5-flash:generateContent \"HTTP/1.1 200 OK\"\n",
      "[file retrieval] 2025-07-10 15:19:15 [INFO] AFC remote call 1 is done.\n",
      "[file retrieval] 2025-07-10 15:19:16 [INFO] AFC is enabled with max remote calls: 10.\n",
      "[file retrieval] 2025-07-10 15:19:52 [INFO] HTTP Request: POST https://generativelanguage.googleapis.com/v1beta/models/gemini-2.5-flash:generateContent \"HTTP/1.1 200 OK\"\n",
      "[file retrieval] 2025-07-10 15:19:52 [INFO] AFC remote call 1 is done.\n",
      "[file retrieval] 2025-07-10 15:19:52 [INFO] AFC is enabled with max remote calls: 10.\n",
      "[file retrieval] 2025-07-10 15:20:20 [INFO] HTTP Request: POST https://generativelanguage.googleapis.com/v1beta/models/gemini-2.5-flash:generateContent \"HTTP/1.1 200 OK\"\n",
      "[file retrieval] 2025-07-10 15:20:20 [INFO] AFC remote call 1 is done.\n",
      "[file retrieval] 2025-07-10 15:20:20 [INFO] AFC is enabled with max remote calls: 10.\n",
      "[file retrieval] 2025-07-10 15:20:45 [INFO] HTTP Request: POST https://generativelanguage.googleapis.com/v1beta/models/gemini-2.5-flash:generateContent \"HTTP/1.1 200 OK\"\n",
      "[file retrieval] 2025-07-10 15:20:45 [INFO] AFC remote call 1 is done.\n",
      "[file retrieval] 2025-07-10 15:20:45 [INFO] AFC is enabled with max remote calls: 10.\n",
      "[file retrieval] 2025-07-10 15:21:15 [INFO] HTTP Request: POST https://generativelanguage.googleapis.com/v1beta/models/gemini-2.5-flash:generateContent \"HTTP/1.1 200 OK\"\n",
      "[file retrieval] 2025-07-10 15:21:15 [INFO] AFC remote call 1 is done.\n",
      "[file retrieval] 2025-07-10 15:21:15 [INFO] AFC is enabled with max remote calls: 10.\n",
      "[file retrieval] 2025-07-10 15:21:42 [INFO] HTTP Request: POST https://generativelanguage.googleapis.com/v1beta/models/gemini-2.5-flash:generateContent \"HTTP/1.1 200 OK\"\n",
      "[file retrieval] 2025-07-10 15:21:42 [INFO] AFC remote call 1 is done.\n",
      "[file retrieval] 2025-07-10 15:21:42 [INFO] AFC is enabled with max remote calls: 10.\n",
      "[file retrieval] 2025-07-10 15:22:13 [INFO] HTTP Request: POST https://generativelanguage.googleapis.com/v1beta/models/gemini-2.5-flash:generateContent \"HTTP/1.1 200 OK\"\n",
      "[file retrieval] 2025-07-10 15:22:13 [INFO] AFC remote call 1 is done.\n",
      "[file retrieval] 2025-07-10 15:22:13 [INFO] AFC is enabled with max remote calls: 10.\n",
      "[file retrieval] 2025-07-10 15:22:41 [INFO] HTTP Request: POST https://generativelanguage.googleapis.com/v1beta/models/gemini-2.5-flash:generateContent \"HTTP/1.1 200 OK\"\n",
      "[file retrieval] 2025-07-10 15:22:41 [INFO] AFC remote call 1 is done.\n"
     ]
    }
   ],
   "source": [
    "\n",
    "for path in img_filepaths:\n",
    "    ocr_text_path = str(root_dir/ \"results\" / \"txt\" / \"ocr-llm-img2txt\" / \"gemini-2.5-flash\" / path.stem) + \".txt\" # THIS REMAINS THE SAME b/c we're reading the OCR output\n",
    "    response = gemini_txt2json(ocr_text_path)\n",
    "    with open(json_output_dir / f\"llm-txt2json\" / \"gemini-2.5-flash\" / Path(path.stem + f\".json\"), 'w') as file:\n",
    "        file.write(response)"
   ]
  },
  {
   "cell_type": "markdown",
   "id": "aa4d6b4d",
   "metadata": {},
   "source": [
    "#### d. Text to JSON (Async)"
   ]
  },
  {
   "cell_type": "code",
   "execution_count": null,
   "id": "a42c3dc9",
   "metadata": {},
   "outputs": [
    {
     "name": "stderr",
     "output_type": "stream",
     "text": [
      "[file retrieval] 2025-07-08 16:12:16 [INFO] AFC is enabled with max remote calls: 10.\n",
      "[file retrieval] 2025-07-08 16:12:54 [INFO] HTTP Request: POST https://generativelanguage.googleapis.com/v1beta/models/gemini-2.5-flash:generateContent \"HTTP/1.1 200 OK\"\n",
      "[file retrieval] 2025-07-08 16:12:54 [INFO] AFC remote call 1 is done.\n"
     ]
    },
    {
     "ename": "TypeError",
     "evalue": "object Entries can't be used in 'await' expression",
     "output_type": "error",
     "traceback": [
      "\u001b[31m---------------------------------------------------------------------------\u001b[39m",
      "\u001b[31mTypeError\u001b[39m                                 Traceback (most recent call last)",
      "\u001b[36mCell\u001b[39m\u001b[36m \u001b[39m\u001b[32mIn[4]\u001b[39m\u001b[32m, line 8\u001b[39m\n\u001b[32m      5\u001b[39m     txt_filepaths = get_paths(\u001b[38;5;28mdir\u001b[39m, \u001b[33m\"\u001b[39m\u001b[33mtxt\u001b[39m\u001b[33m\"\u001b[39m)\n\u001b[32m      7\u001b[39m     \u001b[38;5;66;03m# Call the main function that concurrently runs relevant async function\u001b[39;00m\n\u001b[32m----> \u001b[39m\u001b[32m8\u001b[39m     \u001b[38;5;28;01mawait\u001b[39;00m process_txt2json_async(txt_filepaths, output_dir, gemini_txt2json_async, doc_format, llms[\u001b[33m'\u001b[39m\u001b[33mgoogle\u001b[39m\u001b[33m'\u001b[39m])\n\u001b[32m      9\u001b[39m \u001b[38;5;28;01melse\u001b[39;00m:\n\u001b[32m     10\u001b[39m     logger.info(\u001b[33m\"\u001b[39m\u001b[33mCurrently running \u001b[39m\u001b[38;5;132;01m%s\u001b[39;00m\u001b[33m for JSON cell\u001b[39m\u001b[33m\"\u001b[39m, doc_format)\n",
      "\u001b[36mFile \u001b[39m\u001b[32m~/Desktop/map2025/ocr-benchmarking/src/workflow/json_creation.py:374\u001b[39m, in \u001b[36mprocess_txt2json_async\u001b[39m\u001b[34m(input_txt_paths, output_dir, processor, doc_format, model)\u001b[39m\n\u001b[32m    372\u001b[39m     \u001b[38;5;66;03m# Append the tasks to be executed outside the for loop\u001b[39;00m\n\u001b[32m    373\u001b[39m     tasks.append(processor(input_path, output_path))\n\u001b[32m--> \u001b[39m\u001b[32m374\u001b[39m \u001b[38;5;28;01mawait\u001b[39;00m asyncio.gather(*tasks)\n",
      "\u001b[36mFile \u001b[39m\u001b[32m~/Desktop/map2025/ocr-benchmarking/src/workflow/json_creation.py:228\u001b[39m, in \u001b[36mgemini_txt2json_async\u001b[39m\u001b[34m(input_path, output_path)\u001b[39m\n\u001b[32m    225\u001b[39m \u001b[38;5;28;01masync\u001b[39;00m \u001b[38;5;28;01mwith\u001b[39;00m aiofiles.open(input_path, \u001b[33m\"\u001b[39m\u001b[33mr\u001b[39m\u001b[33m\"\u001b[39m) \u001b[38;5;28;01mas\u001b[39;00m f:\n\u001b[32m    226\u001b[39m     text = \u001b[38;5;28;01mawait\u001b[39;00m f.read()\n\u001b[32m--> \u001b[39m\u001b[32m228\u001b[39m entries = \u001b[38;5;28;01mawait\u001b[39;00m client.chat.completions.create(\n\u001b[32m    229\u001b[39m     model=\u001b[33m\"\u001b[39m\u001b[33mgemini-2.5-flash\u001b[39m\u001b[33m\"\u001b[39m,\n\u001b[32m    230\u001b[39m     response_model=Entries,\n\u001b[32m    231\u001b[39m     messages=[\n\u001b[32m    232\u001b[39m         {\n\u001b[32m    233\u001b[39m             \u001b[33m\"\u001b[39m\u001b[33mrole\u001b[39m\u001b[33m\"\u001b[39m: \u001b[33m\"\u001b[39m\u001b[33muser\u001b[39m\u001b[33m\"\u001b[39m,\n\u001b[32m    234\u001b[39m             \u001b[33m\"\u001b[39m\u001b[33mcontent\u001b[39m\u001b[33m\"\u001b[39m: \u001b[33m\"\u001b[39m\u001b[33mConvert each entry in this bibliography into structured JSON:\u001b[39m\u001b[38;5;130;01m\\n\u001b[39;00m\u001b[33m\"\u001b[39m\n\u001b[32m    235\u001b[39m             + text,\n\u001b[32m    236\u001b[39m         }\n\u001b[32m    237\u001b[39m     ],\n\u001b[32m    238\u001b[39m )\n\u001b[32m    240\u001b[39m json_result = entries.model_dump_json(indent=\u001b[32m2\u001b[39m, exclude_defaults=\u001b[38;5;28;01mTrue\u001b[39;00m)\n\u001b[32m    241\u001b[39m \u001b[38;5;66;03m# Async file write\u001b[39;00m\n",
      "\u001b[31mTypeError\u001b[39m: object Entries can't be used in 'await' expression"
     ]
    }
   ],
   "source": [
    "\n",
    "dir = txt_source_dir / llms['google'] # where to look for ocr-llm-img2txt output\n",
    "\n",
    "# Get the text paths from ocr-llm-img2txt/gpt-4o directory\n",
    "txt_filepaths = get_paths(dir, \"txt\")\n",
    "\n",
    "# Call the main function that concurrently runs relevant async function\n",
    "await process_json_async(txt_filepaths, json_output_dir, gemini_txt2json_async, \"json\", llms['google'])\n"
   ]
  },
  {
   "cell_type": "markdown",
   "id": "38d06c34",
   "metadata": {},
   "source": [
    "## 6. Send to Claude"
   ]
  },
  {
   "cell_type": "markdown",
   "id": "e0869c81",
   "metadata": {},
   "source": [
    "### a. OCR-LLM call"
   ]
  },
  {
   "cell_type": "code",
   "execution_count": null,
   "id": "8651e17c",
   "metadata": {},
   "outputs": [],
   "source": [
    "# for path in img_filepaths:\n",
    "#     base64_image = encode_image(path)\n",
    "\n",
    "#     response = claude_client.messages.create(\n",
    "#         model='claude-opus-4-20250514',\n",
    "#         temperature=0,\n",
    "#         max_tokens=10,\n",
    "#         messages=[\n",
    "#             {\n",
    "#                 \"role\": \"user\", \n",
    "#                 \"content\": [\n",
    "#                     {\n",
    "#                         \"type\": \"text\",\n",
    "#                         \"text\": prompt_ocr_llm\n",
    "#                     },\n",
    "#                     {\n",
    "#                         \"type\": \"image\",\n",
    "#                         \"source\": {\n",
    "#                             \"type\": \"base64\",\n",
    "#                             \"media_type\": \"image/png\",\n",
    "#                             \"data\": base64_image\n",
    "#                         }\n",
    "#                     }\n",
    "#                 ]\n",
    "#             }\n",
    "#             ]\n",
    "#     )\n",
    "#     print(response)\n",
    "\n",
    "#     with open(txt_output_dir / \"ocr-llm-img2txt\" / \"claude-4-sonnet\" / Path(path.stem + \".txt\"), 'w') as file:\n",
    "#         file.write(response.choices[0].message.content)"
   ]
  },
  {
   "cell_type": "markdown",
   "id": "b610ccd9",
   "metadata": {},
   "source": [
    "### b. LLM call (without OCR)"
   ]
  },
  {
   "cell_type": "code",
   "execution_count": null,
   "id": "d497c3d2",
   "metadata": {},
   "outputs": [],
   "source": [
    "# for path in img_filepaths:\n",
    "#     base64_image = encode_image(path)\n",
    "\n",
    "#     response = claude_client.messages.create(\n",
    "#         model='claude-opus-4-20250514',\n",
    "#         temperature=0,\n",
    "#         messages=[\n",
    "#             {\n",
    "#                 \"role\": \"user\", \n",
    "#                 \"content\": [\n",
    "#                     {\n",
    "#                         \"type\": \"text\",\n",
    "#                         \"text\": prompt_llm\n",
    "#                     },\n",
    "#                     {\n",
    "#                         \"type\": \"image\",\n",
    "#                         \"source\": {\n",
    "#                             \"type\": \"base64\",\n",
    "#                             \"media_type\": \"image/png\",\n",
    "#                             \"data\": base64_image\n",
    "#                         }\n",
    "#                     }\n",
    "#                 ]\n",
    "#             }\n",
    "#             ]\n",
    "#     )\n",
    "\n",
    "#     with open(txt_output_dir / \"llm-img2txt\" / \"claude-4-sonnet\" / Path(path.stem + \".txt\"), 'w') as file:\n",
    "#         file.write(response.choices[0].message.content)"
   ]
  },
  {
   "cell_type": "markdown",
   "id": "32e20262",
   "metadata": {},
   "source": [
    "## 7. Benchmark results"
   ]
  },
  {
   "cell_type": "markdown",
   "id": "88f3596a",
   "metadata": {},
   "source": [
    "a. Text accuracy benchmarking"
   ]
  },
  {
   "cell_type": "code",
   "execution_count": null,
   "id": "77c21953",
   "metadata": {},
   "outputs": [
    {
     "name": "stderr",
     "output_type": "stream",
     "text": [
      "[file retrieval] 2025-07-09 21:17:17 [INFO] Script directory: c:\\Users\\vriez\\OneDrive\\Desktop\\Summer MAP\\ocr-benchmarking-1\\src\\workflow\n",
      "[file retrieval] 2025-07-09 21:17:17 [INFO] Project root: c:\\Users\\vriez\\OneDrive\\Desktop\\Summer MAP\\ocr-benchmarking-1\n",
      "[file retrieval] 2025-07-09 21:17:17 [INFO] Found ground-truth txt files: ['c:\\\\Users\\\\vriez\\\\OneDrive\\\\Desktop\\\\Summer MAP\\\\ocr-benchmarking-1\\\\data\\\\ground-truth\\\\txt\\\\gt_kbaa-p003.txt', 'c:\\\\Users\\\\vriez\\\\OneDrive\\\\Desktop\\\\Summer MAP\\\\ocr-benchmarking-1\\\\data\\\\ground-truth\\\\txt\\\\gt_kbaa-p004.txt', 'c:\\\\Users\\\\vriez\\\\OneDrive\\\\Desktop\\\\Summer MAP\\\\ocr-benchmarking-1\\\\data\\\\ground-truth\\\\txt\\\\gt_kbaa-p005.txt', 'c:\\\\Users\\\\vriez\\\\OneDrive\\\\Desktop\\\\Summer MAP\\\\ocr-benchmarking-1\\\\data\\\\ground-truth\\\\txt\\\\gt_kbaa-p006.txt', 'c:\\\\Users\\\\vriez\\\\OneDrive\\\\Desktop\\\\Summer MAP\\\\ocr-benchmarking-1\\\\data\\\\ground-truth\\\\txt\\\\gt_kbaa-p007.txt', 'c:\\\\Users\\\\vriez\\\\OneDrive\\\\Desktop\\\\Summer MAP\\\\ocr-benchmarking-1\\\\data\\\\ground-truth\\\\txt\\\\gt_kbaa-p008.txt', 'c:\\\\Users\\\\vriez\\\\OneDrive\\\\Desktop\\\\Summer MAP\\\\ocr-benchmarking-1\\\\data\\\\ground-truth\\\\txt\\\\gt_kbaa-p009.txt', 'c:\\\\Users\\\\vriez\\\\OneDrive\\\\Desktop\\\\Summer MAP\\\\ocr-benchmarking-1\\\\data\\\\ground-truth\\\\txt\\\\gt_kbaa-p010.txt', 'c:\\\\Users\\\\vriez\\\\OneDrive\\\\Desktop\\\\Summer MAP\\\\ocr-benchmarking-1\\\\data\\\\ground-truth\\\\txt\\\\gt_kbaa-p011.txt', 'c:\\\\Users\\\\vriez\\\\OneDrive\\\\Desktop\\\\Summer MAP\\\\ocr-benchmarking-1\\\\data\\\\ground-truth\\\\txt\\\\gt_kbaa-p012.txt', 'c:\\\\Users\\\\vriez\\\\OneDrive\\\\Desktop\\\\Summer MAP\\\\ocr-benchmarking-1\\\\data\\\\ground-truth\\\\txt\\\\gt_kbaa-p038.txt', 'c:\\\\Users\\\\vriez\\\\OneDrive\\\\Desktop\\\\Summer MAP\\\\ocr-benchmarking-1\\\\data\\\\ground-truth\\\\txt\\\\gt_kbaa-p039.txt', 'c:\\\\Users\\\\vriez\\\\OneDrive\\\\Desktop\\\\Summer MAP\\\\ocr-benchmarking-1\\\\data\\\\ground-truth\\\\txt\\\\gt_kbaa-p043.txt', 'c:\\\\Users\\\\vriez\\\\OneDrive\\\\Desktop\\\\Summer MAP\\\\ocr-benchmarking-1\\\\data\\\\ground-truth\\\\txt\\\\gt_kbaa-p048.txt', 'c:\\\\Users\\\\vriez\\\\OneDrive\\\\Desktop\\\\Summer MAP\\\\ocr-benchmarking-1\\\\data\\\\ground-truth\\\\txt\\\\gt_kbaa-p049.txt', 'c:\\\\Users\\\\vriez\\\\OneDrive\\\\Desktop\\\\Summer MAP\\\\ocr-benchmarking-1\\\\data\\\\ground-truth\\\\txt\\\\gt_kbaa-p058.txt', 'c:\\\\Users\\\\vriez\\\\OneDrive\\\\Desktop\\\\Summer MAP\\\\ocr-benchmarking-1\\\\data\\\\ground-truth\\\\txt\\\\gt_kbaa-p059.txt', 'c:\\\\Users\\\\vriez\\\\OneDrive\\\\Desktop\\\\Summer MAP\\\\ocr-benchmarking-1\\\\data\\\\ground-truth\\\\txt\\\\gt_kbaa-p060.txt', 'c:\\\\Users\\\\vriez\\\\OneDrive\\\\Desktop\\\\Summer MAP\\\\ocr-benchmarking-1\\\\data\\\\ground-truth\\\\txt\\\\gt_kbaa-p061.txt', 'c:\\\\Users\\\\vriez\\\\OneDrive\\\\Desktop\\\\Summer MAP\\\\ocr-benchmarking-1\\\\data\\\\ground-truth\\\\txt\\\\gt_kbaa-p062.txt', 'c:\\\\Users\\\\vriez\\\\OneDrive\\\\Desktop\\\\Summer MAP\\\\ocr-benchmarking-1\\\\data\\\\ground-truth\\\\txt\\\\gt_kbaa-p063.txt', 'c:\\\\Users\\\\vriez\\\\OneDrive\\\\Desktop\\\\Summer MAP\\\\ocr-benchmarking-1\\\\data\\\\ground-truth\\\\txt\\\\gt_kbaa-p064.txt', 'c:\\\\Users\\\\vriez\\\\OneDrive\\\\Desktop\\\\Summer MAP\\\\ocr-benchmarking-1\\\\data\\\\ground-truth\\\\txt\\\\gt_kbaa-p065.txt', 'c:\\\\Users\\\\vriez\\\\OneDrive\\\\Desktop\\\\Summer MAP\\\\ocr-benchmarking-1\\\\data\\\\ground-truth\\\\txt\\\\gt_kbaa-p066.txt', 'c:\\\\Users\\\\vriez\\\\OneDrive\\\\Desktop\\\\Summer MAP\\\\ocr-benchmarking-1\\\\data\\\\ground-truth\\\\txt\\\\gt_kbaa-p067.txt', 'c:\\\\Users\\\\vriez\\\\OneDrive\\\\Desktop\\\\Summer MAP\\\\ocr-benchmarking-1\\\\data\\\\ground-truth\\\\txt\\\\gt_kbaa-p068.txt', 'c:\\\\Users\\\\vriez\\\\OneDrive\\\\Desktop\\\\Summer MAP\\\\ocr-benchmarking-1\\\\data\\\\ground-truth\\\\txt\\\\gt_kbaa-p069.txt', 'c:\\\\Users\\\\vriez\\\\OneDrive\\\\Desktop\\\\Summer MAP\\\\ocr-benchmarking-1\\\\data\\\\ground-truth\\\\txt\\\\gt_kbaa-p070.txt', 'c:\\\\Users\\\\vriez\\\\OneDrive\\\\Desktop\\\\Summer MAP\\\\ocr-benchmarking-1\\\\data\\\\ground-truth\\\\txt\\\\gt_kbaa-p071.txt', 'c:\\\\Users\\\\vriez\\\\OneDrive\\\\Desktop\\\\Summer MAP\\\\ocr-benchmarking-1\\\\data\\\\ground-truth\\\\txt\\\\gt_kbaa-p072.txt', 'c:\\\\Users\\\\vriez\\\\OneDrive\\\\Desktop\\\\Summer MAP\\\\ocr-benchmarking-1\\\\data\\\\ground-truth\\\\txt\\\\gt_kbaa-p073.txt', 'c:\\\\Users\\\\vriez\\\\OneDrive\\\\Desktop\\\\Summer MAP\\\\ocr-benchmarking-1\\\\data\\\\ground-truth\\\\txt\\\\gt_kbaa-p096.txt', 'c:\\\\Users\\\\vriez\\\\OneDrive\\\\Desktop\\\\Summer MAP\\\\ocr-benchmarking-1\\\\data\\\\ground-truth\\\\txt\\\\gt_kbaa-p100.txt', 'c:\\\\Users\\\\vriez\\\\OneDrive\\\\Desktop\\\\Summer MAP\\\\ocr-benchmarking-1\\\\data\\\\ground-truth\\\\txt\\\\gt_kbaa-p101.txt', 'c:\\\\Users\\\\vriez\\\\OneDrive\\\\Desktop\\\\Summer MAP\\\\ocr-benchmarking-1\\\\data\\\\ground-truth\\\\txt\\\\gt_kbaa-p106.txt', 'c:\\\\Users\\\\vriez\\\\OneDrive\\\\Desktop\\\\Summer MAP\\\\ocr-benchmarking-1\\\\data\\\\ground-truth\\\\txt\\\\gt_kbaa-p107.txt', 'c:\\\\Users\\\\vriez\\\\OneDrive\\\\Desktop\\\\Summer MAP\\\\ocr-benchmarking-1\\\\data\\\\ground-truth\\\\txt\\\\gt_kbaa-p113.txt', 'c:\\\\Users\\\\vriez\\\\OneDrive\\\\Desktop\\\\Summer MAP\\\\ocr-benchmarking-1\\\\data\\\\ground-truth\\\\txt\\\\gt_kbaa-p114.txt', 'c:\\\\Users\\\\vriez\\\\OneDrive\\\\Desktop\\\\Summer MAP\\\\ocr-benchmarking-1\\\\data\\\\ground-truth\\\\txt\\\\gt_kbaa-p115.txt', 'c:\\\\Users\\\\vriez\\\\OneDrive\\\\Desktop\\\\Summer MAP\\\\ocr-benchmarking-1\\\\data\\\\ground-truth\\\\txt\\\\gt_kbaa-p119.txt', 'c:\\\\Users\\\\vriez\\\\OneDrive\\\\Desktop\\\\Summer MAP\\\\ocr-benchmarking-1\\\\data\\\\ground-truth\\\\txt\\\\gt_kbaa-p121.txt', 'c:\\\\Users\\\\vriez\\\\OneDrive\\\\Desktop\\\\Summer MAP\\\\ocr-benchmarking-1\\\\data\\\\ground-truth\\\\txt\\\\gt_kbaa-p124.txt', 'c:\\\\Users\\\\vriez\\\\OneDrive\\\\Desktop\\\\Summer MAP\\\\ocr-benchmarking-1\\\\data\\\\ground-truth\\\\txt\\\\gt_kbaa-p151.txt']\n",
      "[file retrieval] 2025-07-09 21:17:17 [INFO] Found file names: ['gt_kbaa-p003', 'gt_kbaa-p004', 'gt_kbaa-p005', 'gt_kbaa-p006', 'gt_kbaa-p007', 'gt_kbaa-p008', 'gt_kbaa-p009', 'gt_kbaa-p010', 'gt_kbaa-p011', 'gt_kbaa-p012', 'gt_kbaa-p038', 'gt_kbaa-p039', 'gt_kbaa-p043', 'gt_kbaa-p048', 'gt_kbaa-p049', 'gt_kbaa-p058', 'gt_kbaa-p059', 'gt_kbaa-p060', 'gt_kbaa-p061', 'gt_kbaa-p062', 'gt_kbaa-p063', 'gt_kbaa-p064', 'gt_kbaa-p065', 'gt_kbaa-p066', 'gt_kbaa-p067', 'gt_kbaa-p068', 'gt_kbaa-p069', 'gt_kbaa-p070', 'gt_kbaa-p071', 'gt_kbaa-p072', 'gt_kbaa-p073', 'gt_kbaa-p096', 'gt_kbaa-p100', 'gt_kbaa-p101', 'gt_kbaa-p106', 'gt_kbaa-p107', 'gt_kbaa-p113', 'gt_kbaa-p114', 'gt_kbaa-p115', 'gt_kbaa-p119', 'gt_kbaa-p121', 'gt_kbaa-p124', 'gt_kbaa-p151']\n",
      "[file retrieval] 2025-07-09 21:17:17 [INFO] Models found: [('llm-img2txt', 'gemini-2.5-flash'), ('ocr-llm-img2txt', 'gemini-2.5-flash'), ('llm-img2txt', 'gpt-4o'), ('ocr-llm-img2txt', 'gpt-4o'), ('ocr-img2txt', 'pytesseract')]\n",
      "[file retrieval] 2025-07-09 21:17:17 [INFO] Collecting results for model: gemini-2.5-flash\n"
     ]
    },
    {
     "name": "stdout",
     "output_type": "stream",
     "text": [
      "c:\\Users\\vriez\\OneDrive\\Desktop\\Summer MAP\\ocr-benchmarking-1\\results\\txt\\llm-img2txt\n",
      "c:\\Users\\vriez\\OneDrive\\Desktop\\Summer MAP\\ocr-benchmarking-1\\results\\txt\\ocr-img2txt\n",
      "c:\\Users\\vriez\\OneDrive\\Desktop\\Summer MAP\\ocr-benchmarking-1\\results\\txt\\ocr-llm-img2txt\n"
     ]
    },
    {
     "name": "stderr",
     "output_type": "stream",
     "text": [
      "[file retrieval] 2025-07-09 21:17:17 [INFO] Collected results for model_type: llm-img2txt, model: gemini-2.5-flash\n",
      "[file retrieval] 2025-07-09 21:17:17 [INFO] Collecting results for model: gemini-2.5-flash\n",
      "[file retrieval] 2025-07-09 21:17:18 [INFO] Collected results for model_type: ocr-llm-img2txt, model: gemini-2.5-flash\n",
      "[file retrieval] 2025-07-09 21:17:18 [INFO] Collecting results for model: gpt-4o\n",
      "[file retrieval] 2025-07-09 21:17:18 [INFO] Collected results for model_type: llm-img2txt, model: gpt-4o\n",
      "[file retrieval] 2025-07-09 21:17:18 [INFO] Collecting results for model: gpt-4o\n",
      "[file retrieval] 2025-07-09 21:17:19 [INFO] Collected results for model_type: ocr-llm-img2txt, model: gpt-4o\n",
      "[file retrieval] 2025-07-09 21:17:19 [INFO] Collecting results for model: pytesseract\n",
      "[file retrieval] 2025-07-09 21:17:19 [INFO] Collected results for model_type: ocr-img2txt, model: pytesseract\n",
      "[file retrieval] 2025-07-09 21:17:19 [INFO] Computing metrics for model_type: llm-img2txt, model: gemini-2.5-flash\n",
      "[file retrieval] 2025-07-09 21:17:19 [INFO] Computing metrics for document: kbaa-p003\n",
      "[file retrieval] 2025-07-09 21:17:19 [INFO] Computing metrics for document: kbaa-p004\n",
      "[file retrieval] 2025-07-09 21:17:19 [INFO] Computing metrics for document: kbaa-p005\n",
      "[file retrieval] 2025-07-09 21:17:19 [INFO] Computing metrics for document: kbaa-p006\n",
      "[file retrieval] 2025-07-09 21:17:19 [INFO] Computing metrics for document: kbaa-p007\n",
      "[file retrieval] 2025-07-09 21:17:19 [INFO] Computing metrics for document: kbaa-p008\n",
      "[file retrieval] 2025-07-09 21:17:19 [INFO] Computing metrics for document: kbaa-p009\n",
      "[file retrieval] 2025-07-09 21:17:19 [INFO] Computing metrics for document: kbaa-p010\n",
      "[file retrieval] 2025-07-09 21:17:19 [INFO] Computing metrics for document: kbaa-p011\n",
      "[file retrieval] 2025-07-09 21:17:19 [INFO] Computing metrics for document: kbaa-p012\n",
      "[file retrieval] 2025-07-09 21:17:19 [INFO] Computing metrics for document: kbaa-p038\n",
      "[file retrieval] 2025-07-09 21:17:19 [INFO] Computing metrics for document: kbaa-p039\n",
      "[file retrieval] 2025-07-09 21:17:19 [INFO] Computing metrics for document: kbaa-p043\n",
      "[file retrieval] 2025-07-09 21:17:19 [INFO] Computing metrics for document: kbaa-p048\n",
      "[file retrieval] 2025-07-09 21:17:19 [INFO] Computing metrics for document: kbaa-p049\n",
      "[file retrieval] 2025-07-09 21:17:19 [INFO] Computing metrics for document: kbaa-p058\n",
      "[file retrieval] 2025-07-09 21:17:19 [INFO] Computing metrics for document: kbaa-p059\n",
      "[file retrieval] 2025-07-09 21:17:19 [INFO] Computing metrics for document: kbaa-p060\n",
      "[file retrieval] 2025-07-09 21:17:19 [INFO] Computing metrics for document: kbaa-p061\n",
      "[file retrieval] 2025-07-09 21:17:19 [INFO] Computing metrics for document: kbaa-p062\n",
      "[file retrieval] 2025-07-09 21:17:19 [INFO] Computing metrics for document: kbaa-p063\n",
      "[file retrieval] 2025-07-09 21:17:19 [INFO] Computing metrics for document: kbaa-p064\n",
      "[file retrieval] 2025-07-09 21:17:19 [INFO] Computing metrics for document: kbaa-p065\n",
      "[file retrieval] 2025-07-09 21:17:19 [INFO] Computing metrics for document: kbaa-p066\n",
      "[file retrieval] 2025-07-09 21:17:19 [INFO] Computing metrics for document: kbaa-p067\n",
      "[file retrieval] 2025-07-09 21:17:19 [INFO] Computing metrics for document: kbaa-p068\n",
      "[file retrieval] 2025-07-09 21:17:19 [INFO] Computing metrics for document: kbaa-p069\n",
      "[file retrieval] 2025-07-09 21:17:19 [INFO] Computing metrics for document: kbaa-p070\n",
      "[file retrieval] 2025-07-09 21:17:19 [INFO] Computing metrics for document: kbaa-p071\n",
      "[file retrieval] 2025-07-09 21:17:19 [INFO] Computing metrics for document: kbaa-p072\n",
      "[file retrieval] 2025-07-09 21:17:19 [INFO] Computing metrics for document: kbaa-p073\n",
      "[file retrieval] 2025-07-09 21:17:19 [INFO] Computing metrics for document: kbaa-p096\n",
      "[file retrieval] 2025-07-09 21:17:19 [INFO] Computing metrics for document: kbaa-p100\n",
      "[file retrieval] 2025-07-09 21:17:19 [INFO] Computing metrics for document: kbaa-p101\n",
      "[file retrieval] 2025-07-09 21:17:19 [INFO] Computing metrics for document: kbaa-p106\n",
      "[file retrieval] 2025-07-09 21:17:19 [INFO] Computing metrics for document: kbaa-p107\n",
      "[file retrieval] 2025-07-09 21:17:19 [INFO] Computing metrics for document: kbaa-p113\n",
      "[file retrieval] 2025-07-09 21:17:19 [INFO] Computing metrics for document: kbaa-p114\n",
      "[file retrieval] 2025-07-09 21:17:19 [INFO] Computing metrics for document: kbaa-p115\n",
      "[file retrieval] 2025-07-09 21:17:19 [INFO] Computing metrics for document: kbaa-p119\n",
      "[file retrieval] 2025-07-09 21:17:19 [INFO] Computing metrics for document: kbaa-p121\n",
      "[file retrieval] 2025-07-09 21:17:19 [INFO] Computing metrics for document: kbaa-p124\n",
      "[file retrieval] 2025-07-09 21:17:19 [INFO] Computing metrics for document: kbaa-p151\n",
      "[file retrieval] 2025-07-09 21:17:23 [INFO] Computing metrics for model_type: ocr-llm-img2txt, model: gemini-2.5-flash\n",
      "[file retrieval] 2025-07-09 21:17:23 [INFO] Computing metrics for document: kbaa-p003\n",
      "[file retrieval] 2025-07-09 21:17:23 [INFO] Computing metrics for document: kbaa-p004\n",
      "[file retrieval] 2025-07-09 21:17:23 [INFO] Computing metrics for document: kbaa-p005\n",
      "[file retrieval] 2025-07-09 21:17:23 [INFO] Computing metrics for document: kbaa-p006\n",
      "[file retrieval] 2025-07-09 21:17:23 [INFO] Computing metrics for document: kbaa-p007\n",
      "[file retrieval] 2025-07-09 21:17:23 [INFO] Computing metrics for document: kbaa-p008\n",
      "[file retrieval] 2025-07-09 21:17:23 [INFO] Computing metrics for document: kbaa-p009\n",
      "[file retrieval] 2025-07-09 21:17:23 [INFO] Computing metrics for document: kbaa-p010\n",
      "[file retrieval] 2025-07-09 21:17:23 [INFO] Computing metrics for document: kbaa-p011\n",
      "[file retrieval] 2025-07-09 21:17:23 [INFO] Computing metrics for document: kbaa-p012\n",
      "[file retrieval] 2025-07-09 21:17:23 [INFO] Computing metrics for document: kbaa-p038\n",
      "[file retrieval] 2025-07-09 21:17:23 [INFO] Computing metrics for document: kbaa-p039\n",
      "[file retrieval] 2025-07-09 21:17:23 [INFO] Computing metrics for document: kbaa-p043\n",
      "[file retrieval] 2025-07-09 21:17:23 [INFO] Computing metrics for document: kbaa-p048\n",
      "[file retrieval] 2025-07-09 21:17:23 [INFO] Computing metrics for document: kbaa-p049\n",
      "[file retrieval] 2025-07-09 21:17:23 [INFO] Computing metrics for document: kbaa-p058\n",
      "[file retrieval] 2025-07-09 21:17:23 [INFO] Computing metrics for document: kbaa-p059\n",
      "[file retrieval] 2025-07-09 21:17:23 [INFO] Computing metrics for document: kbaa-p060\n",
      "[file retrieval] 2025-07-09 21:17:23 [INFO] Computing metrics for document: kbaa-p061\n",
      "[file retrieval] 2025-07-09 21:17:23 [INFO] Computing metrics for document: kbaa-p062\n",
      "[file retrieval] 2025-07-09 21:17:23 [INFO] Computing metrics for document: kbaa-p063\n",
      "[file retrieval] 2025-07-09 21:17:23 [INFO] Computing metrics for document: kbaa-p064\n",
      "[file retrieval] 2025-07-09 21:17:23 [INFO] Computing metrics for document: kbaa-p065\n",
      "[file retrieval] 2025-07-09 21:17:23 [INFO] Computing metrics for document: kbaa-p066\n",
      "[file retrieval] 2025-07-09 21:17:23 [INFO] Computing metrics for document: kbaa-p067\n",
      "[file retrieval] 2025-07-09 21:17:23 [INFO] Computing metrics for document: kbaa-p068\n",
      "[file retrieval] 2025-07-09 21:17:23 [INFO] Computing metrics for document: kbaa-p069\n",
      "[file retrieval] 2025-07-09 21:17:23 [INFO] Computing metrics for document: kbaa-p070\n",
      "[file retrieval] 2025-07-09 21:17:23 [INFO] Computing metrics for document: kbaa-p071\n",
      "[file retrieval] 2025-07-09 21:17:23 [INFO] Computing metrics for document: kbaa-p072\n",
      "[file retrieval] 2025-07-09 21:17:23 [INFO] Computing metrics for document: kbaa-p073\n",
      "[file retrieval] 2025-07-09 21:17:23 [INFO] Computing metrics for document: kbaa-p096\n",
      "[file retrieval] 2025-07-09 21:17:23 [INFO] Computing metrics for document: kbaa-p100\n",
      "[file retrieval] 2025-07-09 21:17:23 [INFO] Computing metrics for document: kbaa-p101\n",
      "[file retrieval] 2025-07-09 21:17:23 [INFO] Computing metrics for document: kbaa-p106\n",
      "[file retrieval] 2025-07-09 21:17:23 [INFO] Computing metrics for document: kbaa-p107\n",
      "[file retrieval] 2025-07-09 21:17:23 [INFO] Computing metrics for document: kbaa-p113\n",
      "[file retrieval] 2025-07-09 21:17:23 [INFO] Computing metrics for document: kbaa-p114\n",
      "[file retrieval] 2025-07-09 21:17:23 [INFO] Computing metrics for document: kbaa-p115\n",
      "[file retrieval] 2025-07-09 21:17:23 [INFO] Computing metrics for document: kbaa-p119\n",
      "[file retrieval] 2025-07-09 21:17:23 [INFO] Computing metrics for document: kbaa-p121\n",
      "[file retrieval] 2025-07-09 21:17:23 [INFO] Computing metrics for document: kbaa-p124\n",
      "[file retrieval] 2025-07-09 21:17:23 [INFO] Computing metrics for document: kbaa-p151\n",
      "[file retrieval] 2025-07-09 21:17:27 [INFO] Computing metrics for model_type: llm-img2txt, model: gpt-4o\n",
      "[file retrieval] 2025-07-09 21:17:27 [INFO] Computing metrics for document: kbaa-p003\n",
      "[file retrieval] 2025-07-09 21:17:27 [INFO] Computing metrics for document: kbaa-p004\n",
      "[file retrieval] 2025-07-09 21:17:27 [INFO] Computing metrics for document: kbaa-p005\n",
      "[file retrieval] 2025-07-09 21:17:27 [INFO] Computing metrics for document: kbaa-p006\n",
      "[file retrieval] 2025-07-09 21:17:27 [INFO] Computing metrics for document: kbaa-p007\n",
      "[file retrieval] 2025-07-09 21:17:27 [INFO] Computing metrics for document: kbaa-p008\n",
      "[file retrieval] 2025-07-09 21:17:27 [INFO] Computing metrics for document: kbaa-p009\n",
      "[file retrieval] 2025-07-09 21:17:27 [INFO] Computing metrics for document: kbaa-p010\n",
      "[file retrieval] 2025-07-09 21:17:27 [INFO] Computing metrics for document: kbaa-p011\n",
      "[file retrieval] 2025-07-09 21:17:27 [INFO] Computing metrics for document: kbaa-p012\n",
      "[file retrieval] 2025-07-09 21:17:27 [INFO] Computing metrics for document: kbaa-p038\n",
      "[file retrieval] 2025-07-09 21:17:27 [INFO] Computing metrics for document: kbaa-p039\n",
      "[file retrieval] 2025-07-09 21:17:27 [INFO] Computing metrics for document: kbaa-p043\n",
      "[file retrieval] 2025-07-09 21:17:27 [INFO] Computing metrics for document: kbaa-p048\n",
      "[file retrieval] 2025-07-09 21:17:27 [INFO] Computing metrics for document: kbaa-p049\n",
      "[file retrieval] 2025-07-09 21:17:27 [INFO] Computing metrics for document: kbaa-p058\n",
      "[file retrieval] 2025-07-09 21:17:27 [INFO] Computing metrics for document: kbaa-p059\n",
      "[file retrieval] 2025-07-09 21:17:27 [INFO] Computing metrics for document: kbaa-p060\n",
      "[file retrieval] 2025-07-09 21:17:27 [INFO] Computing metrics for document: kbaa-p061\n",
      "[file retrieval] 2025-07-09 21:17:27 [INFO] Computing metrics for document: kbaa-p062\n",
      "[file retrieval] 2025-07-09 21:17:27 [INFO] Computing metrics for document: kbaa-p063\n",
      "[file retrieval] 2025-07-09 21:17:27 [INFO] Computing metrics for document: kbaa-p064\n",
      "[file retrieval] 2025-07-09 21:17:27 [INFO] Computing metrics for document: kbaa-p065\n",
      "[file retrieval] 2025-07-09 21:17:27 [INFO] Computing metrics for document: kbaa-p066\n",
      "[file retrieval] 2025-07-09 21:17:27 [INFO] Computing metrics for document: kbaa-p067\n",
      "[file retrieval] 2025-07-09 21:17:27 [INFO] Computing metrics for document: kbaa-p068\n",
      "[file retrieval] 2025-07-09 21:17:27 [INFO] Computing metrics for document: kbaa-p069\n",
      "[file retrieval] 2025-07-09 21:17:27 [INFO] Computing metrics for document: kbaa-p070\n",
      "[file retrieval] 2025-07-09 21:17:27 [INFO] Computing metrics for document: kbaa-p071\n",
      "[file retrieval] 2025-07-09 21:17:27 [INFO] Computing metrics for document: kbaa-p072\n",
      "[file retrieval] 2025-07-09 21:17:27 [INFO] Computing metrics for document: kbaa-p073\n",
      "[file retrieval] 2025-07-09 21:17:27 [INFO] Computing metrics for document: kbaa-p096\n",
      "[file retrieval] 2025-07-09 21:17:27 [INFO] Computing metrics for document: kbaa-p100\n",
      "[file retrieval] 2025-07-09 21:17:27 [INFO] Computing metrics for document: kbaa-p101\n",
      "[file retrieval] 2025-07-09 21:17:27 [INFO] Computing metrics for document: kbaa-p106\n",
      "[file retrieval] 2025-07-09 21:17:27 [INFO] Computing metrics for document: kbaa-p107\n",
      "[file retrieval] 2025-07-09 21:17:27 [INFO] Computing metrics for document: kbaa-p113\n",
      "[file retrieval] 2025-07-09 21:17:27 [INFO] Computing metrics for document: kbaa-p114\n",
      "[file retrieval] 2025-07-09 21:17:27 [INFO] Computing metrics for document: kbaa-p115\n",
      "[file retrieval] 2025-07-09 21:17:27 [INFO] Computing metrics for document: kbaa-p119\n",
      "[file retrieval] 2025-07-09 21:17:27 [INFO] Computing metrics for document: kbaa-p121\n",
      "[file retrieval] 2025-07-09 21:17:27 [INFO] Computing metrics for document: kbaa-p124\n",
      "[file retrieval] 2025-07-09 21:17:27 [INFO] Computing metrics for document: kbaa-p151\n",
      "[file retrieval] 2025-07-09 21:17:30 [INFO] Computing metrics for model_type: ocr-llm-img2txt, model: gpt-4o\n",
      "[file retrieval] 2025-07-09 21:17:30 [INFO] Computing metrics for document: kbaa-p003\n",
      "[file retrieval] 2025-07-09 21:17:30 [INFO] Computing metrics for document: kbaa-p004\n",
      "[file retrieval] 2025-07-09 21:17:30 [INFO] Computing metrics for document: kbaa-p005\n",
      "[file retrieval] 2025-07-09 21:17:30 [INFO] Computing metrics for document: kbaa-p006\n",
      "[file retrieval] 2025-07-09 21:17:30 [INFO] Computing metrics for document: kbaa-p007\n",
      "[file retrieval] 2025-07-09 21:17:30 [INFO] Computing metrics for document: kbaa-p008\n",
      "[file retrieval] 2025-07-09 21:17:30 [INFO] Computing metrics for document: kbaa-p009\n",
      "[file retrieval] 2025-07-09 21:17:30 [INFO] Computing metrics for document: kbaa-p010\n",
      "[file retrieval] 2025-07-09 21:17:30 [INFO] Computing metrics for document: kbaa-p011\n",
      "[file retrieval] 2025-07-09 21:17:30 [INFO] Computing metrics for document: kbaa-p012\n",
      "[file retrieval] 2025-07-09 21:17:30 [INFO] Computing metrics for document: kbaa-p038\n",
      "[file retrieval] 2025-07-09 21:17:30 [INFO] Computing metrics for document: kbaa-p039\n",
      "[file retrieval] 2025-07-09 21:17:30 [INFO] Computing metrics for document: kbaa-p043\n",
      "[file retrieval] 2025-07-09 21:17:30 [INFO] Computing metrics for document: kbaa-p048\n",
      "[file retrieval] 2025-07-09 21:17:30 [INFO] Computing metrics for document: kbaa-p049\n",
      "[file retrieval] 2025-07-09 21:17:30 [INFO] Computing metrics for document: kbaa-p058\n",
      "[file retrieval] 2025-07-09 21:17:30 [INFO] Computing metrics for document: kbaa-p059\n",
      "[file retrieval] 2025-07-09 21:17:30 [INFO] Computing metrics for document: kbaa-p060\n",
      "[file retrieval] 2025-07-09 21:17:30 [INFO] Computing metrics for document: kbaa-p061\n",
      "[file retrieval] 2025-07-09 21:17:30 [INFO] Computing metrics for document: kbaa-p062\n",
      "[file retrieval] 2025-07-09 21:17:30 [INFO] Computing metrics for document: kbaa-p063\n",
      "[file retrieval] 2025-07-09 21:17:30 [INFO] Computing metrics for document: kbaa-p064\n",
      "[file retrieval] 2025-07-09 21:17:30 [INFO] Computing metrics for document: kbaa-p065\n",
      "[file retrieval] 2025-07-09 21:17:30 [INFO] Computing metrics for document: kbaa-p066\n",
      "[file retrieval] 2025-07-09 21:17:30 [INFO] Computing metrics for document: kbaa-p067\n",
      "[file retrieval] 2025-07-09 21:17:30 [INFO] Computing metrics for document: kbaa-p068\n",
      "[file retrieval] 2025-07-09 21:17:30 [INFO] Computing metrics for document: kbaa-p069\n",
      "[file retrieval] 2025-07-09 21:17:30 [INFO] Computing metrics for document: kbaa-p070\n",
      "[file retrieval] 2025-07-09 21:17:30 [INFO] Computing metrics for document: kbaa-p071\n",
      "[file retrieval] 2025-07-09 21:17:30 [INFO] Computing metrics for document: kbaa-p072\n",
      "[file retrieval] 2025-07-09 21:17:30 [INFO] Computing metrics for document: kbaa-p073\n",
      "[file retrieval] 2025-07-09 21:17:30 [INFO] Computing metrics for document: kbaa-p096\n",
      "[file retrieval] 2025-07-09 21:17:30 [INFO] Computing metrics for document: kbaa-p100\n",
      "[file retrieval] 2025-07-09 21:17:30 [INFO] Computing metrics for document: kbaa-p101\n",
      "[file retrieval] 2025-07-09 21:17:30 [INFO] Computing metrics for document: kbaa-p106\n",
      "[file retrieval] 2025-07-09 21:17:30 [INFO] Computing metrics for document: kbaa-p107\n",
      "[file retrieval] 2025-07-09 21:17:30 [INFO] Computing metrics for document: kbaa-p113\n",
      "[file retrieval] 2025-07-09 21:17:30 [INFO] Computing metrics for document: kbaa-p114\n",
      "[file retrieval] 2025-07-09 21:17:30 [INFO] Computing metrics for document: kbaa-p115\n",
      "[file retrieval] 2025-07-09 21:17:30 [INFO] Computing metrics for document: kbaa-p119\n",
      "[file retrieval] 2025-07-09 21:17:30 [INFO] Computing metrics for document: kbaa-p121\n",
      "[file retrieval] 2025-07-09 21:17:30 [INFO] Computing metrics for document: kbaa-p124\n",
      "[file retrieval] 2025-07-09 21:17:30 [INFO] Computing metrics for document: kbaa-p151\n",
      "[file retrieval] 2025-07-09 21:17:34 [INFO] Computing metrics for model_type: ocr-img2txt, model: pytesseract\n",
      "[file retrieval] 2025-07-09 21:17:34 [INFO] Computing metrics for document: kbaa-p003\n",
      "[file retrieval] 2025-07-09 21:17:34 [INFO] Computing metrics for document: kbaa-p004\n",
      "[file retrieval] 2025-07-09 21:17:34 [INFO] Computing metrics for document: kbaa-p005\n",
      "[file retrieval] 2025-07-09 21:17:34 [INFO] Computing metrics for document: kbaa-p006\n",
      "[file retrieval] 2025-07-09 21:17:34 [INFO] Computing metrics for document: kbaa-p007\n",
      "[file retrieval] 2025-07-09 21:17:34 [INFO] Computing metrics for document: kbaa-p008\n",
      "[file retrieval] 2025-07-09 21:17:34 [INFO] Computing metrics for document: kbaa-p009\n",
      "[file retrieval] 2025-07-09 21:17:34 [INFO] Computing metrics for document: kbaa-p010\n",
      "[file retrieval] 2025-07-09 21:17:34 [INFO] Computing metrics for document: kbaa-p011\n",
      "[file retrieval] 2025-07-09 21:17:34 [INFO] Computing metrics for document: kbaa-p012\n",
      "[file retrieval] 2025-07-09 21:17:34 [INFO] Computing metrics for document: kbaa-p038\n",
      "[file retrieval] 2025-07-09 21:17:34 [INFO] Computing metrics for document: kbaa-p039\n",
      "[file retrieval] 2025-07-09 21:17:34 [INFO] Computing metrics for document: kbaa-p043\n",
      "[file retrieval] 2025-07-09 21:17:34 [INFO] Computing metrics for document: kbaa-p048\n",
      "[file retrieval] 2025-07-09 21:17:34 [INFO] Computing metrics for document: kbaa-p049\n",
      "[file retrieval] 2025-07-09 21:17:34 [INFO] Computing metrics for document: kbaa-p058\n",
      "[file retrieval] 2025-07-09 21:17:34 [INFO] Computing metrics for document: kbaa-p059\n",
      "[file retrieval] 2025-07-09 21:17:34 [INFO] Computing metrics for document: kbaa-p060\n",
      "[file retrieval] 2025-07-09 21:17:34 [INFO] Computing metrics for document: kbaa-p061\n",
      "[file retrieval] 2025-07-09 21:17:34 [INFO] Computing metrics for document: kbaa-p062\n",
      "[file retrieval] 2025-07-09 21:17:34 [INFO] Computing metrics for document: kbaa-p063\n",
      "[file retrieval] 2025-07-09 21:17:34 [INFO] Computing metrics for document: kbaa-p064\n",
      "[file retrieval] 2025-07-09 21:17:34 [INFO] Computing metrics for document: kbaa-p065\n",
      "[file retrieval] 2025-07-09 21:17:34 [INFO] Computing metrics for document: kbaa-p066\n",
      "[file retrieval] 2025-07-09 21:17:34 [INFO] Computing metrics for document: kbaa-p067\n",
      "[file retrieval] 2025-07-09 21:17:34 [INFO] Computing metrics for document: kbaa-p068\n",
      "[file retrieval] 2025-07-09 21:17:34 [INFO] Computing metrics for document: kbaa-p069\n",
      "[file retrieval] 2025-07-09 21:17:34 [INFO] Computing metrics for document: kbaa-p070\n",
      "[file retrieval] 2025-07-09 21:17:34 [INFO] Computing metrics for document: kbaa-p071\n",
      "[file retrieval] 2025-07-09 21:17:34 [INFO] Computing metrics for document: kbaa-p072\n",
      "[file retrieval] 2025-07-09 21:17:34 [INFO] Computing metrics for document: kbaa-p073\n",
      "[file retrieval] 2025-07-09 21:17:34 [INFO] Computing metrics for document: kbaa-p096\n",
      "[file retrieval] 2025-07-09 21:17:34 [INFO] Computing metrics for document: kbaa-p100\n",
      "[file retrieval] 2025-07-09 21:17:34 [INFO] Computing metrics for document: kbaa-p101\n",
      "[file retrieval] 2025-07-09 21:17:34 [INFO] Computing metrics for document: kbaa-p106\n",
      "[file retrieval] 2025-07-09 21:17:34 [INFO] Computing metrics for document: kbaa-p107\n",
      "[file retrieval] 2025-07-09 21:17:34 [INFO] Computing metrics for document: kbaa-p113\n",
      "[file retrieval] 2025-07-09 21:17:34 [INFO] Computing metrics for document: kbaa-p114\n",
      "[file retrieval] 2025-07-09 21:17:34 [INFO] Computing metrics for document: kbaa-p115\n",
      "[file retrieval] 2025-07-09 21:17:34 [INFO] Computing metrics for document: kbaa-p119\n",
      "[file retrieval] 2025-07-09 21:17:34 [INFO] Computing metrics for document: kbaa-p121\n",
      "[file retrieval] 2025-07-09 21:17:34 [INFO] Computing metrics for document: kbaa-p124\n",
      "[file retrieval] 2025-07-09 21:17:34 [INFO] Computing metrics for document: kbaa-p151\n"
     ]
    }
   ],
   "source": [
    "import glob\n",
    "import sys\n",
    "sys.path.append(str(Path.cwd().\n",
    "parent))\n",
    "from benchmarking.txt_accuracy import clean_text_normalized, clean_text_nonorm, compute_metrics, build_dataframe\n",
    "from file_retrieval import get_doc_names, get_docs, get_all_models\n",
    "from datetime import datetime\n",
    "from venv import logger\n",
    "\n",
    "def main():\n",
    "    \"\"\"\n",
    "    Prerequisites:\n",
    "    - Ground truth text files located at `project_root/ground-truth/txt/kbaa-pxyz.txt`\n",
    "    - LLM/OCR transcribed files located at:\n",
    "        - for LLM transcriptions: `project_root/results/llm_img2txt/<MODEL-NAME>/kbaa-pxyz.txt`\n",
    "        - for OCR transcriptions: `project_root/results/ocr_img2txt/<MODEL-NAME>/kbaa-pxyz.txt`\n",
    "\n",
    "    The main function will:\n",
    "    - Gather all ground truth text files\n",
    "    - For each ground truth text file and for each LLM/OCR model, gather the corresponding transcription\n",
    "    - Clean all the text files (normalized and not normalized)\n",
    "    - Compute metrics for each file and model\n",
    "    - Save results in two CSV files (one for normalized, one for non-normalized)\n",
    "        - Results are saved in `project_root/benchmarking-results/txt-accuracy`\n",
    "    \"\"\"\n",
    "\n",
    "    # =============\n",
    "    # Preliminaries\n",
    "    # =============\n",
    "\n",
    "    # args = parse_arguments()\n",
    "\n",
    "    script_dir = str(Path.cwd())\n",
    "    project_root = str(root_dir)\n",
    "    logger.info(\"Script directory: %s\", script_dir)\n",
    "    logger.info(\"Project root: %s\", project_root)\n",
    "\n",
    "    # Ground truth\n",
    "    ground_truth_dir = root_dir / \"data\" / \"ground-truth\" / \"txt\"\n",
    "    doc_names = get_doc_names(ground_truth_dir, \"txt\", keep_prefix=False)\n",
    "\n",
    "    # results/ paths\n",
    "    all_models = get_all_models(\n",
    "        \"txt\",\n",
    "        os.path.join(txt_output_dir, f\"llm-img2txt\"),\n",
    "        os.path.join(txt_output_dir, \"ocr-img2txt\"),\n",
    "        os.path.join(txt_output_dir, f\"ocr-llm-img2txt\"),\n",
    "    )\n",
    "\n",
    "    logger.info(f\"Models found: {all_models}\")\n",
    "\n",
    "    # ===========\n",
    "    # Gather files\n",
    "    # ===========\n",
    "\n",
    "    # -> Gather ground truths and put into dict:\n",
    "    ground_truths, all_texts = get_docs(ground_truth_dir, doc_names, \"txt\", name_has_prefix=True)\n",
    "    ground_truths[\"__ALL__\"] = all_texts\n",
    "\n",
    "    doc_lengths_normalized = {\n",
    "        doc: len(clean_text_normalized(text)) for doc, text in ground_truths.items()\n",
    "    }\n",
    "    doc_lengths_nonorm = {\n",
    "        doc: len(clean_text_nonorm(text)) for doc, text in ground_truths.items()\n",
    "    }\n",
    "    total_doc_len_normalized = len(clean_text_normalized(ground_truths[\"__ALL__\"]))\n",
    "    total_doc_len_nonorm = len(clean_text_nonorm(ground_truths[\"__ALL__\"]))\n",
    "\n",
    "    # -> Gather each transcribed document and put into dict:\n",
    "\n",
    "    # Structure: results[model][doc]\n",
    "    results = {}\n",
    "\n",
    "    for model_type, model in all_models:\n",
    "        logger.info(\"Collecting results for model: %s\", model)\n",
    "        model_path = os.path.join(txt_output_dir, model_type, model)\n",
    "        results[model_type] = results.get(model_type, {})\n",
    "        results[model_type][model], results[model_type][model][\"__ALL__\"] = get_docs(model_path, doc_names, \"txt\", name_has_prefix=False)\n",
    "        logger.info(\"Collected results for model_type: %s, model: %s\", model_type, model)\n",
    "\n",
    "    # ===============\n",
    "    # Compute metrics\n",
    "    # ===============\n",
    "\n",
    "    normalized_results_data = {}\n",
    "    nonorm_results_data = {}\n",
    "\n",
    "    for model_type, model in all_models:\n",
    "        normalized_results_data[model_type] = normalized_results_data.get(model_type, {})\n",
    "        normalized_results_data[model_type][model] = normalized_results_data[model_type].get(model, {})\n",
    "        nonorm_results_data[model_type] = nonorm_results_data.get(model_type, {})\n",
    "        nonorm_results_data[model_type][model] = nonorm_results_data[model_type].get(model, {})\n",
    "\n",
    "        logger.info(\"Computing metrics for model_type: %s, model: %s\", model_type, model)\n",
    "        for doc in doc_names:\n",
    "            logger.info(\"Computing metrics for document: %s\", doc)\n",
    "            normalized_results_data[model_type][model][doc] = compute_metrics(\n",
    "                ground_truths[doc], results[model_type][model][doc], \"txt\", normalized=True\n",
    "            )\n",
    "            nonorm_results_data[model_type][model][doc] = compute_metrics(\n",
    "                ground_truths[doc], results[model_type][model][doc], \"txt\", normalized=False\n",
    "            )\n",
    "\n",
    "        normalized_results_data[model_type][model][\"__ALL__\"] = compute_metrics(\n",
    "            ground_truths[\"__ALL__\"], results[model_type][model][\"__ALL__\"], \"txt\", normalized=True\n",
    "        )\n",
    "        nonorm_results_data[model_type][model][\"__ALL__\"] = compute_metrics(\n",
    "            ground_truths[\"__ALL__\"], results[model_type][model][\"__ALL__\"], \"txt\", normalized=False\n",
    "        )\n",
    "\n",
    "    # Compute metrics separately for __ALL__]\n",
    "\n",
    "    # ====================\n",
    "    # Put metrics in table\n",
    "    # ====================\n",
    "\n",
    "    time = datetime.now().strftime(\"%Y-%m-%d_%H-%M-%S\")\n",
    "\n",
    "    results_base_dir = root_dir / \"benchmarking-results\" / f\"txt-accuracy\"\n",
    "\n",
    "    # Create different results directory for each model type\n",
    "    for model_type, _ in all_models:\n",
    "        results_dir = results_base_dir / model_type\n",
    "        results_dir.mkdir(parents=True, exist_ok=True)\n",
    "\n",
    "        normalized_df = build_dataframe(\n",
    "            f\"normalized_{time}\",\n",
    "            doc_names,\n",
    "            normalized_results_data[model_type],\n",
    "            doc_lengths_normalized,\n",
    "            total_doc_len_normalized,\n",
    "        )\n",
    "        nonorm_df = build_dataframe(\n",
    "            f\"nonorm_{time}\",\n",
    "            doc_names,\n",
    "            nonorm_results_data[model_type],\n",
    "            doc_lengths_nonorm,\n",
    "            total_doc_len_nonorm,\n",
    "        )\n",
    "\n",
    "        # ============\n",
    "        # Save results\n",
    "        # ============\n",
    "\n",
    "        # # Default save to project_root/benchmarking-results/txt-accuracy\n",
    "        # results_path = os.path.join(project_root, \"benchmarking-results\", \"txt-accuracy\")\n",
    "        # if not os.path.exists(results_path):\n",
    "        #     os.makedirs(results_path)\n",
    "        normalized_df.to_csv(os.path.join(str(results_dir), f\"normalized_{time}.csv\"))\n",
    "        nonorm_df.to_csv(os.path.join(str(results_dir), f\"nonorm_{time}.csv\"))\n",
    "\n",
    "\n",
    "if __name__ == \"__main__\":\n",
    "    main()"
   ]
  },
  {
   "cell_type": "markdown",
   "id": "ea9c620e",
   "metadata": {},
   "source": [
    "b. JSON benchmarking accuracy"
   ]
  },
  {
   "cell_type": "code",
   "execution_count": 9,
   "id": "1d409d49",
   "metadata": {},
   "outputs": [
    {
     "name": "stderr",
     "output_type": "stream",
     "text": [
      "[file retrieval] 2025-07-10 13:02:56 [INFO] Project root: c:\\Users\\vriez\\OneDrive\\Desktop\\Summer MAP\\ocr-benchmarking-1\n",
      "[file retrieval] 2025-07-10 13:02:56 [INFO] Found ground-truth txt files: ['c:\\\\Users\\\\vriez\\\\OneDrive\\\\Desktop\\\\Summer MAP\\\\ocr-benchmarking-1\\\\data\\\\ground-truth\\\\json\\\\gt_kbaa-p003.json', 'c:\\\\Users\\\\vriez\\\\OneDrive\\\\Desktop\\\\Summer MAP\\\\ocr-benchmarking-1\\\\data\\\\ground-truth\\\\json\\\\gt_kbaa-p004.json', 'c:\\\\Users\\\\vriez\\\\OneDrive\\\\Desktop\\\\Summer MAP\\\\ocr-benchmarking-1\\\\data\\\\ground-truth\\\\json\\\\gt_kbaa-p005.json', 'c:\\\\Users\\\\vriez\\\\OneDrive\\\\Desktop\\\\Summer MAP\\\\ocr-benchmarking-1\\\\data\\\\ground-truth\\\\json\\\\gt_kbaa-p006.json', 'c:\\\\Users\\\\vriez\\\\OneDrive\\\\Desktop\\\\Summer MAP\\\\ocr-benchmarking-1\\\\data\\\\ground-truth\\\\json\\\\gt_kbaa-p007.json', 'c:\\\\Users\\\\vriez\\\\OneDrive\\\\Desktop\\\\Summer MAP\\\\ocr-benchmarking-1\\\\data\\\\ground-truth\\\\json\\\\gt_kbaa-p008.json', 'c:\\\\Users\\\\vriez\\\\OneDrive\\\\Desktop\\\\Summer MAP\\\\ocr-benchmarking-1\\\\data\\\\ground-truth\\\\json\\\\gt_kbaa-p009.json', 'c:\\\\Users\\\\vriez\\\\OneDrive\\\\Desktop\\\\Summer MAP\\\\ocr-benchmarking-1\\\\data\\\\ground-truth\\\\json\\\\gt_kbaa-p010.json', 'c:\\\\Users\\\\vriez\\\\OneDrive\\\\Desktop\\\\Summer MAP\\\\ocr-benchmarking-1\\\\data\\\\ground-truth\\\\json\\\\gt_kbaa-p011.json', 'c:\\\\Users\\\\vriez\\\\OneDrive\\\\Desktop\\\\Summer MAP\\\\ocr-benchmarking-1\\\\data\\\\ground-truth\\\\json\\\\gt_kbaa-p012.json', 'c:\\\\Users\\\\vriez\\\\OneDrive\\\\Desktop\\\\Summer MAP\\\\ocr-benchmarking-1\\\\data\\\\ground-truth\\\\json\\\\gt_kbaa-p038.json', 'c:\\\\Users\\\\vriez\\\\OneDrive\\\\Desktop\\\\Summer MAP\\\\ocr-benchmarking-1\\\\data\\\\ground-truth\\\\json\\\\gt_kbaa-p039.json', 'c:\\\\Users\\\\vriez\\\\OneDrive\\\\Desktop\\\\Summer MAP\\\\ocr-benchmarking-1\\\\data\\\\ground-truth\\\\json\\\\gt_kbaa-p043.json', 'c:\\\\Users\\\\vriez\\\\OneDrive\\\\Desktop\\\\Summer MAP\\\\ocr-benchmarking-1\\\\data\\\\ground-truth\\\\json\\\\gt_kbaa-p048.json', 'c:\\\\Users\\\\vriez\\\\OneDrive\\\\Desktop\\\\Summer MAP\\\\ocr-benchmarking-1\\\\data\\\\ground-truth\\\\json\\\\gt_kbaa-p049.json', 'c:\\\\Users\\\\vriez\\\\OneDrive\\\\Desktop\\\\Summer MAP\\\\ocr-benchmarking-1\\\\data\\\\ground-truth\\\\json\\\\gt_kbaa-p058.json', 'c:\\\\Users\\\\vriez\\\\OneDrive\\\\Desktop\\\\Summer MAP\\\\ocr-benchmarking-1\\\\data\\\\ground-truth\\\\json\\\\gt_kbaa-p059.json', 'c:\\\\Users\\\\vriez\\\\OneDrive\\\\Desktop\\\\Summer MAP\\\\ocr-benchmarking-1\\\\data\\\\ground-truth\\\\json\\\\gt_kbaa-p060.json', 'c:\\\\Users\\\\vriez\\\\OneDrive\\\\Desktop\\\\Summer MAP\\\\ocr-benchmarking-1\\\\data\\\\ground-truth\\\\json\\\\gt_kbaa-p061.json', 'c:\\\\Users\\\\vriez\\\\OneDrive\\\\Desktop\\\\Summer MAP\\\\ocr-benchmarking-1\\\\data\\\\ground-truth\\\\json\\\\gt_kbaa-p062.json', 'c:\\\\Users\\\\vriez\\\\OneDrive\\\\Desktop\\\\Summer MAP\\\\ocr-benchmarking-1\\\\data\\\\ground-truth\\\\json\\\\gt_kbaa-p063.json', 'c:\\\\Users\\\\vriez\\\\OneDrive\\\\Desktop\\\\Summer MAP\\\\ocr-benchmarking-1\\\\data\\\\ground-truth\\\\json\\\\gt_kbaa-p064.json', 'c:\\\\Users\\\\vriez\\\\OneDrive\\\\Desktop\\\\Summer MAP\\\\ocr-benchmarking-1\\\\data\\\\ground-truth\\\\json\\\\gt_kbaa-p065.json', 'c:\\\\Users\\\\vriez\\\\OneDrive\\\\Desktop\\\\Summer MAP\\\\ocr-benchmarking-1\\\\data\\\\ground-truth\\\\json\\\\gt_kbaa-p066.json', 'c:\\\\Users\\\\vriez\\\\OneDrive\\\\Desktop\\\\Summer MAP\\\\ocr-benchmarking-1\\\\data\\\\ground-truth\\\\json\\\\gt_kbaa-p067.json', 'c:\\\\Users\\\\vriez\\\\OneDrive\\\\Desktop\\\\Summer MAP\\\\ocr-benchmarking-1\\\\data\\\\ground-truth\\\\json\\\\gt_kbaa-p068.json', 'c:\\\\Users\\\\vriez\\\\OneDrive\\\\Desktop\\\\Summer MAP\\\\ocr-benchmarking-1\\\\data\\\\ground-truth\\\\json\\\\gt_kbaa-p069.json', 'c:\\\\Users\\\\vriez\\\\OneDrive\\\\Desktop\\\\Summer MAP\\\\ocr-benchmarking-1\\\\data\\\\ground-truth\\\\json\\\\gt_kbaa-p070.json', 'c:\\\\Users\\\\vriez\\\\OneDrive\\\\Desktop\\\\Summer MAP\\\\ocr-benchmarking-1\\\\data\\\\ground-truth\\\\json\\\\gt_kbaa-p071.json', 'c:\\\\Users\\\\vriez\\\\OneDrive\\\\Desktop\\\\Summer MAP\\\\ocr-benchmarking-1\\\\data\\\\ground-truth\\\\json\\\\gt_kbaa-p072.json', 'c:\\\\Users\\\\vriez\\\\OneDrive\\\\Desktop\\\\Summer MAP\\\\ocr-benchmarking-1\\\\data\\\\ground-truth\\\\json\\\\gt_kbaa-p073.json', 'c:\\\\Users\\\\vriez\\\\OneDrive\\\\Desktop\\\\Summer MAP\\\\ocr-benchmarking-1\\\\data\\\\ground-truth\\\\json\\\\gt_kbaa-p100.json', 'c:\\\\Users\\\\vriez\\\\OneDrive\\\\Desktop\\\\Summer MAP\\\\ocr-benchmarking-1\\\\data\\\\ground-truth\\\\json\\\\gt_kbaa-p101.json', 'c:\\\\Users\\\\vriez\\\\OneDrive\\\\Desktop\\\\Summer MAP\\\\ocr-benchmarking-1\\\\data\\\\ground-truth\\\\json\\\\gt_kbaa-p106.json', 'c:\\\\Users\\\\vriez\\\\OneDrive\\\\Desktop\\\\Summer MAP\\\\ocr-benchmarking-1\\\\data\\\\ground-truth\\\\json\\\\gt_kbaa-p107.json', 'c:\\\\Users\\\\vriez\\\\OneDrive\\\\Desktop\\\\Summer MAP\\\\ocr-benchmarking-1\\\\data\\\\ground-truth\\\\json\\\\gt_kbaa-p113.json', 'c:\\\\Users\\\\vriez\\\\OneDrive\\\\Desktop\\\\Summer MAP\\\\ocr-benchmarking-1\\\\data\\\\ground-truth\\\\json\\\\gt_kbaa-p114.json', 'c:\\\\Users\\\\vriez\\\\OneDrive\\\\Desktop\\\\Summer MAP\\\\ocr-benchmarking-1\\\\data\\\\ground-truth\\\\json\\\\gt_kbaa-p115.json', 'c:\\\\Users\\\\vriez\\\\OneDrive\\\\Desktop\\\\Summer MAP\\\\ocr-benchmarking-1\\\\data\\\\ground-truth\\\\json\\\\gt_kbaa-p119.json', 'c:\\\\Users\\\\vriez\\\\OneDrive\\\\Desktop\\\\Summer MAP\\\\ocr-benchmarking-1\\\\data\\\\ground-truth\\\\json\\\\gt_kbaa-p121.json', 'c:\\\\Users\\\\vriez\\\\OneDrive\\\\Desktop\\\\Summer MAP\\\\ocr-benchmarking-1\\\\data\\\\ground-truth\\\\json\\\\gt_kbaa-p124.json']\n",
      "[file retrieval] 2025-07-10 13:02:56 [INFO] Found file names: ['gt_kbaa-p003', 'gt_kbaa-p004', 'gt_kbaa-p005', 'gt_kbaa-p006', 'gt_kbaa-p007', 'gt_kbaa-p008', 'gt_kbaa-p009', 'gt_kbaa-p010', 'gt_kbaa-p011', 'gt_kbaa-p012', 'gt_kbaa-p038', 'gt_kbaa-p039', 'gt_kbaa-p043', 'gt_kbaa-p048', 'gt_kbaa-p049', 'gt_kbaa-p058', 'gt_kbaa-p059', 'gt_kbaa-p060', 'gt_kbaa-p061', 'gt_kbaa-p062', 'gt_kbaa-p063', 'gt_kbaa-p064', 'gt_kbaa-p065', 'gt_kbaa-p066', 'gt_kbaa-p067', 'gt_kbaa-p068', 'gt_kbaa-p069', 'gt_kbaa-p070', 'gt_kbaa-p071', 'gt_kbaa-p072', 'gt_kbaa-p073', 'gt_kbaa-p100', 'gt_kbaa-p101', 'gt_kbaa-p106', 'gt_kbaa-p107', 'gt_kbaa-p113', 'gt_kbaa-p114', 'gt_kbaa-p115', 'gt_kbaa-p119', 'gt_kbaa-p121', 'gt_kbaa-p124']\n",
      "[file retrieval] 2025-07-10 13:02:56 [INFO] Models found: [('llm-txt2json', 'gemini-2.5-flash'), ('llm-txt2json', 'gpt-4o')]\n",
      "[file retrieval] 2025-07-10 13:02:56 [INFO] Collected ground truth results: ['kbaa-p003', 'kbaa-p004', 'kbaa-p005', 'kbaa-p006', 'kbaa-p007', 'kbaa-p008', 'kbaa-p009', 'kbaa-p010', 'kbaa-p011', 'kbaa-p012', 'kbaa-p038', 'kbaa-p039', 'kbaa-p043', 'kbaa-p048', 'kbaa-p049', 'kbaa-p058', 'kbaa-p059', 'kbaa-p060', 'kbaa-p061', 'kbaa-p062', 'kbaa-p063', 'kbaa-p064', 'kbaa-p065', 'kbaa-p066', 'kbaa-p067', 'kbaa-p068', 'kbaa-p069', 'kbaa-p070', 'kbaa-p071', 'kbaa-p072', 'kbaa-p073', 'kbaa-p100', 'kbaa-p101', 'kbaa-p106', 'kbaa-p107', 'kbaa-p113', 'kbaa-p114', 'kbaa-p115', 'kbaa-p119', 'kbaa-p121', 'kbaa-p124']\n"
     ]
    },
    {
     "name": "stdout",
     "output_type": "stream",
     "text": [
      "c:\\Users\\vriez\\OneDrive\\Desktop\\Summer MAP\\ocr-benchmarking-1\\results\\json\\llm-txt2json\n"
     ]
    },
    {
     "name": "stderr",
     "output_type": "stream",
     "text": [
      "[file retrieval] 2025-07-10 13:02:57 [INFO] Converted ground truths to dataframes\n",
      "[file retrieval] 2025-07-10 13:02:57 [INFO] Collecting results for model: llm-txt2json/gemini-2.5-flash\n"
     ]
    },
    {
     "ename": "IndexError",
     "evalue": "list index out of range",
     "output_type": "error",
     "traceback": [
      "\u001b[31m---------------------------------------------------------------------------\u001b[39m",
      "\u001b[31mIndexError\u001b[39m                                Traceback (most recent call last)",
      "\u001b[36mCell\u001b[39m\u001b[36m \u001b[39m\u001b[32mIn[9]\u001b[39m\u001b[32m, line 154\u001b[39m\n\u001b[32m    149\u001b[39m         fuzzy_df.to_csv(os.path.join(results_path, \u001b[33mf\u001b[39m\u001b[33m\"\u001b[39m\u001b[38;5;132;01m{\u001b[39;00mmodel_type\u001b[38;5;132;01m}\u001b[39;00m\u001b[33m_fuzzy_\u001b[39m\u001b[38;5;132;01m{\u001b[39;00mtime\u001b[38;5;132;01m}\u001b[39;00m\u001b[33m.csv\u001b[39m\u001b[33m\"\u001b[39m))\n\u001b[32m    153\u001b[39m \u001b[38;5;28;01mif\u001b[39;00m \u001b[34m__name__\u001b[39m == \u001b[33m\"\u001b[39m\u001b[33m__main__\u001b[39m\u001b[33m\"\u001b[39m:\n\u001b[32m--> \u001b[39m\u001b[32m154\u001b[39m     \u001b[43mmain\u001b[49m\u001b[43m(\u001b[49m\u001b[43m)\u001b[49m\n",
      "\u001b[36mCell\u001b[39m\u001b[36m \u001b[39m\u001b[32mIn[9]\u001b[39m\u001b[32m, line 85\u001b[39m, in \u001b[36mmain\u001b[39m\u001b[34m()\u001b[39m\n\u001b[32m     82\u001b[39m logger.info(\u001b[33m\"\u001b[39m\u001b[33mCollecting results for model: \u001b[39m\u001b[38;5;132;01m%s\u001b[39;00m\u001b[33m/\u001b[39m\u001b[38;5;132;01m%s\u001b[39;00m\u001b[33m\"\u001b[39m, model_type, model)\n\u001b[32m     84\u001b[39m model_path = os.path.join(root_dir, \u001b[33m\"\u001b[39m\u001b[33mresults\u001b[39m\u001b[33m\"\u001b[39m, model_type, model)\n\u001b[32m---> \u001b[39m\u001b[32m85\u001b[39m results_json[model], _ = \u001b[43mget_docs\u001b[49m\u001b[43m(\u001b[49m\n\u001b[32m     86\u001b[39m \u001b[43m    \u001b[49m\u001b[43mmodel_path\u001b[49m\u001b[43m,\u001b[49m\u001b[43m \u001b[49m\u001b[43mdoc_names\u001b[49m\u001b[43m,\u001b[49m\u001b[43m \u001b[49m\u001b[33;43m\"\u001b[39;49m\u001b[33;43mjson\u001b[39;49m\u001b[33;43m\"\u001b[39;49m\u001b[43m,\u001b[49m\u001b[43m \u001b[49m\u001b[43mname_has_prefix\u001b[49m\u001b[43m=\u001b[49m\u001b[38;5;28;43;01mTrue\u001b[39;49;00m\n\u001b[32m     87\u001b[39m \u001b[43m\u001b[49m\u001b[43m)\u001b[49m\n\u001b[32m     89\u001b[39m logger.info(\u001b[33m\"\u001b[39m\u001b[33mCollected results for model: \u001b[39m\u001b[38;5;132;01m%s\u001b[39;00m\u001b[33m\"\u001b[39m, \u001b[38;5;28mlist\u001b[39m(results_json[model].keys()))\n\u001b[32m     91\u001b[39m results_df[model] = {\n\u001b[32m     92\u001b[39m     doc_name: filter_expected_columns(pd.DataFrame(doc_json[\u001b[33m'\u001b[39m\u001b[33mentries\u001b[39m\u001b[33m'\u001b[39m])) \u001b[38;5;28;01mfor\u001b[39;00m doc_name, doc_json \u001b[38;5;129;01min\u001b[39;00m results_json[model].items()\n\u001b[32m     93\u001b[39m }\n",
      "\u001b[36mFile \u001b[39m\u001b[32m~\\OneDrive\\Desktop\\Summer MAP\\ocr-benchmarking-1\\src\\tools\\file_retrieval.py:105\u001b[39m, in \u001b[36mget_docs\u001b[39m\u001b[34m(dir, doc_names, doc_format, name_has_prefix)\u001b[39m\n\u001b[32m    101\u001b[39m doc_pattern = (\n\u001b[32m    102\u001b[39m     \u001b[33mf\u001b[39m\u001b[33m\"\u001b[39m\u001b[33m*\u001b[39m\u001b[38;5;132;01m{\u001b[39;00mdoc\u001b[38;5;132;01m}\u001b[39;00m\u001b[33m.\u001b[39m\u001b[38;5;132;01m{\u001b[39;00mdoc_format\u001b[38;5;132;01m}\u001b[39;00m\u001b[33m\"\u001b[39m \u001b[38;5;28;01mif\u001b[39;00m name_has_prefix \u001b[38;5;28;01melse\u001b[39;00m \u001b[33mf\u001b[39m\u001b[33m\"\u001b[39m\u001b[38;5;132;01m{\u001b[39;00mdoc\u001b[38;5;132;01m}\u001b[39;00m\u001b[33m.\u001b[39m\u001b[38;5;132;01m{\u001b[39;00mdoc_format\u001b[38;5;132;01m}\u001b[39;00m\u001b[33m\"\u001b[39m\n\u001b[32m    103\u001b[39m )\n\u001b[32m    104\u001b[39m paths = glob.glob(os.path.join(\u001b[38;5;28mdir\u001b[39m, doc_pattern))\n\u001b[32m--> \u001b[39m\u001b[32m105\u001b[39m \u001b[38;5;28;01mwith\u001b[39;00m \u001b[38;5;28mopen\u001b[39m(\u001b[43mpaths\u001b[49m\u001b[43m[\u001b[49m\u001b[32;43m0\u001b[39;49m\u001b[43m]\u001b[49m, \u001b[33m\"\u001b[39m\u001b[33mr\u001b[39m\u001b[33m\"\u001b[39m, encoding=\u001b[33m\"\u001b[39m\u001b[33mutf-8\u001b[39m\u001b[33m\"\u001b[39m) \u001b[38;5;28;01mas\u001b[39;00m f:\n\u001b[32m    106\u001b[39m     \u001b[38;5;66;03m# If data is txt parse it as text else parse as json (separate file reading functions)\u001b[39;00m\n\u001b[32m    107\u001b[39m     data = f.read()\n\u001b[32m    108\u001b[39m     \u001b[38;5;28;01mif\u001b[39;00m doc_format == \u001b[33m\"\u001b[39m\u001b[33mjson\u001b[39m\u001b[33m\"\u001b[39m:\n",
      "\u001b[31mIndexError\u001b[39m: list index out of range"
     ]
    }
   ],
   "source": [
    "import glob\n",
    "import json\n",
    "import sys\n",
    "sys.path.append(str(Path.cwd().\n",
    "parent))\n",
    "from benchmarking.json_accuracy import filter_expected_columns, build_dataframe, compare_dataframes_normalized, compare_dataframes_exact, compare_dataframes_fuzzy\n",
    "from tools.file_retrieval import get_doc_names, get_docs, get_all_models\n",
    "from venv import logger\n",
    "from datetime import datetime\n",
    "import pandas as pd\n",
    "\n",
    "def main():\n",
    "    \"\"\"\n",
    "    Prerequisites:\n",
    "    - Ground truth JSON files located at `project_root/ground-truth/json/gt_kbaa-pXYZ.json`\n",
    "    - LLM/OCR transcribed JSON files located at:\n",
    "        - for ground truth text to JSON via LLM:\n",
    "            - `project_root/results/gt-txt2json/<MODEL-NAME>/<MODEL-NAME>_img_kbaa-pXYZ.json`\n",
    "        - for OCR text to JSON via LLM:\n",
    "            - `project_root/results/ocr-txt2json/<MODEL-NAME>/<MODEL-NAME>_img_kbaa-pXYZ.json`\n",
    "        - for image to JSON via LLM:\n",
    "            - `project_root/results/llm-img2json/<MODEL-NAME>/<MODEL-NAME>_img_kbaa-pXYZ.json`\n",
    "        - for text to JSON via LLM:\n",
    "            - `project_root/results/llm-txt2json/<MODEL-NAME>/<MODEL-NAME>_img_kbaa-pXYZ.json`\n",
    "\n",
    "    The main function will:\n",
    "    - Gather all ground truth JSON files\n",
    "    - For each ground truth JSON file and for each LLM/OCR model, open the JSON file's entries object as a Pandas dataframe\n",
    "    - Clean all the JSON files (either basic cleaning and normalization)\n",
    "    - Compute metrics for each file and model\n",
    "    - Save results in two CSV files (one for normalized, one for non-normalized)\n",
    "        - Results are saved in `project_root/benchmarking-results/txt-accuracy`\n",
    "    \"\"\"\n",
    "\n",
    "    # =============\n",
    "    # Preliminaries\n",
    "    # =============\n",
    "\n",
    "    #logger.info(\"Script directory: %s\", script_dir)\n",
    "    logger.info(\"Project root: %s\", root_dir)\n",
    "\n",
    "    # Ground truth\n",
    "    ground_truth_dir = os.path.join(root_dir, \"data\", \"ground-truth\", \"json\")\n",
    "    doc_names = get_doc_names(ground_truth_dir, \"json\", keep_prefix=False)\n",
    "\n",
    "    # results/ paths\n",
    "    all_models = get_all_models(\n",
    "        #os.path.join(root_dir, \"results\", \"gt-txt2json\"),\n",
    "        #os.path.join(root_dir, \"results\", \"ocr-txt2json\"),\n",
    "        os.path.join(root_dir, \"results\", \"json\", \"llm-img2json\"),\n",
    "        os.path.join(root_dir, \"results\", \"json\", \"llm-txt2json\")\n",
    "    )\n",
    "    logger.info(f\"Models found: {all_models}\")\n",
    "\n",
    "    # ===========\n",
    "    # Gather files\n",
    "    # ===========\n",
    "\n",
    "    # -> Gather ground truths and put into dict:\n",
    "\n",
    "    ground_truths_json, _ = get_docs(\n",
    "        ground_truth_dir, doc_names, \"json\", name_has_prefix=True\n",
    "    )\n",
    "\n",
    "    logger.info(\"Collected ground truth results: %s\", list(ground_truths_json.keys()))\n",
    "\n",
    "    # Convert JSON to dataframe\n",
    "\n",
    "    ground_truths_df = {\n",
    "        doc_name: filter_expected_columns(pd.DataFrame(doc_json['entries'])) for doc_name, doc_json in ground_truths_json.items()\n",
    "    }\n",
    "\n",
    "    logger.info(\"Converted ground truths to dataframes\")\n",
    "\n",
    "    # -> Gather each transcribed document and put into dict:\n",
    "\n",
    "    # Structure: results[model][doc]\n",
    "    results_json = {}\n",
    "    results_df = {}\n",
    "\n",
    "    for model_type, model in all_models:\n",
    "        logger.info(\"Collecting results for model: %s/%s\", model_type, model)\n",
    "\n",
    "        model_path = os.path.join(root_dir, \"results\", model_type, model)\n",
    "        results_json[model], _ = get_docs(\n",
    "            model_path, doc_names, \"json\", name_has_prefix=True\n",
    "        )\n",
    "\n",
    "        logger.info(\"Collected results for model: %s\", list(results_json[model].keys()))\n",
    "\n",
    "        results_df[model] = {\n",
    "            doc_name: filter_expected_columns(pd.DataFrame(doc_json['entries'])) for doc_name, doc_json in results_json[model].items()\n",
    "        }\n",
    "\n",
    "        logger.info(\"Converted results to dataframes\")\n",
    "\n",
    "\n",
    "    # ===============\n",
    "    # Compute metrics\n",
    "    # ===============\n",
    "\n",
    "    normalized_results_data = {}\n",
    "    nonorm_results_data = {}\n",
    "    fuzzy_results_data = {}\n",
    "\n",
    "    for model_type, model in all_models:\n",
    "        normalized_results_data[model_type] = normalized_results_data.get(model_type, {})\n",
    "        normalized_results_data[model_type][model] = normalized_results_data[model_type].get(model, {})\n",
    "\n",
    "        nonorm_results_data[model_type] = nonorm_results_data.get(model_type, {})\n",
    "        nonorm_results_data[model_type][model] = nonorm_results_data[model_type].get(model, {})\n",
    "\n",
    "        fuzzy_results_data[model_type] = fuzzy_results_data.get(model_type, {})\n",
    "        fuzzy_results_data[model_type][model] = fuzzy_results_data[model_type].get(model, {})\n",
    "        \n",
    "        logger.info(\"Computing metrics for model: %s\", model)\n",
    "\n",
    "        for doc in doc_names:\n",
    "            logger.info(\"Computing metrics for document: %s\", doc)\n",
    "\n",
    "            normalized_results_data[model_type][model][doc] = compare_dataframes_normalized(\n",
    "                ground_truths_df[doc], results_df[model][doc]\n",
    "            )\n",
    "            nonorm_results_data[model_type][model][doc] = compare_dataframes_exact(\n",
    "                ground_truths_df[doc], results_df[model][doc]\n",
    "            )\n",
    "            fuzzy_results_data[model_type][model][doc] = compare_dataframes_fuzzy(\n",
    "                ground_truths_df[doc], results_df[model][doc]\n",
    "            )\n",
    "\n",
    "\n",
    "    # =====================================\n",
    "    # Put metrics in table and save results\n",
    "    # =====================================\n",
    "\n",
    "    time = datetime.now().strftime(\"%Y-%m-%d_%H-%M-%S\")\n",
    "    # Iterate over model types:\n",
    "    for model_type in normalized_results_data.keys():\n",
    "        normalized_df = build_dataframe(f\"{model_type}_normalized_{time}\", doc_names, normalized_results_data[model_type])\n",
    "        nonorm_df = build_dataframe(f\"{model_type}_nonorm_{time}\", doc_names, nonorm_results_data[model_type])\n",
    "        fuzzy_df = build_dataframe(f\"{model_type}_fuzzy_{time}\", doc_names, fuzzy_results_data[model_type])\n",
    "\n",
    "        results_path = os.path.join(root_dir, \"benchmarking-results\", \"json-accuracy\", model_type)\n",
    "        if not os.path.exists(results_path):\n",
    "            os.makedirs(results_path)\n",
    "\n",
    "        normalized_df.to_csv(os.path.join(results_path, f\"{model_type}_normalized_{time}.csv\"))\n",
    "        nonorm_df.to_csv(os.path.join(results_path, f\"{model_type}_nonorm_{time}.csv\"))\n",
    "        fuzzy_df.to_csv(os.path.join(results_path, f\"{model_type}_fuzzy_{time}.csv\"))\n",
    "    \n",
    "\n",
    "\n",
    "if __name__ == \"__main__\":\n",
    "    main()"
   ]
  }
 ],
 "metadata": {
  "kernelspec": {
   "display_name": ".venv",
   "language": "python",
   "name": "python3"
  },
  "language_info": {
   "codemirror_mode": {
    "name": "ipython",
    "version": 3
   },
   "file_extension": ".py",
   "mimetype": "text/x-python",
   "name": "python",
   "nbconvert_exporter": "python",
   "pygments_lexer": "ipython3",
   "version": "3.12.9"
  }
 },
 "nbformat": 4,
 "nbformat_minor": 5
}
